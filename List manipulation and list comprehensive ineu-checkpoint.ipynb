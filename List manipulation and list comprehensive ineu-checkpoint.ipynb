{
 "cells": [
  {
   "cell_type": "code",
   "execution_count": 1,
   "id": "b429df10",
   "metadata": {},
   "outputs": [],
   "source": [
    "l = [\"syed\" , 31546,314,[46,245,1,\"jdgsj\"],True]"
   ]
  },
  {
   "cell_type": "code",
   "execution_count": 2,
   "id": "0071a895",
   "metadata": {},
   "outputs": [
    {
     "data": {
      "text/plain": [
       "['syed', 31546, 314, [46, 245, 1, 'jdgsj'], True]"
      ]
     },
     "execution_count": 2,
     "metadata": {},
     "output_type": "execute_result"
    }
   ],
   "source": [
    "l"
   ]
  },
  {
   "cell_type": "code",
   "execution_count": 5,
   "id": "05c79641",
   "metadata": {},
   "outputs": [
    {
     "name": "stdout",
     "output_type": "stream",
     "text": [
      "syed\n",
      "31546\n",
      "314\n",
      "[46, 245, 1, 'jdgsj']\n",
      "True\n"
     ]
    }
   ],
   "source": [
    "for i in l:\n",
    "    print(i)"
   ]
  },
  {
   "cell_type": "code",
   "execution_count": 6,
   "id": "c6ff8d84",
   "metadata": {},
   "outputs": [
    {
     "data": {
      "text/plain": [
       "'syed'"
      ]
     },
     "execution_count": 6,
     "metadata": {},
     "output_type": "execute_result"
    }
   ],
   "source": [
    "l[0]"
   ]
  },
  {
   "cell_type": "code",
   "execution_count": 9,
   "id": "c37b66ed",
   "metadata": {},
   "outputs": [
    {
     "data": {
      "text/plain": [
       "[True, [46, 245, 1, 'jdgsj'], 314, 31546, 'syed']"
      ]
     },
     "execution_count": 9,
     "metadata": {},
     "output_type": "execute_result"
    }
   ],
   "source": [
    "l[::-1]"
   ]
  },
  {
   "cell_type": "code",
   "execution_count": 10,
   "id": "e37f1995",
   "metadata": {},
   "outputs": [
    {
     "name": "stdout",
     "output_type": "stream",
     "text": [
      "no element is not a list syed\n",
      "no element is not a list 31546\n",
      "no element is not a list 314\n",
      "this is a list [46, 245, 1, 'jdgsj']\n",
      "no element is not a list True\n"
     ]
    }
   ],
   "source": [
    "for i in l:\n",
    "    if type(i)== list :\n",
    "        print(\"this is a list\", i)\n",
    "    else:\n",
    "        print(\"no element is not a list\", i)"
   ]
  },
  {
   "cell_type": "code",
   "execution_count": 11,
   "id": "446cece7",
   "metadata": {},
   "outputs": [
    {
     "data": {
      "text/plain": [
       "['syed', 31546, 314, [46, 245, 1, 'jdgsj'], True]"
      ]
     },
     "execution_count": 11,
     "metadata": {},
     "output_type": "execute_result"
    }
   ],
   "source": [
    "l"
   ]
  },
  {
   "cell_type": "code",
   "execution_count": 12,
   "id": "fbca6898",
   "metadata": {},
   "outputs": [],
   "source": [
    "l1=[\"fayeque\",324,346]"
   ]
  },
  {
   "cell_type": "code",
   "execution_count": 13,
   "id": "0fbdb12b",
   "metadata": {},
   "outputs": [
    {
     "data": {
      "text/plain": [
       "['syed', 31546, 314, [46, 245, 1, 'jdgsj'], True, 'fayeque', 324, 346]"
      ]
     },
     "execution_count": 13,
     "metadata": {},
     "output_type": "execute_result"
    }
   ],
   "source": [
    "l + l1"
   ]
  },
  {
   "cell_type": "code",
   "execution_count": 14,
   "id": "92abe008",
   "metadata": {},
   "outputs": [
    {
     "data": {
      "text/plain": [
       "['syed',\n",
       " 31546,\n",
       " 314,\n",
       " [46, 245, 1, 'jdgsj'],\n",
       " True,\n",
       " 'syed',\n",
       " 31546,\n",
       " 314,\n",
       " [46, 245, 1, 'jdgsj'],\n",
       " True]"
      ]
     },
     "execution_count": 14,
     "metadata": {},
     "output_type": "execute_result"
    }
   ],
   "source": [
    "l* 2"
   ]
  },
  {
   "cell_type": "code",
   "execution_count": 15,
   "id": "adbd117f",
   "metadata": {},
   "outputs": [
    {
     "data": {
      "text/plain": [
       "5"
      ]
     },
     "execution_count": 15,
     "metadata": {},
     "output_type": "execute_result"
    }
   ],
   "source": [
    "len(l)"
   ]
  },
  {
   "cell_type": "code",
   "execution_count": 16,
   "id": "06a36050",
   "metadata": {},
   "outputs": [
    {
     "data": {
      "text/plain": [
       "True"
      ]
     },
     "execution_count": 16,
     "metadata": {},
     "output_type": "execute_result"
    }
   ],
   "source": [
    "True in l"
   ]
  },
  {
   "cell_type": "code",
   "execution_count": 17,
   "id": "03e4cee5",
   "metadata": {},
   "outputs": [
    {
     "data": {
      "text/plain": [
       "False"
      ]
     },
     "execution_count": 17,
     "metadata": {},
     "output_type": "execute_result"
    }
   ],
   "source": [
    "246 in l"
   ]
  },
  {
   "cell_type": "code",
   "execution_count": 18,
   "id": "dfdfb052",
   "metadata": {},
   "outputs": [
    {
     "name": "stdout",
     "output_type": "stream",
     "text": [
      "5\n"
     ]
    }
   ],
   "source": [
    "print(max([2,3,4,5]))"
   ]
  },
  {
   "cell_type": "code",
   "execution_count": 19,
   "id": "5fb18976",
   "metadata": {},
   "outputs": [
    {
     "ename": "TypeError",
     "evalue": "'>' not supported between instances of 'int' and 'str'",
     "output_type": "error",
     "traceback": [
      "\u001b[1;31m---------------------------------------------------------------------------\u001b[0m",
      "\u001b[1;31mTypeError\u001b[0m                                 Traceback (most recent call last)",
      "\u001b[1;32m~\\AppData\\Local\\Temp/ipykernel_4284/2142242846.py\u001b[0m in \u001b[0;36m<module>\u001b[1;34m\u001b[0m\n\u001b[1;32m----> 1\u001b[1;33m \u001b[0mmax\u001b[0m\u001b[1;33m(\u001b[0m\u001b[1;33m[\u001b[0m\u001b[1;34m\"sgdh\"\u001b[0m\u001b[1;33m,\u001b[0m \u001b[1;34m\"hfhcjdh\"\u001b[0m\u001b[1;33m,\u001b[0m \u001b[1;36m246\u001b[0m\u001b[1;33m]\u001b[0m\u001b[1;33m)\u001b[0m\u001b[1;33m\u001b[0m\u001b[1;33m\u001b[0m\u001b[0m\n\u001b[0m",
      "\u001b[1;31mTypeError\u001b[0m: '>' not supported between instances of 'int' and 'str'"
     ]
    }
   ],
   "source": [
    "max([\"sgdh\", \"hfhcjdh\", 246])"
   ]
  },
  {
   "cell_type": "code",
   "execution_count": 24,
   "id": "eb776fe7",
   "metadata": {},
   "outputs": [
    {
     "data": {
      "text/plain": [
       "'z'"
      ]
     },
     "execution_count": 24,
     "metadata": {},
     "output_type": "execute_result"
    }
   ],
   "source": [
    "max([\"syed\", \"jffjjf\", \"aiml\",\"z\"])"
   ]
  },
  {
   "cell_type": "code",
   "execution_count": 3,
   "id": "ce89af51",
   "metadata": {},
   "outputs": [
    {
     "data": {
      "text/plain": [
       "'a'"
      ]
     },
     "execution_count": 3,
     "metadata": {},
     "output_type": "execute_result"
    }
   ],
   "source": [
    "min([\"gdfjfu\",\"a\",\"sfdfs\",\"ff\"])"
   ]
  },
  {
   "cell_type": "code",
   "execution_count": 26,
   "id": "3ac071c0",
   "metadata": {},
   "outputs": [
    {
     "data": {
      "text/plain": [
       "0"
      ]
     },
     "execution_count": 26,
     "metadata": {},
     "output_type": "execute_result"
    }
   ],
   "source": [
    "min([1,2,3,4,5,0])"
   ]
  },
  {
   "cell_type": "code",
   "execution_count": 28,
   "id": "3be66b8f",
   "metadata": {},
   "outputs": [
    {
     "ename": "TypeError",
     "evalue": "'<' not supported between instances of 'int' and 'str'",
     "output_type": "error",
     "traceback": [
      "\u001b[1;31m---------------------------------------------------------------------------\u001b[0m",
      "\u001b[1;31mTypeError\u001b[0m                                 Traceback (most recent call last)",
      "\u001b[1;32m~\\AppData\\Local\\Temp/ipykernel_4284/1203161156.py\u001b[0m in \u001b[0;36m<module>\u001b[1;34m\u001b[0m\n\u001b[1;32m----> 1\u001b[1;33m \u001b[0mmin\u001b[0m\u001b[1;33m(\u001b[0m\u001b[1;34m\"hchg\"\u001b[0m\u001b[1;33m,\u001b[0m \u001b[1;36m3234\u001b[0m\u001b[1;33m,\u001b[0m\u001b[1;34m\"2154\"\u001b[0m\u001b[1;33m,\u001b[0m\u001b[1;36m2154\u001b[0m\u001b[1;33m,\u001b[0m\u001b[1;34m\"dsfdfs\"\u001b[0m\u001b[1;33m)\u001b[0m\u001b[1;33m\u001b[0m\u001b[1;33m\u001b[0m\u001b[0m\n\u001b[0m",
      "\u001b[1;31mTypeError\u001b[0m: '<' not supported between instances of 'int' and 'str'"
     ]
    }
   ],
   "source": [
    "min(\"hchg\", 3234,\"2154\",2154,\"dsfdfs\")"
   ]
  },
  {
   "cell_type": "code",
   "execution_count": 4,
   "id": "ca0f8465",
   "metadata": {},
   "outputs": [],
   "source": [
    "l=[1,2,3,4]"
   ]
  },
  {
   "cell_type": "code",
   "execution_count": 9,
   "id": "b9f0b0e0",
   "metadata": {},
   "outputs": [],
   "source": [
    "l.append(6+6j)"
   ]
  },
  {
   "cell_type": "code",
   "execution_count": 10,
   "id": "bfb1a0ad",
   "metadata": {},
   "outputs": [
    {
     "data": {
      "text/plain": [
       "[1, 2, 3, 4, 'syed', [1, 2, 3, 4, 5, 6], (6+6j)]"
      ]
     },
     "execution_count": 10,
     "metadata": {},
     "output_type": "execute_result"
    }
   ],
   "source": [
    "l"
   ]
  },
  {
   "cell_type": "code",
   "execution_count": 11,
   "id": "b10ee5da",
   "metadata": {},
   "outputs": [
    {
     "data": {
      "text/plain": [
       "[1, 2, 3, 4, 'syed', [1, 2, 3, 4, 5, 6], (6+6j)]"
      ]
     },
     "execution_count": 11,
     "metadata": {},
     "output_type": "execute_result"
    }
   ],
   "source": [
    "l"
   ]
  },
  {
   "cell_type": "code",
   "execution_count": 12,
   "id": "a9489021",
   "metadata": {},
   "outputs": [
    {
     "ename": "TypeError",
     "evalue": "can only concatenate list (not \"str\") to list",
     "output_type": "error",
     "traceback": [
      "\u001b[1;31m---------------------------------------------------------------------------\u001b[0m",
      "\u001b[1;31mTypeError\u001b[0m                                 Traceback (most recent call last)",
      "\u001b[1;32m~\\AppData\\Local\\Temp/ipykernel_13004/429959170.py\u001b[0m in \u001b[0;36m<module>\u001b[1;34m\u001b[0m\n\u001b[1;32m----> 1\u001b[1;33m \u001b[0ml\u001b[0m \u001b[1;33m+\u001b[0m \u001b[1;34m\"syed\"\u001b[0m\u001b[1;33m\u001b[0m\u001b[1;33m\u001b[0m\u001b[0m\n\u001b[0m",
      "\u001b[1;31mTypeError\u001b[0m: can only concatenate list (not \"str\") to list"
     ]
    }
   ],
   "source": [
    "l + \"syed\""
   ]
  },
  {
   "cell_type": "code",
   "execution_count": 13,
   "id": "fc6151ce",
   "metadata": {},
   "outputs": [],
   "source": [
    "l.append(\"syed\")"
   ]
  },
  {
   "cell_type": "code",
   "execution_count": 14,
   "id": "d7c6f0cd",
   "metadata": {},
   "outputs": [
    {
     "data": {
      "text/plain": [
       "[1, 2, 3, 4, 'syed', [1, 2, 3, 4, 5, 6], (6+6j), 'syed']"
      ]
     },
     "execution_count": 14,
     "metadata": {},
     "output_type": "execute_result"
    }
   ],
   "source": [
    "l"
   ]
  },
  {
   "cell_type": "code",
   "execution_count": 15,
   "id": "00c5f0c6",
   "metadata": {},
   "outputs": [],
   "source": [
    "l = [1,2,3,4,5]"
   ]
  },
  {
   "cell_type": "code",
   "execution_count": 16,
   "id": "25e41490",
   "metadata": {},
   "outputs": [],
   "source": [
    "l.append(\"syed\")"
   ]
  },
  {
   "cell_type": "code",
   "execution_count": 17,
   "id": "ba95af9e",
   "metadata": {},
   "outputs": [
    {
     "data": {
      "text/plain": [
       "[1, 2, 3, 4, 5, 'syed']"
      ]
     },
     "execution_count": 17,
     "metadata": {},
     "output_type": "execute_result"
    }
   ],
   "source": [
    "l"
   ]
  },
  {
   "cell_type": "code",
   "execution_count": 18,
   "id": "099bd919",
   "metadata": {},
   "outputs": [],
   "source": [
    "l.insert(3,\"good boy\")"
   ]
  },
  {
   "cell_type": "code",
   "execution_count": 19,
   "id": "80f389e8",
   "metadata": {},
   "outputs": [
    {
     "data": {
      "text/plain": [
       "[1, 2, 3, 'good boy', 4, 5, 'syed']"
      ]
     },
     "execution_count": 19,
     "metadata": {},
     "output_type": "execute_result"
    }
   ],
   "source": [
    "l"
   ]
  },
  {
   "cell_type": "code",
   "execution_count": 20,
   "id": "e43f5d8e",
   "metadata": {},
   "outputs": [],
   "source": [
    "l.insert(-1,\"test\")"
   ]
  },
  {
   "cell_type": "code",
   "execution_count": 21,
   "id": "fc956e21",
   "metadata": {},
   "outputs": [
    {
     "data": {
      "text/plain": [
       "[1, 2, 3, 'good boy', 4, 5, 'test', 'syed']"
      ]
     },
     "execution_count": 21,
     "metadata": {},
     "output_type": "execute_result"
    }
   ],
   "source": [
    "l"
   ]
  },
  {
   "cell_type": "code",
   "execution_count": 22,
   "id": "7dd45175",
   "metadata": {},
   "outputs": [
    {
     "data": {
      "text/plain": [
       "1"
      ]
     },
     "execution_count": 22,
     "metadata": {},
     "output_type": "execute_result"
    }
   ],
   "source": [
    "l.count(\"test\")"
   ]
  },
  {
   "cell_type": "code",
   "execution_count": 23,
   "id": "44f53744",
   "metadata": {},
   "outputs": [
    {
     "data": {
      "text/plain": [
       "0"
      ]
     },
     "execution_count": 23,
     "metadata": {},
     "output_type": "execute_result"
    }
   ],
   "source": [
    "l.count(\"d\")"
   ]
  },
  {
   "cell_type": "code",
   "execution_count": 24,
   "id": "73cabac6",
   "metadata": {},
   "outputs": [
    {
     "data": {
      "text/plain": [
       "0"
      ]
     },
     "execution_count": 24,
     "metadata": {},
     "output_type": "execute_result"
    }
   ],
   "source": [
    "l.count(\"boy\")"
   ]
  },
  {
   "cell_type": "code",
   "execution_count": 25,
   "id": "a2e3a010",
   "metadata": {},
   "outputs": [
    {
     "data": {
      "text/plain": [
       "1"
      ]
     },
     "execution_count": 25,
     "metadata": {},
     "output_type": "execute_result"
    }
   ],
   "source": [
    "l.count(\"good boy\")"
   ]
  },
  {
   "cell_type": "code",
   "execution_count": 26,
   "id": "b23339a7",
   "metadata": {},
   "outputs": [],
   "source": [
    "l = [1,2,3,4,5,6]"
   ]
  },
  {
   "cell_type": "code",
   "execution_count": 27,
   "id": "01bb0a66",
   "metadata": {},
   "outputs": [],
   "source": [
    "l.append(\"syed\")"
   ]
  },
  {
   "cell_type": "code",
   "execution_count": 28,
   "id": "934f902b",
   "metadata": {},
   "outputs": [
    {
     "data": {
      "text/plain": [
       "[1, 2, 3, 4, 5, 6, 'syed']"
      ]
     },
     "execution_count": 28,
     "metadata": {},
     "output_type": "execute_result"
    }
   ],
   "source": [
    "l"
   ]
  },
  {
   "cell_type": "code",
   "execution_count": 29,
   "id": "caa1c228",
   "metadata": {},
   "outputs": [],
   "source": [
    "l.append([1,2,3,4,5])"
   ]
  },
  {
   "cell_type": "code",
   "execution_count": 30,
   "id": "0692e021",
   "metadata": {},
   "outputs": [
    {
     "data": {
      "text/plain": [
       "[1, 2, 3, 4, 5, 6, 'syed', [1, 2, 3, 4, 5]]"
      ]
     },
     "execution_count": 30,
     "metadata": {},
     "output_type": "execute_result"
    }
   ],
   "source": [
    "l"
   ]
  },
  {
   "cell_type": "code",
   "execution_count": 31,
   "id": "1008f2d1",
   "metadata": {},
   "outputs": [],
   "source": [
    "l.extend(\"test1\")"
   ]
  },
  {
   "cell_type": "code",
   "execution_count": 32,
   "id": "50395d8d",
   "metadata": {},
   "outputs": [
    {
     "data": {
      "text/plain": [
       "[1, 2, 3, 4, 5, 6, 'syed', [1, 2, 3, 4, 5], 't', 'e', 's', 't', '1']"
      ]
     },
     "execution_count": 32,
     "metadata": {},
     "output_type": "execute_result"
    }
   ],
   "source": [
    "l"
   ]
  },
  {
   "cell_type": "code",
   "execution_count": 34,
   "id": "c15bed35",
   "metadata": {},
   "outputs": [
    {
     "data": {
      "text/plain": [
       "['t', 'e', 's', 't']"
      ]
     },
     "execution_count": 34,
     "metadata": {},
     "output_type": "execute_result"
    }
   ],
   "source": [
    "s = \"test\"\n",
    "list(s)"
   ]
  },
  {
   "cell_type": "code",
   "execution_count": 35,
   "id": "720447af",
   "metadata": {},
   "outputs": [
    {
     "ename": "TypeError",
     "evalue": "'int' object is not iterable",
     "output_type": "error",
     "traceback": [
      "\u001b[1;31m---------------------------------------------------------------------------\u001b[0m",
      "\u001b[1;31mTypeError\u001b[0m                                 Traceback (most recent call last)",
      "\u001b[1;32m~\\AppData\\Local\\Temp/ipykernel_13004/2340547473.py\u001b[0m in \u001b[0;36m<module>\u001b[1;34m\u001b[0m\n\u001b[1;32m----> 1\u001b[1;33m \u001b[0ml\u001b[0m\u001b[1;33m.\u001b[0m\u001b[0mextend\u001b[0m\u001b[1;33m(\u001b[0m\u001b[1;36m48\u001b[0m\u001b[1;33m)\u001b[0m\u001b[1;33m\u001b[0m\u001b[1;33m\u001b[0m\u001b[0m\n\u001b[0m",
      "\u001b[1;31mTypeError\u001b[0m: 'int' object is not iterable"
     ]
    }
   ],
   "source": [
    "l.extend(48)"
   ]
  },
  {
   "cell_type": "code",
   "execution_count": 36,
   "id": "a1ee9b23",
   "metadata": {},
   "outputs": [],
   "source": [
    "l.extend(\"45\")"
   ]
  },
  {
   "cell_type": "code",
   "execution_count": 37,
   "id": "df72fbcb",
   "metadata": {},
   "outputs": [
    {
     "data": {
      "text/plain": [
       "[1, 2, 3, 4, 5, 6, 'syed', [1, 2, 3, 4, 5], 't', 'e', 's', 't', '1', '4', '5']"
      ]
     },
     "execution_count": 37,
     "metadata": {},
     "output_type": "execute_result"
    }
   ],
   "source": [
    "l"
   ]
  },
  {
   "cell_type": "code",
   "execution_count": 38,
   "id": "dba5101b",
   "metadata": {},
   "outputs": [],
   "source": [
    "l.append(45)"
   ]
  },
  {
   "cell_type": "code",
   "execution_count": 39,
   "id": "8996ec0d",
   "metadata": {},
   "outputs": [
    {
     "data": {
      "text/plain": [
       "[1,\n",
       " 2,\n",
       " 3,\n",
       " 4,\n",
       " 5,\n",
       " 6,\n",
       " 'syed',\n",
       " [1, 2, 3, 4, 5],\n",
       " 't',\n",
       " 'e',\n",
       " 's',\n",
       " 't',\n",
       " '1',\n",
       " '4',\n",
       " '5',\n",
       " 45]"
      ]
     },
     "execution_count": 39,
     "metadata": {},
     "output_type": "execute_result"
    }
   ],
   "source": [
    "l"
   ]
  },
  {
   "cell_type": "code",
   "execution_count": 40,
   "id": "597510e9",
   "metadata": {},
   "outputs": [],
   "source": [
    "l.extend([5,6,8,7])"
   ]
  },
  {
   "cell_type": "code",
   "execution_count": 41,
   "id": "385b5090",
   "metadata": {},
   "outputs": [
    {
     "data": {
      "text/plain": [
       "[1,\n",
       " 2,\n",
       " 3,\n",
       " 4,\n",
       " 5,\n",
       " 6,\n",
       " 'syed',\n",
       " [1, 2, 3, 4, 5],\n",
       " 't',\n",
       " 'e',\n",
       " 's',\n",
       " 't',\n",
       " '1',\n",
       " '4',\n",
       " '5',\n",
       " 45,\n",
       " 5,\n",
       " 6,\n",
       " 8,\n",
       " 7]"
      ]
     },
     "execution_count": 41,
     "metadata": {},
     "output_type": "execute_result"
    }
   ],
   "source": [
    "l"
   ]
  },
  {
   "cell_type": "code",
   "execution_count": 42,
   "id": "c8e79fc8",
   "metadata": {},
   "outputs": [],
   "source": [
    "l.extend([7,5,8,[\"hfdhfdhf\",5,6,8]])"
   ]
  },
  {
   "cell_type": "code",
   "execution_count": 43,
   "id": "e415c5f6",
   "metadata": {},
   "outputs": [
    {
     "data": {
      "text/plain": [
       "[1,\n",
       " 2,\n",
       " 3,\n",
       " 4,\n",
       " 5,\n",
       " 6,\n",
       " 'syed',\n",
       " [1, 2, 3, 4, 5],\n",
       " 't',\n",
       " 'e',\n",
       " 's',\n",
       " 't',\n",
       " '1',\n",
       " '4',\n",
       " '5',\n",
       " 45,\n",
       " 5,\n",
       " 6,\n",
       " 8,\n",
       " 7,\n",
       " 7,\n",
       " 5,\n",
       " 8,\n",
       " ['hfdhfdhf', 5, 6, 8]]"
      ]
     },
     "execution_count": 43,
     "metadata": {},
     "output_type": "execute_result"
    }
   ],
   "source": [
    "l"
   ]
  },
  {
   "cell_type": "code",
   "execution_count": 44,
   "id": "e27e8646",
   "metadata": {},
   "outputs": [
    {
     "data": {
      "text/plain": [
       "2"
      ]
     },
     "execution_count": 44,
     "metadata": {},
     "output_type": "execute_result"
    }
   ],
   "source": [
    "l.index(3)"
   ]
  },
  {
   "cell_type": "code",
   "execution_count": 45,
   "id": "08ece803",
   "metadata": {},
   "outputs": [
    {
     "data": {
      "text/plain": [
       "15"
      ]
     },
     "execution_count": 45,
     "metadata": {},
     "output_type": "execute_result"
    }
   ],
   "source": [
    "l.index(45)"
   ]
  },
  {
   "cell_type": "code",
   "execution_count": 46,
   "id": "c414b168",
   "metadata": {},
   "outputs": [
    {
     "ename": "ValueError",
     "evalue": "84 is not in list",
     "output_type": "error",
     "traceback": [
      "\u001b[1;31m---------------------------------------------------------------------------\u001b[0m",
      "\u001b[1;31mValueError\u001b[0m                                Traceback (most recent call last)",
      "\u001b[1;32m~\\AppData\\Local\\Temp/ipykernel_13004/4161812157.py\u001b[0m in \u001b[0;36m<module>\u001b[1;34m\u001b[0m\n\u001b[1;32m----> 1\u001b[1;33m \u001b[0ml\u001b[0m\u001b[1;33m.\u001b[0m\u001b[0mindex\u001b[0m\u001b[1;33m(\u001b[0m\u001b[1;36m84\u001b[0m\u001b[1;33m)\u001b[0m\u001b[1;33m\u001b[0m\u001b[1;33m\u001b[0m\u001b[0m\n\u001b[0m",
      "\u001b[1;31mValueError\u001b[0m: 84 is not in list"
     ]
    }
   ],
   "source": [
    "l.index(84)"
   ]
  },
  {
   "cell_type": "code",
   "execution_count": 47,
   "id": "1b886203",
   "metadata": {},
   "outputs": [
    {
     "data": {
      "text/plain": [
       "8"
      ]
     },
     "execution_count": 47,
     "metadata": {},
     "output_type": "execute_result"
    }
   ],
   "source": [
    "l.index(\"t\")"
   ]
  },
  {
   "cell_type": "code",
   "execution_count": 48,
   "id": "25e59e78",
   "metadata": {},
   "outputs": [],
   "source": [
    "l = [2,3,4,5,6,7,8,9]"
   ]
  },
  {
   "cell_type": "code",
   "execution_count": 49,
   "id": "3dfd35f5",
   "metadata": {},
   "outputs": [
    {
     "data": {
      "text/plain": [
       "9"
      ]
     },
     "execution_count": 49,
     "metadata": {},
     "output_type": "execute_result"
    }
   ],
   "source": [
    "l.pop()"
   ]
  },
  {
   "cell_type": "code",
   "execution_count": 50,
   "id": "55228664",
   "metadata": {},
   "outputs": [
    {
     "data": {
      "text/plain": [
       "[2, 3, 4, 5, 6, 7, 8]"
      ]
     },
     "execution_count": 50,
     "metadata": {},
     "output_type": "execute_result"
    }
   ],
   "source": [
    "l"
   ]
  },
  {
   "cell_type": "code",
   "execution_count": 51,
   "id": "efc6be0a",
   "metadata": {},
   "outputs": [
    {
     "data": {
      "text/plain": [
       "7"
      ]
     },
     "execution_count": 51,
     "metadata": {},
     "output_type": "execute_result"
    }
   ],
   "source": [
    "l.pop(5)"
   ]
  },
  {
   "cell_type": "code",
   "execution_count": 52,
   "id": "eb82274d",
   "metadata": {},
   "outputs": [
    {
     "data": {
      "text/plain": [
       "[2, 3, 4, 5, 6, 8]"
      ]
     },
     "execution_count": 52,
     "metadata": {},
     "output_type": "execute_result"
    }
   ],
   "source": [
    "l"
   ]
  },
  {
   "cell_type": "code",
   "execution_count": 53,
   "id": "1537d0ea",
   "metadata": {},
   "outputs": [],
   "source": [
    "l = [9,8,7,6,5,4,3,2,1]"
   ]
  },
  {
   "cell_type": "code",
   "execution_count": 56,
   "id": "7c645410",
   "metadata": {},
   "outputs": [
    {
     "ename": "ValueError",
     "evalue": "list.remove(x): x not in list",
     "output_type": "error",
     "traceback": [
      "\u001b[1;31m---------------------------------------------------------------------------\u001b[0m",
      "\u001b[1;31mValueError\u001b[0m                                Traceback (most recent call last)",
      "\u001b[1;32m~\\AppData\\Local\\Temp/ipykernel_13004/2640876332.py\u001b[0m in \u001b[0;36m<module>\u001b[1;34m\u001b[0m\n\u001b[1;32m----> 1\u001b[1;33m \u001b[0ml\u001b[0m\u001b[1;33m.\u001b[0m\u001b[0mremove\u001b[0m\u001b[1;33m(\u001b[0m\u001b[1;36m6\u001b[0m\u001b[1;33m)\u001b[0m\u001b[1;33m\u001b[0m\u001b[1;33m\u001b[0m\u001b[0m\n\u001b[0m",
      "\u001b[1;31mValueError\u001b[0m: list.remove(x): x not in list"
     ]
    }
   ],
   "source": [
    "l.remove(6)"
   ]
  },
  {
   "cell_type": "code",
   "execution_count": 55,
   "id": "9c9bc395",
   "metadata": {},
   "outputs": [
    {
     "data": {
      "text/plain": [
       "[9, 8, 7, 5, 4, 3, 2, 1]"
      ]
     },
     "execution_count": 55,
     "metadata": {},
     "output_type": "execute_result"
    }
   ],
   "source": [
    "l"
   ]
  },
  {
   "cell_type": "code",
   "execution_count": 58,
   "id": "8e55d697",
   "metadata": {},
   "outputs": [],
   "source": [
    "l = [1,2,2,2,2,2,6]"
   ]
  },
  {
   "cell_type": "code",
   "execution_count": 59,
   "id": "335ba638",
   "metadata": {},
   "outputs": [
    {
     "data": {
      "text/plain": [
       "[1, 2, 2, 2, 2, 2, 6]"
      ]
     },
     "execution_count": 59,
     "metadata": {},
     "output_type": "execute_result"
    }
   ],
   "source": [
    "l"
   ]
  },
  {
   "cell_type": "code",
   "execution_count": 68,
   "id": "056cbb44",
   "metadata": {},
   "outputs": [],
   "source": [
    "l.remove(2)"
   ]
  },
  {
   "cell_type": "code",
   "execution_count": 69,
   "id": "220e3530",
   "metadata": {},
   "outputs": [
    {
     "data": {
      "text/plain": [
       "[1, 6]"
      ]
     },
     "execution_count": 69,
     "metadata": {},
     "output_type": "execute_result"
    }
   ],
   "source": [
    "l"
   ]
  },
  {
   "cell_type": "code",
   "execution_count": 70,
   "id": "65a4fcc1",
   "metadata": {},
   "outputs": [],
   "source": [
    "l.reverse()"
   ]
  },
  {
   "cell_type": "code",
   "execution_count": 71,
   "id": "f7af0448",
   "metadata": {},
   "outputs": [
    {
     "data": {
      "text/plain": [
       "[6, 1]"
      ]
     },
     "execution_count": 71,
     "metadata": {},
     "output_type": "execute_result"
    }
   ],
   "source": [
    "l"
   ]
  },
  {
   "cell_type": "code",
   "execution_count": 72,
   "id": "7bff7f72",
   "metadata": {},
   "outputs": [],
   "source": [
    "l.sort()"
   ]
  },
  {
   "cell_type": "code",
   "execution_count": 73,
   "id": "ca27ceb7",
   "metadata": {},
   "outputs": [
    {
     "data": {
      "text/plain": [
       "[1, 6]"
      ]
     },
     "execution_count": 73,
     "metadata": {},
     "output_type": "execute_result"
    }
   ],
   "source": [
    "l"
   ]
  },
  {
   "cell_type": "code",
   "execution_count": 74,
   "id": "3d317e2c",
   "metadata": {},
   "outputs": [],
   "source": [
    "l = [1,2,3,6,\"syed\",\"noice\",84,56]"
   ]
  },
  {
   "cell_type": "code",
   "execution_count": 75,
   "id": "fe57766a",
   "metadata": {},
   "outputs": [
    {
     "data": {
      "text/plain": [
       "[1, 2, 3, 6, 'syed', 'noice', 84, 56]"
      ]
     },
     "execution_count": 75,
     "metadata": {},
     "output_type": "execute_result"
    }
   ],
   "source": [
    "l"
   ]
  },
  {
   "cell_type": "code",
   "execution_count": 76,
   "id": "d4b80ef6",
   "metadata": {},
   "outputs": [
    {
     "ename": "TypeError",
     "evalue": "'<' not supported between instances of 'str' and 'int'",
     "output_type": "error",
     "traceback": [
      "\u001b[1;31m---------------------------------------------------------------------------\u001b[0m",
      "\u001b[1;31mTypeError\u001b[0m                                 Traceback (most recent call last)",
      "\u001b[1;32m~\\AppData\\Local\\Temp/ipykernel_13004/4149526160.py\u001b[0m in \u001b[0;36m<module>\u001b[1;34m\u001b[0m\n\u001b[1;32m----> 1\u001b[1;33m \u001b[0ml\u001b[0m\u001b[1;33m.\u001b[0m\u001b[0msort\u001b[0m\u001b[1;33m(\u001b[0m\u001b[1;33m)\u001b[0m\u001b[1;33m\u001b[0m\u001b[1;33m\u001b[0m\u001b[0m\n\u001b[0m",
      "\u001b[1;31mTypeError\u001b[0m: '<' not supported between instances of 'str' and 'int'"
     ]
    }
   ],
   "source": [
    "l.sort()"
   ]
  },
  {
   "cell_type": "code",
   "execution_count": 77,
   "id": "e570b4ce",
   "metadata": {},
   "outputs": [],
   "source": [
    "l = [4,1,8,5,65,15,87,43,16]"
   ]
  },
  {
   "cell_type": "code",
   "execution_count": 78,
   "id": "0a388343",
   "metadata": {},
   "outputs": [
    {
     "data": {
      "text/plain": [
       "[4, 1, 8, 5, 65, 15, 87, 43, 16]"
      ]
     },
     "execution_count": 78,
     "metadata": {},
     "output_type": "execute_result"
    }
   ],
   "source": [
    "l"
   ]
  },
  {
   "cell_type": "code",
   "execution_count": 79,
   "id": "6bea4102",
   "metadata": {},
   "outputs": [],
   "source": [
    "l.sort()"
   ]
  },
  {
   "cell_type": "code",
   "execution_count": 80,
   "id": "062c1790",
   "metadata": {},
   "outputs": [
    {
     "data": {
      "text/plain": [
       "[1, 4, 5, 8, 15, 16, 43, 65, 87]"
      ]
     },
     "execution_count": 80,
     "metadata": {},
     "output_type": "execute_result"
    }
   ],
   "source": [
    "l"
   ]
  },
  {
   "cell_type": "code",
   "execution_count": 81,
   "id": "95054e23",
   "metadata": {},
   "outputs": [],
   "source": [
    "l = [[1],[2],[3],[5]]"
   ]
  },
  {
   "cell_type": "code",
   "execution_count": 82,
   "id": "1830a012",
   "metadata": {},
   "outputs": [
    {
     "data": {
      "text/plain": [
       "[[1], [2], [3], [5]]"
      ]
     },
     "execution_count": 82,
     "metadata": {},
     "output_type": "execute_result"
    }
   ],
   "source": [
    "l"
   ]
  },
  {
   "cell_type": "code",
   "execution_count": 85,
   "id": "64391187",
   "metadata": {},
   "outputs": [],
   "source": [
    "l.insert(1,\"[4],[9]\")"
   ]
  },
  {
   "cell_type": "code",
   "execution_count": 86,
   "id": "31f7da25",
   "metadata": {},
   "outputs": [
    {
     "data": {
      "text/plain": [
       "[[1], '[4],[9]', [2], [3], [5]]"
      ]
     },
     "execution_count": 86,
     "metadata": {},
     "output_type": "execute_result"
    }
   ],
   "source": [
    "l"
   ]
  },
  {
   "cell_type": "code",
   "execution_count": 98,
   "id": "4012e1f5",
   "metadata": {},
   "outputs": [],
   "source": [
    "l = [[1,2,\"syed\"],[3,\"yusuf\",4],[\"good\",5,6]]"
   ]
  },
  {
   "cell_type": "code",
   "execution_count": 99,
   "id": "05f20462",
   "metadata": {},
   "outputs": [
    {
     "data": {
      "text/plain": [
       "[[1, 2, 'syed'], [3, 'yusuf', 4], ['good', 5, 6]]"
      ]
     },
     "execution_count": 99,
     "metadata": {},
     "output_type": "execute_result"
    }
   ],
   "source": [
    "l"
   ]
  },
  {
   "cell_type": "code",
   "execution_count": 101,
   "id": "043dcc4d",
   "metadata": {},
   "outputs": [
    {
     "ename": "ValueError",
     "evalue": "[1] is not in list",
     "output_type": "error",
     "traceback": [
      "\u001b[1;31m---------------------------------------------------------------------------\u001b[0m",
      "\u001b[1;31mValueError\u001b[0m                                Traceback (most recent call last)",
      "\u001b[1;32m~\\AppData\\Local\\Temp/ipykernel_13004/426474910.py\u001b[0m in \u001b[0;36m<module>\u001b[1;34m\u001b[0m\n\u001b[1;32m----> 1\u001b[1;33m \u001b[0ml\u001b[0m\u001b[1;33m.\u001b[0m\u001b[0mindex\u001b[0m\u001b[1;33m(\u001b[0m\u001b[1;33m[\u001b[0m\u001b[1;36m1\u001b[0m\u001b[1;33m]\u001b[0m\u001b[1;33m)\u001b[0m\u001b[1;33m\u001b[0m\u001b[1;33m\u001b[0m\u001b[0m\n\u001b[0m",
      "\u001b[1;31mValueError\u001b[0m: [1] is not in list"
     ]
    }
   ],
   "source": [
    "l.index([1])"
   ]
  },
  {
   "cell_type": "code",
   "execution_count": null,
   "id": "07350f04",
   "metadata": {},
   "outputs": [],
   "source": [
    "l = [[1,2,\"syed\"],[3,\"yusuf\",4][5,\"good\",6]]\n",
    "l.insert(3,[84,54])\n",
    "l.insert(4,[52,64])\n",
    "l.append(15+5j)\n",
    "print(l)\n"
   ]
  },
  {
   "cell_type": "code",
   "execution_count": 116,
   "id": "15d2595f",
   "metadata": {},
   "outputs": [],
   "source": [
    "l = [[1,2,3],[11,12,\"b\",\"b\",\"b\"],[21,\"t\",223],[4,5,6],[7,8,9],\"demo\",12,5]"
   ]
  },
  {
   "cell_type": "code",
   "execution_count": 117,
   "id": "f19545b8",
   "metadata": {},
   "outputs": [
    {
     "data": {
      "text/plain": [
       "[[1, 2, 3],\n",
       " [11, 12, 'b', 'b', 'b'],\n",
       " [21, 't', 223],\n",
       " [4, 5, 6],\n",
       " [7, 8, 9],\n",
       " 'demo',\n",
       " 12,\n",
       " 5]"
      ]
     },
     "execution_count": 117,
     "metadata": {},
     "output_type": "execute_result"
    }
   ],
   "source": [
    "l"
   ]
  },
  {
   "cell_type": "code",
   "execution_count": 118,
   "id": "9991e626",
   "metadata": {},
   "outputs": [
    {
     "name": "stdout",
     "output_type": "stream",
     "text": [
      "index of string b is : 2\n",
      "index of string b is : 3\n",
      "index of string b is : 4\n",
      "the string in the nested list is 'b'\n",
      "the string in the nested list is 'b'\n",
      "the string in the nested list is 'b'\n",
      "index of string t is : 1\n",
      "the string in the nested list is 't'\n",
      "List after removal of string from nested list is\r",
      " [[1, 2, 3], [11, 12], [21, 223], [4, 5, 6], [7, 8, 9], 'demo', 12, 5] \n",
      "\n"
     ]
    }
   ],
   "source": [
    "for i in l:\n",
    "    if type(i) == list:\n",
    "        j=0\n",
    "        while j < len(i):\n",
    "            if type(i[j]) is str:\n",
    "                print(\"index of string {} is :\".format(i[j]),j)\n",
    "            j = j + 1\n",
    "        j=0\n",
    "        while j < len(i):\n",
    "            if type(i[j]) is str:\n",
    "                print(\"the string in the nested list is '{}'\".format(i[j]))\n",
    "                i.remove(i[j])\n",
    "                continue\n",
    "            j = j+1\n",
    "print(\"List after removal of string from nested list is\\r\",l,'\\n')"
   ]
  },
  {
   "cell_type": "code",
   "execution_count": 109,
   "id": "ea44e16d",
   "metadata": {},
   "outputs": [],
   "source": [
    "l.insert(2,[646,254,\"ds\"])\n",
    "l.insert(3,\"good\")\n",
    "l.insert(4,3+5j)"
   ]
  },
  {
   "cell_type": "code",
   "execution_count": 110,
   "id": "18577edc",
   "metadata": {},
   "outputs": [
    {
     "data": {
      "text/plain": [
       "[[1, 2, 3],\n",
       " [11, 12, 'b', 'b', 'b'],\n",
       " [646, 254, 'ds'],\n",
       " 'good',\n",
       " (3+5j),\n",
       " [21, 't', 223],\n",
       " [4, 5, 6],\n",
       " [7, 8, 9],\n",
       " 'demo',\n",
       " 12,\n",
       " 5]"
      ]
     },
     "execution_count": 110,
     "metadata": {},
     "output_type": "execute_result"
    }
   ],
   "source": [
    "l"
   ]
  },
  {
   "cell_type": "code",
   "execution_count": null,
   "id": "1ebfe5fd",
   "metadata": {},
   "outputs": [],
   "source": [
    "for i in l:\n",
    "    for j in i:\n",
    "        "
   ]
  },
  {
   "cell_type": "code",
   "execution_count": 111,
   "id": "fb53fbaf",
   "metadata": {},
   "outputs": [
    {
     "name": "stdout",
     "output_type": "stream",
     "text": [
      "45\n",
      "48\n",
      "15\n",
      "64\n",
      "8\n",
      "[45, 48, 15, 64, 8]\n"
     ]
    }
   ],
   "source": [
    "l = []\n",
    "for i in range(5):\n",
    "    l.append(int(input()))\n",
    "print(l)"
   ]
  },
  {
   "cell_type": "code",
   "execution_count": 114,
   "id": "0040fafc",
   "metadata": {},
   "outputs": [
    {
     "name": "stdout",
     "output_type": "stream",
     "text": [
      "[345,68,51,49]\n"
     ]
    },
    {
     "data": {
      "text/plain": [
       "'[345,68,51,49]'"
      ]
     },
     "execution_count": 114,
     "metadata": {},
     "output_type": "execute_result"
    }
   ],
   "source": [
    "input()"
   ]
  },
  {
   "cell_type": "code",
   "execution_count": 115,
   "id": "024e7d8c",
   "metadata": {},
   "outputs": [
    {
     "name": "stdout",
     "output_type": "stream",
     "text": [
      "[514,851,351]\n"
     ]
    },
    {
     "data": {
      "text/plain": [
       "['[', '5', '1', '4', ',', '8', '5', '1', ',', '3', '5', '1', ']']"
      ]
     },
     "execution_count": 115,
     "metadata": {},
     "output_type": "execute_result"
    }
   ],
   "source": [
    "list(input())"
   ]
  },
  {
   "cell_type": "code",
   "execution_count": 6,
   "id": "71870efb",
   "metadata": {},
   "outputs": [],
   "source": [
    "l = [1,2,3,4,5,6]"
   ]
  },
  {
   "cell_type": "code",
   "execution_count": 7,
   "id": "5d34559a",
   "metadata": {},
   "outputs": [],
   "source": [
    "l1 = []"
   ]
  },
  {
   "cell_type": "code",
   "execution_count": 3,
   "id": "ea873784",
   "metadata": {},
   "outputs": [],
   "source": [
    "for i in \"syed\":\n",
    "    l1.append(i)"
   ]
  },
  {
   "cell_type": "code",
   "execution_count": 4,
   "id": "6ba1e394",
   "metadata": {},
   "outputs": [
    {
     "data": {
      "text/plain": [
       "['s', 'y', 'e', 'd']"
      ]
     },
     "execution_count": 4,
     "metadata": {},
     "output_type": "execute_result"
    }
   ],
   "source": [
    "l1"
   ]
  },
  {
   "cell_type": "code",
   "execution_count": 5,
   "id": "dfe002b0",
   "metadata": {},
   "outputs": [
    {
     "data": {
      "text/plain": [
       "['s', 'y', 'e', 'd']"
      ]
     },
     "execution_count": 5,
     "metadata": {},
     "output_type": "execute_result"
    }
   ],
   "source": [
    "#list comprehensive\n",
    "[i for i in \"syed\"]"
   ]
  },
  {
   "cell_type": "code",
   "execution_count": 12,
   "id": "f8116564",
   "metadata": {},
   "outputs": [
    {
     "data": {
      "text/plain": [
       "['s', 'y', 'e', 'd']"
      ]
     },
     "execution_count": 12,
     "metadata": {},
     "output_type": "execute_result"
    }
   ],
   "source": [
    "[l1 for l1 in \"syed\"]"
   ]
  },
  {
   "cell_type": "code",
   "execution_count": 13,
   "id": "b37b835c",
   "metadata": {},
   "outputs": [
    {
     "data": {
      "text/plain": [
       "[[], [], [], []]"
      ]
     },
     "execution_count": 13,
     "metadata": {},
     "output_type": "execute_result"
    }
   ],
   "source": [
    "[l1 for i in \"syed\"]"
   ]
  },
  {
   "cell_type": "code",
   "execution_count": 14,
   "id": "b0840e76",
   "metadata": {},
   "outputs": [
    {
     "data": {
      "text/plain": [
       "['d', 'd', 'd', 'd']"
      ]
     },
     "execution_count": 14,
     "metadata": {},
     "output_type": "execute_result"
    }
   ],
   "source": [
    "[i for l1 in \"syed\"]"
   ]
  },
  {
   "cell_type": "code",
   "execution_count": 15,
   "id": "717efd6c",
   "metadata": {},
   "outputs": [
    {
     "data": {
      "text/plain": [
       "[['s'], ['y'], ['e'], ['d']]"
      ]
     },
     "execution_count": 15,
     "metadata": {},
     "output_type": "execute_result"
    }
   ],
   "source": [
    "[[l1] for l1 in \"syed\"]"
   ]
  },
  {
   "cell_type": "code",
   "execution_count": 17,
   "id": "a811a4ca",
   "metadata": {},
   "outputs": [],
   "source": [
    "l = []\n",
    "for i in range(10):\n",
    "    if i%2 == 0:\n",
    "        l.append(i)"
   ]
  },
  {
   "cell_type": "code",
   "execution_count": 18,
   "id": "a1fdbf10",
   "metadata": {},
   "outputs": [
    {
     "data": {
      "text/plain": [
       "[0, 2, 4, 6, 8]"
      ]
     },
     "execution_count": 18,
     "metadata": {},
     "output_type": "execute_result"
    }
   ],
   "source": [
    "l"
   ]
  },
  {
   "cell_type": "code",
   "execution_count": 19,
   "id": "18157436",
   "metadata": {},
   "outputs": [
    {
     "data": {
      "text/plain": [
       "0"
      ]
     },
     "execution_count": 19,
     "metadata": {},
     "output_type": "execute_result"
    }
   ],
   "source": [
    "0%2"
   ]
  },
  {
   "cell_type": "code",
   "execution_count": 20,
   "id": "15705964",
   "metadata": {},
   "outputs": [
    {
     "data": {
      "text/plain": [
       "1"
      ]
     },
     "execution_count": 20,
     "metadata": {},
     "output_type": "execute_result"
    }
   ],
   "source": [
    "1%2"
   ]
  },
  {
   "cell_type": "code",
   "execution_count": 21,
   "id": "ce547d93",
   "metadata": {},
   "outputs": [
    {
     "data": {
      "text/plain": [
       "0"
      ]
     },
     "execution_count": 21,
     "metadata": {},
     "output_type": "execute_result"
    }
   ],
   "source": [
    "2%2"
   ]
  },
  {
   "cell_type": "code",
   "execution_count": 22,
   "id": "0b228a8a",
   "metadata": {},
   "outputs": [
    {
     "data": {
      "text/plain": [
       "1"
      ]
     },
     "execution_count": 22,
     "metadata": {},
     "output_type": "execute_result"
    }
   ],
   "source": [
    "3%2"
   ]
  },
  {
   "cell_type": "code",
   "execution_count": 23,
   "id": "787aa797",
   "metadata": {},
   "outputs": [
    {
     "data": {
      "text/plain": [
       "0"
      ]
     },
     "execution_count": 23,
     "metadata": {},
     "output_type": "execute_result"
    }
   ],
   "source": [
    "4%2"
   ]
  },
  {
   "cell_type": "code",
   "execution_count": 24,
   "id": "960419c3",
   "metadata": {},
   "outputs": [
    {
     "data": {
      "text/plain": [
       "1"
      ]
     },
     "execution_count": 24,
     "metadata": {},
     "output_type": "execute_result"
    }
   ],
   "source": [
    "5%2"
   ]
  },
  {
   "cell_type": "code",
   "execution_count": 25,
   "id": "c7ce8fe7",
   "metadata": {},
   "outputs": [
    {
     "data": {
      "text/plain": [
       "0"
      ]
     },
     "execution_count": 25,
     "metadata": {},
     "output_type": "execute_result"
    }
   ],
   "source": [
    "6%2"
   ]
  },
  {
   "cell_type": "code",
   "execution_count": 26,
   "id": "43e4484b",
   "metadata": {},
   "outputs": [
    {
     "data": {
      "text/plain": [
       "1"
      ]
     },
     "execution_count": 26,
     "metadata": {},
     "output_type": "execute_result"
    }
   ],
   "source": [
    "7%2"
   ]
  },
  {
   "cell_type": "code",
   "execution_count": 27,
   "id": "7b842940",
   "metadata": {},
   "outputs": [
    {
     "data": {
      "text/plain": [
       "0"
      ]
     },
     "execution_count": 27,
     "metadata": {},
     "output_type": "execute_result"
    }
   ],
   "source": [
    "8%2"
   ]
  },
  {
   "cell_type": "code",
   "execution_count": 28,
   "id": "28aa7a46",
   "metadata": {},
   "outputs": [
    {
     "data": {
      "text/plain": [
       "1"
      ]
     },
     "execution_count": 28,
     "metadata": {},
     "output_type": "execute_result"
    }
   ],
   "source": [
    "9%2"
   ]
  },
  {
   "cell_type": "code",
   "execution_count": 30,
   "id": "32c75495",
   "metadata": {},
   "outputs": [
    {
     "data": {
      "text/plain": [
       "[0, 2, 4, 6, 8]"
      ]
     },
     "execution_count": 30,
     "metadata": {},
     "output_type": "execute_result"
    }
   ],
   "source": [
    "[i for i in range(10) if i%2 == 0]"
   ]
  },
  {
   "cell_type": "code",
   "execution_count": 32,
   "id": "7347231f",
   "metadata": {},
   "outputs": [],
   "source": [
    "l = []\n",
    "for i in range(10):\n",
    "    if i%2 != 0:\n",
    "        l.append(\"odd\")\n",
    "    else :\n",
    "        l.append(\"even\")"
   ]
  },
  {
   "cell_type": "code",
   "execution_count": 33,
   "id": "c7a88e43",
   "metadata": {},
   "outputs": [
    {
     "data": {
      "text/plain": [
       "['even', 'odd', 'even', 'odd', 'even', 'odd', 'even', 'odd', 'even', 'odd']"
      ]
     },
     "execution_count": 33,
     "metadata": {},
     "output_type": "execute_result"
    }
   ],
   "source": [
    "l"
   ]
  },
  {
   "cell_type": "code",
   "execution_count": 34,
   "id": "2694918d",
   "metadata": {},
   "outputs": [
    {
     "data": {
      "text/plain": [
       "['even', 'odd', 'even', 'odd', 'even', 'odd', 'even', 'odd', 'even', 'odd']"
      ]
     },
     "execution_count": 34,
     "metadata": {},
     "output_type": "execute_result"
    }
   ],
   "source": [
    "[\"odd\" if i%2 != 0 else \"even\" for i in range(10)]"
   ]
  },
  {
   "cell_type": "code",
   "execution_count": 35,
   "id": "ad510ef1",
   "metadata": {},
   "outputs": [
    {
     "data": {
      "text/plain": [
       "[[0, 1, 2], [0, 1, 2], [0, 1, 2]]"
      ]
     },
     "execution_count": 35,
     "metadata": {},
     "output_type": "execute_result"
    }
   ],
   "source": [
    "mat = []\n",
    "for i in range(3):\n",
    "    mat.append([])\n",
    "    for j in range(3):\n",
    "        mat[i].append(j)\n",
    "mat\n"
   ]
  },
  {
   "cell_type": "code",
   "execution_count": 38,
   "id": "74399d94",
   "metadata": {},
   "outputs": [
    {
     "data": {
      "text/plain": [
       "[[0, 1, 2], [0, 1, 2], [0, 1, 2]]"
      ]
     },
     "execution_count": 38,
     "metadata": {},
     "output_type": "execute_result"
    }
   ],
   "source": [
    "[[j for j in range(3)] for i in range(3)]"
   ]
  },
  {
   "cell_type": "code",
   "execution_count": 40,
   "id": "1ad8b255",
   "metadata": {},
   "outputs": [
    {
     "data": {
      "text/plain": [
       "[0, 6]"
      ]
     },
     "execution_count": 40,
     "metadata": {},
     "output_type": "execute_result"
    }
   ],
   "source": [
    "[i for i in range(8) if  i %2 == 0 if i %3 == 0]"
   ]
  },
  {
   "cell_type": "code",
   "execution_count": 41,
   "id": "7776128d",
   "metadata": {},
   "outputs": [],
   "source": [
    "l = []\n",
    "for i in range(8):\n",
    "    if i%2 == 0:\n",
    "        if i %3 == 0:\n",
    "            l.append(i)"
   ]
  },
  {
   "cell_type": "code",
   "execution_count": 42,
   "id": "75fc1e47",
   "metadata": {},
   "outputs": [
    {
     "data": {
      "text/plain": [
       "[0, 6]"
      ]
     },
     "execution_count": 42,
     "metadata": {},
     "output_type": "execute_result"
    }
   ],
   "source": [
    "l"
   ]
  },
  {
   "cell_type": "code",
   "execution_count": 43,
   "id": "973fba97",
   "metadata": {},
   "outputs": [],
   "source": [
    "l = []\n",
    "for i in range(10):\n",
    "    l.append(i)"
   ]
  },
  {
   "cell_type": "code",
   "execution_count": 44,
   "id": "1237e4f3",
   "metadata": {},
   "outputs": [
    {
     "data": {
      "text/plain": [
       "[0, 1, 2, 3, 4, 5, 6, 7, 8, 9]"
      ]
     },
     "execution_count": 44,
     "metadata": {},
     "output_type": "execute_result"
    }
   ],
   "source": [
    "l"
   ]
  },
  {
   "cell_type": "code",
   "execution_count": 45,
   "id": "bfc9901f",
   "metadata": {},
   "outputs": [
    {
     "data": {
      "text/plain": [
       "['test', 'yes', 'no', 'test', 'test', 'test', 'test', 'test', 'test', 'test']"
      ]
     },
     "execution_count": 45,
     "metadata": {},
     "output_type": "execute_result"
    }
   ],
   "source": [
    "[\"yes\" if i == 1 else \"no\" if i == 2 else \"test\" for i in l]"
   ]
  },
  {
   "cell_type": "code",
   "execution_count": 46,
   "id": "300c790b",
   "metadata": {},
   "outputs": [
    {
     "data": {
      "text/plain": [
       "[0, 1, 2, 3, 4, 5, 6, 7, 8, 9]"
      ]
     },
     "execution_count": 46,
     "metadata": {},
     "output_type": "execute_result"
    }
   ],
   "source": [
    "l"
   ]
  },
  {
   "cell_type": "code",
   "execution_count": 52,
   "id": "056f0e37",
   "metadata": {},
   "outputs": [],
   "source": [
    "res = []\n",
    "for i in l:\n",
    "    if i == 1:\n",
    "        res.append(\"yes\")\n",
    "    elif i == 2:\n",
    "        res.append(\"no\")\n",
    "    else:\n",
    "        res.append(\"test\")\n",
    "#res"
   ]
  },
  {
   "cell_type": "code",
   "execution_count": 50,
   "id": "1805c1ac",
   "metadata": {},
   "outputs": [
    {
     "data": {
      "text/plain": [
       "['test', 'yes', 'no', 'test', 'test', 'test', 'test', 'test', 'test', 'test']"
      ]
     },
     "execution_count": 50,
     "metadata": {},
     "output_type": "execute_result"
    }
   ],
   "source": [
    "res"
   ]
  },
  {
   "cell_type": "code",
   "execution_count": null,
   "id": "a4689b2b",
   "metadata": {},
   "outputs": [],
   "source": []
  }
 ],
 "metadata": {
  "kernelspec": {
   "display_name": "Python 3 (ipykernel)",
   "language": "python",
   "name": "python3"
  },
  "language_info": {
   "codemirror_mode": {
    "name": "ipython",
    "version": 3
   },
   "file_extension": ".py",
   "mimetype": "text/x-python",
   "name": "python",
   "nbconvert_exporter": "python",
   "pygments_lexer": "ipython3",
   "version": "3.9.7"
  }
 },
 "nbformat": 4,
 "nbformat_minor": 5
}
