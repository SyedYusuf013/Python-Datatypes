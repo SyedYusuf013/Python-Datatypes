{
 "cells": [
  {
   "cell_type": "code",
   "execution_count": null,
   "id": "c4737384",
   "metadata": {},
   "outputs": [],
   "source": [
    "#set is used only for distinct value"
   ]
  },
  {
   "cell_type": "code",
   "execution_count": 1,
   "id": "3554d83a",
   "metadata": {},
   "outputs": [],
   "source": [
    "x = set()"
   ]
  },
  {
   "cell_type": "code",
   "execution_count": 2,
   "id": "eb8897aa",
   "metadata": {},
   "outputs": [
    {
     "data": {
      "text/plain": [
       "set"
      ]
     },
     "execution_count": 2,
     "metadata": {},
     "output_type": "execute_result"
    }
   ],
   "source": [
    "type(x)"
   ]
  },
  {
   "cell_type": "code",
   "execution_count": 3,
   "id": "45b53f50",
   "metadata": {},
   "outputs": [],
   "source": [
    "l=[34,45,45,45,45,92,34,65,15,\"syed\",\"syed\",\"Syed\",\"yusuf\",\"fayeque\"]"
   ]
  },
  {
   "cell_type": "code",
   "execution_count": 4,
   "id": "445f9aec",
   "metadata": {},
   "outputs": [
    {
     "data": {
      "text/plain": [
       "[34,\n",
       " 45,\n",
       " 45,\n",
       " 45,\n",
       " 45,\n",
       " 92,\n",
       " 34,\n",
       " 65,\n",
       " 15,\n",
       " 'syed',\n",
       " 'syed',\n",
       " 'Syed',\n",
       " 'yusuf',\n",
       " 'fayeque']"
      ]
     },
     "execution_count": 4,
     "metadata": {},
     "output_type": "execute_result"
    }
   ],
   "source": [
    "l"
   ]
  },
  {
   "cell_type": "code",
   "execution_count": 5,
   "id": "e4d50874",
   "metadata": {},
   "outputs": [
    {
     "data": {
      "text/plain": [
       "{15, 34, 45, 65, 92, 'Syed', 'fayeque', 'syed', 'yusuf'}"
      ]
     },
     "execution_count": 5,
     "metadata": {},
     "output_type": "execute_result"
    }
   ],
   "source": [
    "set(l)"
   ]
  },
  {
   "cell_type": "code",
   "execution_count": 6,
   "id": "b3307b44",
   "metadata": {},
   "outputs": [],
   "source": [
    "s=set(l)"
   ]
  },
  {
   "cell_type": "code",
   "execution_count": 7,
   "id": "fd768082",
   "metadata": {},
   "outputs": [
    {
     "data": {
      "text/plain": [
       "{15, 34, 45, 65, 92, 'Syed', 'fayeque', 'syed', 'yusuf'}"
      ]
     },
     "execution_count": 7,
     "metadata": {},
     "output_type": "execute_result"
    }
   ],
   "source": [
    "s"
   ]
  },
  {
   "cell_type": "code",
   "execution_count": 8,
   "id": "f162f980",
   "metadata": {},
   "outputs": [
    {
     "name": "stdout",
     "output_type": "stream",
     "text": [
      "65\n",
      "34\n",
      "fayeque\n",
      "syed\n",
      "45\n",
      "15\n",
      "yusuf\n",
      "Syed\n",
      "92\n"
     ]
    }
   ],
   "source": [
    "for i in s:\n",
    "    print(i)"
   ]
  },
  {
   "cell_type": "code",
   "execution_count": 9,
   "id": "0d7b0f16",
   "metadata": {},
   "outputs": [
    {
     "data": {
      "text/plain": [
       "True"
      ]
     },
     "execution_count": 9,
     "metadata": {},
     "output_type": "execute_result"
    }
   ],
   "source": [
    "34 in s"
   ]
  },
  {
   "cell_type": "code",
   "execution_count": 10,
   "id": "4b9de3a7",
   "metadata": {},
   "outputs": [
    {
     "ename": "TypeError",
     "evalue": "'set' object is not subscriptable",
     "output_type": "error",
     "traceback": [
      "\u001b[1;31m---------------------------------------------------------------------------\u001b[0m",
      "\u001b[1;31mTypeError\u001b[0m                                 Traceback (most recent call last)",
      "\u001b[1;32m~\\AppData\\Local\\Temp/ipykernel_3472/243613605.py\u001b[0m in \u001b[0;36m<module>\u001b[1;34m\u001b[0m\n\u001b[1;32m----> 1\u001b[1;33m \u001b[0ms\u001b[0m\u001b[1;33m[\u001b[0m\u001b[1;36m0\u001b[0m\u001b[1;33m]\u001b[0m\u001b[1;33m\u001b[0m\u001b[1;33m\u001b[0m\u001b[0m\n\u001b[0m",
      "\u001b[1;31mTypeError\u001b[0m: 'set' object is not subscriptable"
     ]
    }
   ],
   "source": [
    "s[0]"
   ]
  },
  {
   "cell_type": "code",
   "execution_count": 11,
   "id": "98899ae0",
   "metadata": {},
   "outputs": [
    {
     "ename": "TypeError",
     "evalue": "'set' object is not callable",
     "output_type": "error",
     "traceback": [
      "\u001b[1;31m---------------------------------------------------------------------------\u001b[0m",
      "\u001b[1;31mTypeError\u001b[0m                                 Traceback (most recent call last)",
      "\u001b[1;32m~\\AppData\\Local\\Temp/ipykernel_3472/3964605104.py\u001b[0m in \u001b[0;36m<module>\u001b[1;34m\u001b[0m\n\u001b[1;32m----> 1\u001b[1;33m \u001b[0ms\u001b[0m\u001b[1;33m(\u001b[0m\u001b[1;36m0\u001b[0m\u001b[1;33m)\u001b[0m\u001b[1;33m\u001b[0m\u001b[1;33m\u001b[0m\u001b[0m\n\u001b[0m",
      "\u001b[1;31mTypeError\u001b[0m: 'set' object is not callable"
     ]
    }
   ],
   "source": [
    "s(0)"
   ]
  },
  {
   "cell_type": "code",
   "execution_count": 12,
   "id": "9bf39cd2",
   "metadata": {},
   "outputs": [],
   "source": [
    "l1=[31,365,316,51,246,136431,1536,215,346,12,4,64,\"sgdsa\",\"skhdsd\",\"syed\",\"yusuf\"]"
   ]
  },
  {
   "cell_type": "code",
   "execution_count": 13,
   "id": "21cad9c7",
   "metadata": {},
   "outputs": [
    {
     "data": {
      "text/plain": [
       "[31,\n",
       " 365,\n",
       " 316,\n",
       " 51,\n",
       " 246,\n",
       " 136431,\n",
       " 1536,\n",
       " 215,\n",
       " 346,\n",
       " 12,\n",
       " 4,\n",
       " 64,\n",
       " 'sgdsa',\n",
       " 'skhdsd',\n",
       " 'syed',\n",
       " 'yusuf']"
      ]
     },
     "execution_count": 13,
     "metadata": {},
     "output_type": "execute_result"
    }
   ],
   "source": [
    "l1"
   ]
  },
  {
   "cell_type": "code",
   "execution_count": 14,
   "id": "b97bb934",
   "metadata": {},
   "outputs": [
    {
     "data": {
      "text/plain": [
       "{12,\n",
       " 136431,\n",
       " 1536,\n",
       " 215,\n",
       " 246,\n",
       " 31,\n",
       " 316,\n",
       " 346,\n",
       " 365,\n",
       " 4,\n",
       " 51,\n",
       " 64,\n",
       " 'sgdsa',\n",
       " 'skhdsd',\n",
       " 'syed',\n",
       " 'yusuf'}"
      ]
     },
     "execution_count": 14,
     "metadata": {},
     "output_type": "execute_result"
    }
   ],
   "source": [
    "set(l1)"
   ]
  },
  {
   "cell_type": "code",
   "execution_count": 15,
   "id": "c1394e0d",
   "metadata": {},
   "outputs": [
    {
     "data": {
      "text/plain": [
       "set()"
      ]
     },
     "execution_count": 15,
     "metadata": {},
     "output_type": "execute_result"
    }
   ],
   "source": [
    "s = set()\n",
    "s"
   ]
  },
  {
   "cell_type": "code",
   "execution_count": 16,
   "id": "d7f1183c",
   "metadata": {},
   "outputs": [],
   "source": [
    "s.add(45)"
   ]
  },
  {
   "cell_type": "code",
   "execution_count": 17,
   "id": "45f461e5",
   "metadata": {},
   "outputs": [
    {
     "data": {
      "text/plain": [
       "{45}"
      ]
     },
     "execution_count": 17,
     "metadata": {},
     "output_type": "execute_result"
    }
   ],
   "source": [
    "s"
   ]
  },
  {
   "cell_type": "code",
   "execution_count": 18,
   "id": "8f4d1b98",
   "metadata": {},
   "outputs": [],
   "source": [
    "s.add(\"syed\")"
   ]
  },
  {
   "cell_type": "code",
   "execution_count": 19,
   "id": "c886318f",
   "metadata": {},
   "outputs": [],
   "source": [
    "s.add(\"gdhdgfsd\")"
   ]
  },
  {
   "cell_type": "code",
   "execution_count": 20,
   "id": "c466c823",
   "metadata": {},
   "outputs": [
    {
     "ename": "TypeError",
     "evalue": "unhashable type: 'list'",
     "output_type": "error",
     "traceback": [
      "\u001b[1;31m---------------------------------------------------------------------------\u001b[0m",
      "\u001b[1;31mTypeError\u001b[0m                                 Traceback (most recent call last)",
      "\u001b[1;32m~\\AppData\\Local\\Temp/ipykernel_3472/3479205733.py\u001b[0m in \u001b[0;36m<module>\u001b[1;34m\u001b[0m\n\u001b[1;32m----> 1\u001b[1;33m \u001b[0ms\u001b[0m\u001b[1;33m.\u001b[0m\u001b[0madd\u001b[0m\u001b[1;33m(\u001b[0m\u001b[1;33m[\u001b[0m\u001b[1;36m3231613\u001b[0m\u001b[1;33m,\u001b[0m\u001b[1;36m326\u001b[0m\u001b[1;33m]\u001b[0m\u001b[1;33m)\u001b[0m\u001b[1;33m\u001b[0m\u001b[1;33m\u001b[0m\u001b[0m\n\u001b[0m",
      "\u001b[1;31mTypeError\u001b[0m: unhashable type: 'list'"
     ]
    }
   ],
   "source": [
    "s.add([3231613,326])"
   ]
  },
  {
   "cell_type": "code",
   "execution_count": 21,
   "id": "911cf910",
   "metadata": {},
   "outputs": [],
   "source": [
    "l2=[364,214,2,326,215,21,\"syed\",\"hfygg\",\"ghhff\",36,21,[16,3134,316,31]]"
   ]
  },
  {
   "cell_type": "code",
   "execution_count": 22,
   "id": "0587fb3f",
   "metadata": {},
   "outputs": [
    {
     "data": {
      "text/plain": [
       "[364,\n",
       " 214,\n",
       " 2,\n",
       " 326,\n",
       " 215,\n",
       " 21,\n",
       " 'syed',\n",
       " 'hfygg',\n",
       " 'ghhff',\n",
       " 36,\n",
       " 21,\n",
       " [16, 3134, 316, 31]]"
      ]
     },
     "execution_count": 22,
     "metadata": {},
     "output_type": "execute_result"
    }
   ],
   "source": [
    "l2"
   ]
  },
  {
   "cell_type": "code",
   "execution_count": 23,
   "id": "24e0ffcb",
   "metadata": {},
   "outputs": [
    {
     "ename": "TypeError",
     "evalue": "unhashable type: 'list'",
     "output_type": "error",
     "traceback": [
      "\u001b[1;31m---------------------------------------------------------------------------\u001b[0m",
      "\u001b[1;31mTypeError\u001b[0m                                 Traceback (most recent call last)",
      "\u001b[1;32m~\\AppData\\Local\\Temp/ipykernel_3472/1783267560.py\u001b[0m in \u001b[0;36m<module>\u001b[1;34m\u001b[0m\n\u001b[1;32m----> 1\u001b[1;33m \u001b[0mset\u001b[0m\u001b[1;33m(\u001b[0m\u001b[0ml2\u001b[0m\u001b[1;33m)\u001b[0m\u001b[1;33m\u001b[0m\u001b[1;33m\u001b[0m\u001b[0m\n\u001b[0m",
      "\u001b[1;31mTypeError\u001b[0m: unhashable type: 'list'"
     ]
    }
   ],
   "source": [
    "set(l2)"
   ]
  },
  {
   "cell_type": "code",
   "execution_count": 24,
   "id": "a3f367c1",
   "metadata": {},
   "outputs": [
    {
     "data": {
      "text/plain": [
       "{45, 'gdhdgfsd', 'syed'}"
      ]
     },
     "execution_count": 24,
     "metadata": {},
     "output_type": "execute_result"
    }
   ],
   "source": [
    "s"
   ]
  },
  {
   "cell_type": "code",
   "execution_count": 25,
   "id": "95976905",
   "metadata": {},
   "outputs": [],
   "source": [
    "s.remove(45)"
   ]
  },
  {
   "cell_type": "code",
   "execution_count": 26,
   "id": "9f0c3853",
   "metadata": {},
   "outputs": [
    {
     "data": {
      "text/plain": [
       "{'gdhdgfsd', 'syed'}"
      ]
     },
     "execution_count": 26,
     "metadata": {},
     "output_type": "execute_result"
    }
   ],
   "source": [
    "s"
   ]
  },
  {
   "cell_type": "code",
   "execution_count": 27,
   "id": "1eed359e",
   "metadata": {},
   "outputs": [
    {
     "ename": "KeyError",
     "evalue": "45",
     "output_type": "error",
     "traceback": [
      "\u001b[1;31m---------------------------------------------------------------------------\u001b[0m",
      "\u001b[1;31mKeyError\u001b[0m                                  Traceback (most recent call last)",
      "\u001b[1;32m~\\AppData\\Local\\Temp/ipykernel_3472/2010124880.py\u001b[0m in \u001b[0;36m<module>\u001b[1;34m\u001b[0m\n\u001b[1;32m----> 1\u001b[1;33m \u001b[0ms\u001b[0m\u001b[1;33m.\u001b[0m\u001b[0mremove\u001b[0m\u001b[1;33m(\u001b[0m\u001b[1;36m45\u001b[0m\u001b[1;33m)\u001b[0m\u001b[1;33m\u001b[0m\u001b[1;33m\u001b[0m\u001b[0m\n\u001b[0m",
      "\u001b[1;31mKeyError\u001b[0m: 45"
     ]
    }
   ],
   "source": [
    "s.remove(45)"
   ]
  },
  {
   "cell_type": "code",
   "execution_count": 28,
   "id": "0f36730e",
   "metadata": {},
   "outputs": [
    {
     "data": {
      "text/plain": [
       "{'gdhdgfsd', 'syed'}"
      ]
     },
     "execution_count": 28,
     "metadata": {},
     "output_type": "execute_result"
    }
   ],
   "source": [
    "s"
   ]
  },
  {
   "cell_type": "code",
   "execution_count": 29,
   "id": "65b57ef1",
   "metadata": {},
   "outputs": [
    {
     "data": {
      "text/plain": [
       "False"
      ]
     },
     "execution_count": 29,
     "metadata": {},
     "output_type": "execute_result"
    }
   ],
   "source": [
    "45 in s"
   ]
  },
  {
   "cell_type": "code",
   "execution_count": 30,
   "id": "c44d1a0f",
   "metadata": {},
   "outputs": [],
   "source": [
    "s.clear()"
   ]
  },
  {
   "cell_type": "code",
   "execution_count": 31,
   "id": "906a182d",
   "metadata": {},
   "outputs": [
    {
     "data": {
      "text/plain": [
       "set()"
      ]
     },
     "execution_count": 31,
     "metadata": {},
     "output_type": "execute_result"
    }
   ],
   "source": [
    "s"
   ]
  },
  {
   "cell_type": "code",
   "execution_count": 32,
   "id": "d19970aa",
   "metadata": {},
   "outputs": [],
   "source": [
    "s.add(\"dfafda\")"
   ]
  },
  {
   "cell_type": "code",
   "execution_count": 33,
   "id": "afa3c989",
   "metadata": {},
   "outputs": [],
   "source": [
    "s.add(151)"
   ]
  },
  {
   "cell_type": "code",
   "execution_count": 34,
   "id": "9c000cc6",
   "metadata": {},
   "outputs": [],
   "source": [
    "s.add(515)"
   ]
  },
  {
   "cell_type": "code",
   "execution_count": 35,
   "id": "b61ba3b3",
   "metadata": {},
   "outputs": [],
   "source": [
    "s.add(\"wer\")"
   ]
  },
  {
   "cell_type": "code",
   "execution_count": 36,
   "id": "061b7377",
   "metadata": {},
   "outputs": [
    {
     "data": {
      "text/plain": [
       "{151, 515, 'dfafda', 'wer'}"
      ]
     },
     "execution_count": 36,
     "metadata": {},
     "output_type": "execute_result"
    }
   ],
   "source": [
    "s"
   ]
  },
  {
   "cell_type": "code",
   "execution_count": 40,
   "id": "f935c8a1",
   "metadata": {},
   "outputs": [],
   "source": [
    "s1=set(l)"
   ]
  },
  {
   "cell_type": "code",
   "execution_count": 39,
   "id": "491ba97d",
   "metadata": {},
   "outputs": [],
   "source": [
    "l = [3131,16,3316,316,16643,156131,661,6461,6]"
   ]
  },
  {
   "cell_type": "code",
   "execution_count": 41,
   "id": "d59ea777",
   "metadata": {},
   "outputs": [
    {
     "data": {
      "text/plain": [
       "{6, 16, 316, 661, 3131, 3316, 6461, 16643, 156131}"
      ]
     },
     "execution_count": 41,
     "metadata": {},
     "output_type": "execute_result"
    }
   ],
   "source": [
    "s1"
   ]
  },
  {
   "cell_type": "code",
   "execution_count": 42,
   "id": "0e8337ff",
   "metadata": {},
   "outputs": [
    {
     "ename": "TypeError",
     "evalue": "unsupported operand type(s) for +: 'set' and 'set'",
     "output_type": "error",
     "traceback": [
      "\u001b[1;31m---------------------------------------------------------------------------\u001b[0m",
      "\u001b[1;31mTypeError\u001b[0m                                 Traceback (most recent call last)",
      "\u001b[1;32m~\\AppData\\Local\\Temp/ipykernel_3472/2246651983.py\u001b[0m in \u001b[0;36m<module>\u001b[1;34m\u001b[0m\n\u001b[1;32m----> 1\u001b[1;33m \u001b[0ms\u001b[0m\u001b[1;33m+\u001b[0m\u001b[0ms1\u001b[0m\u001b[1;33m\u001b[0m\u001b[1;33m\u001b[0m\u001b[0m\n\u001b[0m",
      "\u001b[1;31mTypeError\u001b[0m: unsupported operand type(s) for +: 'set' and 'set'"
     ]
    }
   ],
   "source": [
    "s+s1"
   ]
  },
  {
   "cell_type": "code",
   "execution_count": 43,
   "id": "a011204b",
   "metadata": {},
   "outputs": [
    {
     "ename": "TypeError",
     "evalue": "unsupported operand type(s) for *: 'set' and 'int'",
     "output_type": "error",
     "traceback": [
      "\u001b[1;31m---------------------------------------------------------------------------\u001b[0m",
      "\u001b[1;31mTypeError\u001b[0m                                 Traceback (most recent call last)",
      "\u001b[1;32m~\\AppData\\Local\\Temp/ipykernel_3472/1294436093.py\u001b[0m in \u001b[0;36m<module>\u001b[1;34m\u001b[0m\n\u001b[1;32m----> 1\u001b[1;33m \u001b[0ms\u001b[0m\u001b[1;33m*\u001b[0m\u001b[1;36m4\u001b[0m\u001b[1;33m\u001b[0m\u001b[1;33m\u001b[0m\u001b[0m\n\u001b[0m",
      "\u001b[1;31mTypeError\u001b[0m: unsupported operand type(s) for *: 'set' and 'int'"
     ]
    }
   ],
   "source": [
    "s*4"
   ]
  },
  {
   "cell_type": "code",
   "execution_count": 44,
   "id": "f2b60216",
   "metadata": {},
   "outputs": [
    {
     "data": {
      "text/plain": [
       "{151, 515, 'dfafda', 'wer'}"
      ]
     },
     "execution_count": 44,
     "metadata": {},
     "output_type": "execute_result"
    }
   ],
   "source": [
    "s"
   ]
  },
  {
   "cell_type": "code",
   "execution_count": 46,
   "id": "37d9b5f3",
   "metadata": {},
   "outputs": [],
   "source": [
    "l4=list(s)"
   ]
  },
  {
   "cell_type": "code",
   "execution_count": 47,
   "id": "f153509c",
   "metadata": {},
   "outputs": [],
   "source": [
    "l4.append(215)"
   ]
  },
  {
   "cell_type": "code",
   "execution_count": 48,
   "id": "18bf6fd8",
   "metadata": {},
   "outputs": [
    {
     "data": {
      "text/plain": [
       "['wer', 515, 'dfafda', 151, 215]"
      ]
     },
     "execution_count": 48,
     "metadata": {},
     "output_type": "execute_result"
    }
   ],
   "source": [
    "l4"
   ]
  },
  {
   "cell_type": "code",
   "execution_count": 50,
   "id": "5afa18b6",
   "metadata": {},
   "outputs": [],
   "source": [
    "t4=tuple(s)"
   ]
  },
  {
   "cell_type": "code",
   "execution_count": 51,
   "id": "5e999b06",
   "metadata": {},
   "outputs": [
    {
     "data": {
      "text/plain": [
       "{151, 515, 'dfafda', 'wer'}"
      ]
     },
     "execution_count": 51,
     "metadata": {},
     "output_type": "execute_result"
    }
   ],
   "source": [
    "set(t4)"
   ]
  },
  {
   "cell_type": "code",
   "execution_count": 52,
   "id": "6b651f07",
   "metadata": {},
   "outputs": [
    {
     "data": {
      "text/plain": [
       "{151, 515, 'dfafda', 'wer'}"
      ]
     },
     "execution_count": 52,
     "metadata": {},
     "output_type": "execute_result"
    }
   ],
   "source": [
    "s"
   ]
  },
  {
   "cell_type": "code",
   "execution_count": 53,
   "id": "7d3a5cf7",
   "metadata": {},
   "outputs": [
    {
     "ename": "TypeError",
     "evalue": "'set' object is not subscriptable",
     "output_type": "error",
     "traceback": [
      "\u001b[1;31m---------------------------------------------------------------------------\u001b[0m",
      "\u001b[1;31mTypeError\u001b[0m                                 Traceback (most recent call last)",
      "\u001b[1;32m~\\AppData\\Local\\Temp/ipykernel_3472/243613605.py\u001b[0m in \u001b[0;36m<module>\u001b[1;34m\u001b[0m\n\u001b[1;32m----> 1\u001b[1;33m \u001b[0ms\u001b[0m\u001b[1;33m[\u001b[0m\u001b[1;36m0\u001b[0m\u001b[1;33m]\u001b[0m\u001b[1;33m\u001b[0m\u001b[1;33m\u001b[0m\u001b[0m\n\u001b[0m",
      "\u001b[1;31mTypeError\u001b[0m: 'set' object is not subscriptable"
     ]
    }
   ],
   "source": [
    "s[0]"
   ]
  },
  {
   "cell_type": "code",
   "execution_count": 54,
   "id": "19febc19",
   "metadata": {},
   "outputs": [
    {
     "ename": "TypeError",
     "evalue": "'set' object does not support item assignment",
     "output_type": "error",
     "traceback": [
      "\u001b[1;31m---------------------------------------------------------------------------\u001b[0m",
      "\u001b[1;31mTypeError\u001b[0m                                 Traceback (most recent call last)",
      "\u001b[1;32m~\\AppData\\Local\\Temp/ipykernel_3472/2228395749.py\u001b[0m in \u001b[0;36m<module>\u001b[1;34m\u001b[0m\n\u001b[1;32m----> 1\u001b[1;33m \u001b[0ms\u001b[0m\u001b[1;33m[\u001b[0m\u001b[1;36m0\u001b[0m\u001b[1;33m]\u001b[0m\u001b[1;33m=\u001b[0m\u001b[1;34m\"sdafgf\"\u001b[0m\u001b[1;33m\u001b[0m\u001b[1;33m\u001b[0m\u001b[0m\n\u001b[0m",
      "\u001b[1;31mTypeError\u001b[0m: 'set' object does not support item assignment"
     ]
    }
   ],
   "source": [
    "s[0]=\"sdafgf\""
   ]
  },
  {
   "cell_type": "code",
   "execution_count": 55,
   "id": "12e585bb",
   "metadata": {},
   "outputs": [],
   "source": [
    "#dictionary.....................\n",
    "#............................................"
   ]
  },
  {
   "cell_type": "code",
   "execution_count": 56,
   "id": "32a0ab0c",
   "metadata": {},
   "outputs": [],
   "source": [
    "x={}"
   ]
  },
  {
   "cell_type": "code",
   "execution_count": 57,
   "id": "c7f0b26a",
   "metadata": {},
   "outputs": [
    {
     "data": {
      "text/plain": [
       "dict"
      ]
     },
     "execution_count": 57,
     "metadata": {},
     "output_type": "execute_result"
    }
   ],
   "source": [
    "type(x)"
   ]
  },
  {
   "cell_type": "code",
   "execution_count": 58,
   "id": "f0cee2fd",
   "metadata": {},
   "outputs": [],
   "source": [
    "x1 = {34,56}"
   ]
  },
  {
   "cell_type": "code",
   "execution_count": 59,
   "id": "be8eefc2",
   "metadata": {},
   "outputs": [
    {
     "data": {
      "text/plain": [
       "set"
      ]
     },
     "execution_count": 59,
     "metadata": {},
     "output_type": "execute_result"
    }
   ],
   "source": [
    "type(x1)"
   ]
  },
  {
   "cell_type": "code",
   "execution_count": 60,
   "id": "7e6e76c1",
   "metadata": {},
   "outputs": [],
   "source": [
    "x = {\"name \" :\"syed\"   , \"age\": 2156}"
   ]
  },
  {
   "cell_type": "code",
   "execution_count": 61,
   "id": "eebb6cfe",
   "metadata": {},
   "outputs": [
    {
     "data": {
      "text/plain": [
       "dict"
      ]
     },
     "execution_count": 61,
     "metadata": {},
     "output_type": "execute_result"
    }
   ],
   "source": [
    "type(x)"
   ]
  },
  {
   "cell_type": "code",
   "execution_count": 76,
   "id": "15e8943e",
   "metadata": {},
   "outputs": [],
   "source": [
    "x1 = {\"name \" :\"syed\"   , \"age\": 2156, True : {564,326,216,216,34}  , \"key\"  : False , 216113:3316 , 22154: (45,45,45,45), \"_fdfdfs\"  : [23,36,24,316,323,23]}"
   ]
  },
  {
   "cell_type": "code",
   "execution_count": 77,
   "id": "2523e267",
   "metadata": {},
   "outputs": [
    {
     "data": {
      "text/plain": [
       "{'name ': 'syed',\n",
       " 'age': 2156,\n",
       " True: {34, 216, 326, 564},\n",
       " 'key': False,\n",
       " 216113: 3316,\n",
       " 22154: (45, 45, 45, 45),\n",
       " '_fdfdfs': [23, 36, 24, 316, 323, 23]}"
      ]
     },
     "execution_count": 77,
     "metadata": {},
     "output_type": "execute_result"
    }
   ],
   "source": [
    "x1"
   ]
  },
  {
   "cell_type": "code",
   "execution_count": 71,
   "id": "b7154957",
   "metadata": {},
   "outputs": [],
   "source": [
    "#values can be duplicate but duplicate keys are not allowed"
   ]
  },
  {
   "cell_type": "code",
   "execution_count": 92,
   "id": "197bb7f1",
   "metadata": {},
   "outputs": [],
   "source": [
    "x2 = {\"name \" : {\"k1\" : \"wer\" , \"k4\" : [215,21,16,24]}   , \"age\": 2156, True : {564,326,216,216,34}  , \"key\"  : False , 216113:3316 , 22154: (45,45,45,45), \"_fdfdfs\"  : [23,36,24,316,323,23]}"
   ]
  },
  {
   "cell_type": "code",
   "execution_count": 93,
   "id": "07f84d19",
   "metadata": {},
   "outputs": [
    {
     "data": {
      "text/plain": [
       "{'name ': {'k1': 'wer', 'k4': [215, 21, 16, 24]},\n",
       " 'age': 2156,\n",
       " True: {34, 216, 326, 564},\n",
       " 'key': False,\n",
       " 216113: 3316,\n",
       " 22154: (45, 45, 45, 45),\n",
       " '_fdfdfs': [23, 36, 24, 316, 323, 23]}"
      ]
     },
     "execution_count": 93,
     "metadata": {},
     "output_type": "execute_result"
    }
   ],
   "source": [
    "x2"
   ]
  },
  {
   "cell_type": "code",
   "execution_count": 82,
   "id": "3cd29d0e",
   "metadata": {},
   "outputs": [],
   "source": [
    "x3 = {(3,4,5,6): \"wer\" , \"k4\" : [215,21,16,24]} "
   ]
  },
  {
   "cell_type": "code",
   "execution_count": 83,
   "id": "2f17774b",
   "metadata": {},
   "outputs": [
    {
     "ename": "TypeError",
     "evalue": "unhashable type: 'list'",
     "output_type": "error",
     "traceback": [
      "\u001b[1;31m---------------------------------------------------------------------------\u001b[0m",
      "\u001b[1;31mTypeError\u001b[0m                                 Traceback (most recent call last)",
      "\u001b[1;32m~\\AppData\\Local\\Temp/ipykernel_3472/1131764632.py\u001b[0m in \u001b[0;36m<module>\u001b[1;34m\u001b[0m\n\u001b[1;32m----> 1\u001b[1;33m \u001b[0mx4\u001b[0m \u001b[1;33m=\u001b[0m \u001b[1;33m{\u001b[0m\u001b[1;33m[\u001b[0m\u001b[1;36m3\u001b[0m\u001b[1;33m,\u001b[0m\u001b[1;36m4\u001b[0m\u001b[1;33m,\u001b[0m\u001b[1;36m5\u001b[0m\u001b[1;33m,\u001b[0m\u001b[1;36m6\u001b[0m\u001b[1;33m]\u001b[0m\u001b[1;33m:\u001b[0m \u001b[1;34m\"wer\"\u001b[0m \u001b[1;33m,\u001b[0m \u001b[1;34m\"k4\"\u001b[0m \u001b[1;33m:\u001b[0m \u001b[1;33m[\u001b[0m\u001b[1;36m215\u001b[0m\u001b[1;33m,\u001b[0m\u001b[1;36m21\u001b[0m\u001b[1;33m,\u001b[0m\u001b[1;36m16\u001b[0m\u001b[1;33m,\u001b[0m\u001b[1;36m24\u001b[0m\u001b[1;33m]\u001b[0m\u001b[1;33m}\u001b[0m\u001b[1;33m\u001b[0m\u001b[1;33m\u001b[0m\u001b[0m\n\u001b[0m",
      "\u001b[1;31mTypeError\u001b[0m: unhashable type: 'list'"
     ]
    }
   ],
   "source": [
    "x4 = {[3,4,5,6]: \"wer\" , \"k4\" : [215,21,16,24]} "
   ]
  },
  {
   "cell_type": "code",
   "execution_count": 86,
   "id": "967ad081",
   "metadata": {},
   "outputs": [
    {
     "data": {
      "text/plain": [
       "4"
      ]
     },
     "execution_count": 86,
     "metadata": {},
     "output_type": "execute_result"
    }
   ],
   "source": [
    "l = [34,45,4,54]\n",
    "l[2]"
   ]
  },
  {
   "cell_type": "code",
   "execution_count": 87,
   "id": "658ce43b",
   "metadata": {},
   "outputs": [
    {
     "data": {
      "text/plain": [
       "False"
      ]
     },
     "execution_count": 87,
     "metadata": {},
     "output_type": "execute_result"
    }
   ],
   "source": [
    "x2[\"key\"]"
   ]
  },
  {
   "cell_type": "code",
   "execution_count": 88,
   "id": "ea563492",
   "metadata": {},
   "outputs": [
    {
     "data": {
      "text/plain": [
       "(45, 45, 45, 45)"
      ]
     },
     "execution_count": 88,
     "metadata": {},
     "output_type": "execute_result"
    }
   ],
   "source": [
    "x2[22154]"
   ]
  },
  {
   "cell_type": "code",
   "execution_count": 96,
   "id": "eeb9cca6",
   "metadata": {},
   "outputs": [
    {
     "data": {
      "text/plain": [
       "316"
      ]
     },
     "execution_count": 96,
     "metadata": {},
     "output_type": "execute_result"
    }
   ],
   "source": [
    "x2[\"_fdfdfs\"][3]"
   ]
  },
  {
   "cell_type": "code",
   "execution_count": 99,
   "id": "2049643a",
   "metadata": {},
   "outputs": [
    {
     "data": {
      "text/plain": [
       "16"
      ]
     },
     "execution_count": 99,
     "metadata": {},
     "output_type": "execute_result"
    }
   ],
   "source": [
    "x2[\"name \"][\"k4\"][2]"
   ]
  },
  {
   "cell_type": "code",
   "execution_count": 100,
   "id": "1ccb35fd",
   "metadata": {},
   "outputs": [
    {
     "data": {
      "text/plain": [
       "{(3, 4, 5, 6): 'wer', 'k4': [215, 21, 16, 24]}"
      ]
     },
     "execution_count": 100,
     "metadata": {},
     "output_type": "execute_result"
    }
   ],
   "source": [
    "x3"
   ]
  },
  {
   "cell_type": "code",
   "execution_count": 101,
   "id": "ea577ec9",
   "metadata": {},
   "outputs": [],
   "source": [
    "x5 = {\"k4\" : \"dfjdgf\"}"
   ]
  },
  {
   "cell_type": "code",
   "execution_count": 102,
   "id": "d23f19f0",
   "metadata": {},
   "outputs": [
    {
     "ename": "TypeError",
     "evalue": "unsupported operand type(s) for +: 'dict' and 'dict'",
     "output_type": "error",
     "traceback": [
      "\u001b[1;31m---------------------------------------------------------------------------\u001b[0m",
      "\u001b[1;31mTypeError\u001b[0m                                 Traceback (most recent call last)",
      "\u001b[1;32m~\\AppData\\Local\\Temp/ipykernel_3472/1799232386.py\u001b[0m in \u001b[0;36m<module>\u001b[1;34m\u001b[0m\n\u001b[1;32m----> 1\u001b[1;33m \u001b[0mx3\u001b[0m\u001b[1;33m+\u001b[0m\u001b[0mx5\u001b[0m\u001b[1;33m\u001b[0m\u001b[1;33m\u001b[0m\u001b[0m\n\u001b[0m",
      "\u001b[1;31mTypeError\u001b[0m: unsupported operand type(s) for +: 'dict' and 'dict'"
     ]
    }
   ],
   "source": [
    "x3+x5"
   ]
  },
  {
   "cell_type": "code",
   "execution_count": 103,
   "id": "d8a31935",
   "metadata": {},
   "outputs": [
    {
     "ename": "TypeError",
     "evalue": "unsupported operand type(s) for *: 'dict' and 'int'",
     "output_type": "error",
     "traceback": [
      "\u001b[1;31m---------------------------------------------------------------------------\u001b[0m",
      "\u001b[1;31mTypeError\u001b[0m                                 Traceback (most recent call last)",
      "\u001b[1;32m~\\AppData\\Local\\Temp/ipykernel_3472/1990439051.py\u001b[0m in \u001b[0;36m<module>\u001b[1;34m\u001b[0m\n\u001b[1;32m----> 1\u001b[1;33m \u001b[0mx3\u001b[0m\u001b[1;33m*\u001b[0m\u001b[1;36m3\u001b[0m\u001b[1;33m\u001b[0m\u001b[1;33m\u001b[0m\u001b[0m\n\u001b[0m",
      "\u001b[1;31mTypeError\u001b[0m: unsupported operand type(s) for *: 'dict' and 'int'"
     ]
    }
   ],
   "source": [
    "x3*3"
   ]
  },
  {
   "cell_type": "code",
   "execution_count": 104,
   "id": "c790933b",
   "metadata": {},
   "outputs": [
    {
     "data": {
      "text/plain": [
       "{(3, 4, 5, 6): 'wer', 'k4': [215, 21, 16, 24]}"
      ]
     },
     "execution_count": 104,
     "metadata": {},
     "output_type": "execute_result"
    }
   ],
   "source": [
    "x3"
   ]
  },
  {
   "cell_type": "code",
   "execution_count": 108,
   "id": "e8f6948e",
   "metadata": {},
   "outputs": [],
   "source": [
    "x3[\"k4\"] = 456"
   ]
  },
  {
   "cell_type": "code",
   "execution_count": 109,
   "id": "b6b07fc0",
   "metadata": {},
   "outputs": [
    {
     "data": {
      "text/plain": [
       "{(3, 4, 5, 6): 'wer', 'k4': 456}"
      ]
     },
     "execution_count": 109,
     "metadata": {},
     "output_type": "execute_result"
    }
   ],
   "source": [
    "x3"
   ]
  },
  {
   "cell_type": "code",
   "execution_count": 113,
   "id": "3137cc70",
   "metadata": {},
   "outputs": [],
   "source": [
    "x3[\"k4\"] -= 10"
   ]
  },
  {
   "cell_type": "code",
   "execution_count": 114,
   "id": "3c43642a",
   "metadata": {},
   "outputs": [],
   "source": [
    "x3[\"k4\"] = x3[\"k4\"] - 10"
   ]
  },
  {
   "cell_type": "code",
   "execution_count": 115,
   "id": "d1c54be4",
   "metadata": {},
   "outputs": [
    {
     "data": {
      "text/plain": [
       "{(3, 4, 5, 6): 'wer', 'k4': 416}"
      ]
     },
     "execution_count": 115,
     "metadata": {},
     "output_type": "execute_result"
    }
   ],
   "source": [
    "x3"
   ]
  },
  {
   "cell_type": "code",
   "execution_count": 116,
   "id": "e2a6d3c0",
   "metadata": {},
   "outputs": [
    {
     "data": {
      "text/plain": [
       "dict_keys([(3, 4, 5, 6), 'k4'])"
      ]
     },
     "execution_count": 116,
     "metadata": {},
     "output_type": "execute_result"
    }
   ],
   "source": [
    "x3.keys()"
   ]
  },
  {
   "cell_type": "code",
   "execution_count": 118,
   "id": "7af7e190",
   "metadata": {},
   "outputs": [
    {
     "data": {
      "text/plain": [
       "True"
      ]
     },
     "execution_count": 118,
     "metadata": {},
     "output_type": "execute_result"
    }
   ],
   "source": [
    "\"k4\" in x3.keys()"
   ]
  },
  {
   "cell_type": "code",
   "execution_count": 119,
   "id": "b35cecbf",
   "metadata": {},
   "outputs": [
    {
     "name": "stdout",
     "output_type": "stream",
     "text": [
      "(3, 4, 5, 6)\n",
      "k4\n"
     ]
    }
   ],
   "source": [
    "for i in x3:\n",
    "    print(i)"
   ]
  },
  {
   "cell_type": "code",
   "execution_count": 120,
   "id": "f48b9714",
   "metadata": {},
   "outputs": [
    {
     "data": {
      "text/plain": [
       "{(3, 4, 5, 6): 'wer', 'k4': 416}"
      ]
     },
     "execution_count": 120,
     "metadata": {},
     "output_type": "execute_result"
    }
   ],
   "source": [
    "x3"
   ]
  },
  {
   "cell_type": "code",
   "execution_count": 121,
   "id": "7f65e3ba",
   "metadata": {},
   "outputs": [
    {
     "name": "stdout",
     "output_type": "stream",
     "text": [
      "wer\n",
      "416\n"
     ]
    }
   ],
   "source": [
    "for i in x3.keys() :\n",
    "    print(x3[i])"
   ]
  },
  {
   "cell_type": "code",
   "execution_count": 122,
   "id": "59c5ba9d",
   "metadata": {},
   "outputs": [
    {
     "data": {
      "text/plain": [
       "{(3, 4, 5, 6): 'wer', 'k4': 416}"
      ]
     },
     "execution_count": 122,
     "metadata": {},
     "output_type": "execute_result"
    }
   ],
   "source": [
    "x3"
   ]
  },
  {
   "cell_type": "code",
   "execution_count": 123,
   "id": "b2278d17",
   "metadata": {},
   "outputs": [
    {
     "data": {
      "text/plain": [
       "{'name ': {'k1': 'wer', 'k4': [215, 21, 16, 24]},\n",
       " 'age': 2156,\n",
       " True: {34, 216, 326, 564},\n",
       " 'key': False,\n",
       " 216113: 3316,\n",
       " 22154: (45, 45, 45, 45),\n",
       " '_fdfdfs': [23, 36, 24, 316, 323, 23]}"
      ]
     },
     "execution_count": 123,
     "metadata": {},
     "output_type": "execute_result"
    }
   ],
   "source": [
    "x2"
   ]
  },
  {
   "cell_type": "code",
   "execution_count": 124,
   "id": "314c2e3f",
   "metadata": {},
   "outputs": [
    {
     "data": {
      "text/plain": [
       "dict_keys(['name ', 'age', True, 'key', 216113, 22154, '_fdfdfs'])"
      ]
     },
     "execution_count": 124,
     "metadata": {},
     "output_type": "execute_result"
    }
   ],
   "source": [
    "x2.keys()"
   ]
  },
  {
   "cell_type": "code",
   "execution_count": 126,
   "id": "d7ed93c5",
   "metadata": {},
   "outputs": [
    {
     "name": "stdout",
     "output_type": "stream",
     "text": [
      "<class 'dict'>\n",
      "<class 'int'>\n",
      "<class 'set'>\n",
      "<class 'bool'>\n",
      "<class 'int'>\n",
      "<class 'tuple'>\n",
      "<class 'list'>\n"
     ]
    }
   ],
   "source": [
    "for i in x2.keys():\n",
    "    print(type(x2[i]))"
   ]
  },
  {
   "cell_type": "code",
   "execution_count": 127,
   "id": "4a0313ca",
   "metadata": {},
   "outputs": [
    {
     "data": {
      "text/plain": [
       "dict_items([('name ', {'k1': 'wer', 'k4': [215, 21, 16, 24]}), ('age', 2156), (True, {216, 34, 564, 326}), ('key', False), (216113, 3316), (22154, (45, 45, 45, 45)), ('_fdfdfs', [23, 36, 24, 316, 323, 23])])"
      ]
     },
     "execution_count": 127,
     "metadata": {},
     "output_type": "execute_result"
    }
   ],
   "source": [
    "x2.items()"
   ]
  },
  {
   "cell_type": "code",
   "execution_count": 130,
   "id": "39a03023",
   "metadata": {},
   "outputs": [
    {
     "name": "stdout",
     "output_type": "stream",
     "text": [
      "('name ', {'k1': 'wer', 'k4': [215, 21, 16, 24]})\n",
      "('age', 2156)\n",
      "(True, {216, 34, 564, 326})\n",
      "('key', False)\n",
      "(216113, 3316)\n",
      "(22154, (45, 45, 45, 45))\n",
      "('_fdfdfs', [23, 36, 24, 316, 323, 23])\n"
     ]
    }
   ],
   "source": [
    "for i in x2.items():\n",
    "    print(i)"
   ]
  },
  {
   "cell_type": "code",
   "execution_count": 131,
   "id": "8effde60",
   "metadata": {},
   "outputs": [
    {
     "name": "stdout",
     "output_type": "stream",
     "text": [
      "name \n",
      "age\n",
      "True\n",
      "key\n",
      "216113\n",
      "22154\n",
      "_fdfdfs\n"
     ]
    }
   ],
   "source": [
    "for i in x2.items():\n",
    "    print(i[0])"
   ]
  },
  {
   "cell_type": "code",
   "execution_count": 132,
   "id": "1f106d20",
   "metadata": {},
   "outputs": [
    {
     "name": "stdout",
     "output_type": "stream",
     "text": [
      "{'k1': 'wer', 'k4': [215, 21, 16, 24]}\n",
      "2156\n",
      "{216, 34, 564, 326}\n",
      "False\n",
      "3316\n",
      "(45, 45, 45, 45)\n",
      "[23, 36, 24, 316, 323, 23]\n"
     ]
    }
   ],
   "source": [
    "for i in x2.items():\n",
    "    print(i[1])"
   ]
  },
  {
   "cell_type": "code",
   "execution_count": 133,
   "id": "d125c089",
   "metadata": {},
   "outputs": [],
   "source": [
    "x6 = {(34,56,56) : \"fjhdfj\"}"
   ]
  },
  {
   "cell_type": "code",
   "execution_count": 134,
   "id": "e79fe75f",
   "metadata": {},
   "outputs": [
    {
     "data": {
      "text/plain": [
       "'fjhdfj'"
      ]
     },
     "execution_count": 134,
     "metadata": {},
     "output_type": "execute_result"
    }
   ],
   "source": [
    "x6[(34,56,56)]"
   ]
  },
  {
   "cell_type": "code",
   "execution_count": 135,
   "id": "9f4b0692",
   "metadata": {},
   "outputs": [
    {
     "data": {
      "text/plain": [
       "{'name ': {'k1': 'wer', 'k4': [215, 21, 16, 24]},\n",
       " 'age': 2156,\n",
       " True: {34, 216, 326, 564},\n",
       " 'key': False,\n",
       " 216113: 3316,\n",
       " 22154: (45, 45, 45, 45),\n",
       " '_fdfdfs': [23, 36, 24, 316, 323, 23]}"
      ]
     },
     "execution_count": 135,
     "metadata": {},
     "output_type": "execute_result"
    }
   ],
   "source": [
    "x2"
   ]
  },
  {
   "cell_type": "code",
   "execution_count": 136,
   "id": "43db01fd",
   "metadata": {},
   "outputs": [
    {
     "data": {
      "text/plain": [
       "7"
      ]
     },
     "execution_count": 136,
     "metadata": {},
     "output_type": "execute_result"
    }
   ],
   "source": [
    "len(x2)"
   ]
  },
  {
   "cell_type": "code",
   "execution_count": 139,
   "id": "12e45cf9",
   "metadata": {},
   "outputs": [
    {
     "data": {
      "text/plain": [
       "{45, 78, 89}"
      ]
     },
     "execution_count": 139,
     "metadata": {},
     "output_type": "execute_result"
    }
   ],
   "source": [
    "e={56: {45,78,89}}\n",
    "e[56]"
   ]
  },
  {
   "cell_type": "code",
   "execution_count": 142,
   "id": "6b16c696",
   "metadata": {},
   "outputs": [
    {
     "data": {
      "text/plain": [
       "45"
      ]
     },
     "execution_count": 142,
     "metadata": {},
     "output_type": "execute_result"
    }
   ],
   "source": [
    "list(e[56])[1]"
   ]
  },
  {
   "cell_type": "code",
   "execution_count": 150,
   "id": "caaff9d2",
   "metadata": {},
   "outputs": [
    {
     "name": "stdout",
     "output_type": "stream",
     "text": [
      "A paragraph (from Ancient Greek παράγραφος (parágraphos) 'to write beside') is a self-contained unit of discourse in writing dealing with a particular point or idea. \n"
     ]
    }
   ],
   "source": [
    "df=(\"A paragraph (from Ancient Greek παράγραφος (parágraphos) 'to write beside') is a self-contained unit of discourse in writing dealing with a particular point or idea. \")\n",
    "list(df)\n",
    "print(df)\n",
    "#set(df)\n",
    "#print(df)\n",
    "#len(df)\n",
    "#print(df)"
   ]
  },
  {
   "cell_type": "code",
   "execution_count": 152,
   "id": "1c48d934",
   "metadata": {},
   "outputs": [
    {
     "data": {
      "text/plain": [
       "166"
      ]
     },
     "execution_count": 152,
     "metadata": {},
     "output_type": "execute_result"
    }
   ],
   "source": [
    "df=(\"A paragraph (from Ancient Greek παράγραφος (parágraphos) 'to write beside') is a self-contained unit of discourse in writing dealing with a particular point or idea. \")\n",
    "set(df)\n",
    "len(df)"
   ]
  },
  {
   "cell_type": "code",
   "execution_count": null,
   "id": "a90fdffa",
   "metadata": {},
   "outputs": [],
   "source": [
    "df=(\"A paragraph (from Ancient Greek παράγραφος (parágraphos) 'to write beside') is a self-contained unit of discourse in writing dealing with a particular point or idea. \")"
   ]
  },
  {
   "cell_type": "code",
   "execution_count": 1,
   "id": "17e0694a",
   "metadata": {},
   "outputs": [
    {
     "name": "stdout",
     "output_type": "stream",
     "text": [
      "Enter the paragraph-->> this is a good boy in the collage everyone knows him. He is the best\n",
      "Tuple list-->>  ('syed', 'syed', 'syed', 'syed', 'syed', 'syed', 'syed', 'syed', 'syed', 'syed', 'syed', 'syed', 'syed')\n",
      "List keys-->>  ['in', 'is', 'the', 'everyone', 'He', 'best', 'collage', 'a', 'this', 'good', 'him.', 'knows', 'boy']\n"
     ]
    }
   ],
   "source": [
    "d=input(\"Enter the paragraph-->> \")\n",
    "\n",
    "# Q1\n",
    "d_list=d.split(\" \")\n",
    "\n",
    "# Q2\n",
    "no_duplicate=set(d_list)\n",
    "\n",
    "# Q3\n",
    "my_dict={}\n",
    "for i in no_duplicate:\n",
    "    my_dict[i]=\"syed\"\n",
    "    \n",
    "    \n",
    "    \n",
    "# Q4\n",
    "tup_list=[]\n",
    "for i in my_dict.keys():\n",
    "    tup_list.append(my_dict[i])\n",
    "    \n",
    "print(\"Tuple list-->> \",tuple(tup_list))\n",
    "\n",
    "\n",
    "\n",
    "#Q5\n",
    "list_keys=[]\n",
    "for i in my_dict.keys():\n",
    "    list_keys.append(i)\n",
    "    \n",
    "print(\"List keys-->> \",list_keys)\n"
   ]
  },
  {
   "cell_type": "code",
   "execution_count": 3,
   "id": "dd30ccbd",
   "metadata": {},
   "outputs": [
    {
     "name": "stdout",
     "output_type": "stream",
     "text": [
      "Enter the para : Anything which comes in your mind first\n"
     ]
    }
   ],
   "source": [
    "paragph = input(\"Enter the para : \")\n",
    "lst1=paragph.split(\" \")\n",
    "s1=set(lst1)\n",
    "dict1=dict.fromkeys(s1,'df')\n",
    "t1=tuple(dict1.keys())\n",
    "l2=list(dict1.values())"
   ]
  },
  {
   "cell_type": "code",
   "execution_count": 4,
   "id": "39f84cd7",
   "metadata": {},
   "outputs": [
    {
     "data": {
      "text/plain": [
       "['Anything', 'which', 'comes', 'in', 'your', 'mind', 'first']"
      ]
     },
     "execution_count": 4,
     "metadata": {},
     "output_type": "execute_result"
    }
   ],
   "source": [
    "lst1"
   ]
  },
  {
   "cell_type": "code",
   "execution_count": 5,
   "id": "40c11082",
   "metadata": {},
   "outputs": [
    {
     "data": {
      "text/plain": [
       "{'Anything', 'comes', 'first', 'in', 'mind', 'which', 'your'}"
      ]
     },
     "execution_count": 5,
     "metadata": {},
     "output_type": "execute_result"
    }
   ],
   "source": [
    "s1"
   ]
  },
  {
   "cell_type": "code",
   "execution_count": 6,
   "id": "9e01417b",
   "metadata": {},
   "outputs": [
    {
     "data": {
      "text/plain": [
       "{'in': 'df',\n",
       " 'mind': 'df',\n",
       " 'Anything': 'df',\n",
       " 'comes': 'df',\n",
       " 'your': 'df',\n",
       " 'first': 'df',\n",
       " 'which': 'df'}"
      ]
     },
     "execution_count": 6,
     "metadata": {},
     "output_type": "execute_result"
    }
   ],
   "source": [
    "dict1"
   ]
  },
  {
   "cell_type": "code",
   "execution_count": 7,
   "id": "d84f92d0",
   "metadata": {},
   "outputs": [
    {
     "data": {
      "text/plain": [
       "('in', 'mind', 'Anything', 'comes', 'your', 'first', 'which')"
      ]
     },
     "execution_count": 7,
     "metadata": {},
     "output_type": "execute_result"
    }
   ],
   "source": [
    "t1"
   ]
  },
  {
   "cell_type": "code",
   "execution_count": 8,
   "id": "a63919d6",
   "metadata": {},
   "outputs": [
    {
     "data": {
      "text/plain": [
       "['df', 'df', 'df', 'df', 'df', 'df', 'df']"
      ]
     },
     "execution_count": 8,
     "metadata": {},
     "output_type": "execute_result"
    }
   ],
   "source": [
    "l2"
   ]
  },
  {
   "cell_type": "code",
   "execution_count": 41,
   "id": "ae719c96",
   "metadata": {},
   "outputs": [],
   "source": [
    "d = {\"AKTU\":\"BTECH\" ,\"BRANCH\":\"ECE\",\"YEAR\": 2024}"
   ]
  },
  {
   "cell_type": "code",
   "execution_count": 42,
   "id": "fa49391f",
   "metadata": {},
   "outputs": [
    {
     "name": "stdout",
     "output_type": "stream",
     "text": [
      " print a key  AKTU ;  value wise :   BTECH\n",
      " print a key  BRANCH ;  value wise :   ECE\n",
      " print a key  YEAR ;  value wise :   2024\n"
     ]
    }
   ],
   "source": [
    "for i in d:\n",
    "    print(\" print a key \", i ,\";\",  \" value wise :  \",d[i])"
   ]
  },
  {
   "cell_type": "code",
   "execution_count": 43,
   "id": "c3947e73",
   "metadata": {},
   "outputs": [
    {
     "data": {
      "text/plain": [
       "True"
      ]
     },
     "execution_count": 43,
     "metadata": {},
     "output_type": "execute_result"
    }
   ],
   "source": [
    "\"BRANCH\" in d"
   ]
  },
  {
   "cell_type": "code",
   "execution_count": 47,
   "id": "09b34682",
   "metadata": {},
   "outputs": [
    {
     "name": "stdout",
     "output_type": "stream",
     "text": [
      "year is fine \n"
     ]
    }
   ],
   "source": [
    "for i in d :\n",
    "    if i == 'YEAR':\n",
    "        if d[i] > 2024:\n",
    "            print(\"year is fine \")\n",
    "        else :\n",
    "            d[i] = 2025"
   ]
  },
  {
   "cell_type": "code",
   "execution_count": 45,
   "id": "6eb61ef1",
   "metadata": {},
   "outputs": [
    {
     "data": {
      "text/plain": [
       "{'AKTU': 'BTECH', 'BRANCH': 'ECE', 'YEAR': 2025}"
      ]
     },
     "execution_count": 45,
     "metadata": {},
     "output_type": "execute_result"
    }
   ],
   "source": [
    "d"
   ]
  },
  {
   "cell_type": "code",
   "execution_count": 59,
   "id": "bac80dc6",
   "metadata": {},
   "outputs": [
    {
     "ename": "AttributeError",
     "evalue": "'dict' object has no attribute 'split'",
     "output_type": "error",
     "traceback": [
      "\u001b[1;31m---------------------------------------------------------------------------\u001b[0m",
      "\u001b[1;31mAttributeError\u001b[0m                            Traceback (most recent call last)",
      "\u001b[1;32m~\\AppData\\Local\\Temp/ipykernel_31128/1393195518.py\u001b[0m in \u001b[0;36m<module>\u001b[1;34m\u001b[0m\n\u001b[0;32m      4\u001b[0m             \u001b[0mprint\u001b[0m\u001b[1;33m(\u001b[0m\u001b[1;34m\"change\"\u001b[0m\u001b[1;33m)\u001b[0m\u001b[1;33m\u001b[0m\u001b[1;33m\u001b[0m\u001b[0m\n\u001b[0;32m      5\u001b[0m         \u001b[1;32melse\u001b[0m \u001b[1;33m:\u001b[0m\u001b[1;33m\u001b[0m\u001b[1;33m\u001b[0m\u001b[0m\n\u001b[1;32m----> 6\u001b[1;33m             \u001b[0md\u001b[0m\u001b[1;33m.\u001b[0m\u001b[0msplit\u001b[0m\u001b[1;33m=\u001b[0m\u001b[0md\u001b[0m\u001b[1;33m[\u001b[0m\u001b[0mi\u001b[0m\u001b[1;33m]\u001b[0m\u001b[1;33m\u001b[0m\u001b[1;33m\u001b[0m\u001b[0m\n\u001b[0m",
      "\u001b[1;31mAttributeError\u001b[0m: 'dict' object has no attribute 'split'"
     ]
    }
   ],
   "source": [
    "for i in d:\n",
    "    if i == \"BRANCH\":\n",
    "        if d[i] > 5:\n",
    "            print(\"change\")\n",
    "        else :\n",
    "            d.split=d[i]"
   ]
  },
  {
   "cell_type": "code",
   "execution_count": 57,
   "id": "c779eb06",
   "metadata": {},
   "outputs": [
    {
     "data": {
      "text/plain": [
       "{'AKTU': 'BTECH', 'BRANCH': 5, 'YEAR': 2025}"
      ]
     },
     "execution_count": 57,
     "metadata": {},
     "output_type": "execute_result"
    }
   ],
   "source": [
    "d"
   ]
  },
  {
   "cell_type": "code",
   "execution_count": 60,
   "id": "38be9b02",
   "metadata": {},
   "outputs": [],
   "source": [
    "my_dict = {}\n",
    "for i in range(10):\n",
    "    my_dict[i] = i*i"
   ]
  },
  {
   "cell_type": "code",
   "execution_count": 61,
   "id": "b65e0f62",
   "metadata": {},
   "outputs": [
    {
     "data": {
      "text/plain": [
       "{0: 0, 1: 1, 2: 4, 3: 9, 4: 16, 5: 25, 6: 36, 7: 49, 8: 64, 9: 81}"
      ]
     },
     "execution_count": 61,
     "metadata": {},
     "output_type": "execute_result"
    }
   ],
   "source": [
    "my_dict"
   ]
  },
  {
   "cell_type": "code",
   "execution_count": 62,
   "id": "3f51ba97",
   "metadata": {},
   "outputs": [
    {
     "data": {
      "text/plain": [
       "{0: 0, 1: 1, 2: 4, 3: 9, 4: 16, 5: 25, 6: 36, 7: 49, 8: 64, 9: 81}"
      ]
     },
     "execution_count": 62,
     "metadata": {},
     "output_type": "execute_result"
    }
   ],
   "source": [
    "{i:i*i for i in range(10)}"
   ]
  },
  {
   "cell_type": "code",
   "execution_count": 63,
   "id": "6f43cfcc",
   "metadata": {},
   "outputs": [
    {
     "data": {
      "text/plain": [
       "{0: 0, 3: 9, 6: 36, 9: 81}"
      ]
     },
     "execution_count": 63,
     "metadata": {},
     "output_type": "execute_result"
    }
   ],
   "source": [
    "{i:i*i for i in range(0,10,3)}"
   ]
  },
  {
   "cell_type": "code",
   "execution_count": null,
   "id": "296b4fc3",
   "metadata": {},
   "outputs": [],
   "source": []
  }
 ],
 "metadata": {
  "kernelspec": {
   "display_name": "Python 3 (ipykernel)",
   "language": "python",
   "name": "python3"
  },
  "language_info": {
   "codemirror_mode": {
    "name": "ipython",
    "version": 3
   },
   "file_extension": ".py",
   "mimetype": "text/x-python",
   "name": "python",
   "nbconvert_exporter": "python",
   "pygments_lexer": "ipython3",
   "version": "3.9.7"
  }
 },
 "nbformat": 4,
 "nbformat_minor": 5
}
