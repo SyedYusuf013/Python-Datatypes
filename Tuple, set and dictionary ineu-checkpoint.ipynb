{
 "cells": [
  {
   "cell_type": "code",
   "execution_count": 1,
   "id": "f66f5749",
   "metadata": {},
   "outputs": [],
   "source": [
    "t = ()"
   ]
  },
  {
   "cell_type": "code",
   "execution_count": 2,
   "id": "cdb3e3c2",
   "metadata": {},
   "outputs": [
    {
     "data": {
      "text/plain": [
       "tuple"
      ]
     },
     "execution_count": 2,
     "metadata": {},
     "output_type": "execute_result"
    }
   ],
   "source": [
    "type(t)"
   ]
  },
  {
   "cell_type": "code",
   "execution_count": 3,
   "id": "34ee0468",
   "metadata": {},
   "outputs": [],
   "source": [
    "l = []"
   ]
  },
  {
   "cell_type": "code",
   "execution_count": 4,
   "id": "4355bd80",
   "metadata": {},
   "outputs": [
    {
     "data": {
      "text/plain": [
       "list"
      ]
     },
     "execution_count": 4,
     "metadata": {},
     "output_type": "execute_result"
    }
   ],
   "source": [
    "type(l)"
   ]
  },
  {
   "cell_type": "code",
   "execution_count": 5,
   "id": "197460b9",
   "metadata": {},
   "outputs": [],
   "source": [
    "t1 = (21546,245,\"syed\",45,5+6j,True)"
   ]
  },
  {
   "cell_type": "code",
   "execution_count": 6,
   "id": "11114858",
   "metadata": {},
   "outputs": [],
   "source": [
    "l1 = [646,21,\"syed\",3,6,1+6j,True]"
   ]
  },
  {
   "cell_type": "code",
   "execution_count": 7,
   "id": "b3debbaf",
   "metadata": {},
   "outputs": [
    {
     "data": {
      "text/plain": [
       "21546"
      ]
     },
     "execution_count": 7,
     "metadata": {},
     "output_type": "execute_result"
    }
   ],
   "source": [
    "t1[0]"
   ]
  },
  {
   "cell_type": "code",
   "execution_count": 9,
   "id": "63957d76",
   "metadata": {},
   "outputs": [
    {
     "data": {
      "text/plain": [
       "True"
      ]
     },
     "execution_count": 9,
     "metadata": {},
     "output_type": "execute_result"
    }
   ],
   "source": [
    "t1[5]"
   ]
  },
  {
   "cell_type": "code",
   "execution_count": 10,
   "id": "0dc8b297",
   "metadata": {},
   "outputs": [
    {
     "data": {
      "text/plain": [
       "(21546, 245, 'syed', 45)"
      ]
     },
     "execution_count": 10,
     "metadata": {},
     "output_type": "execute_result"
    }
   ],
   "source": [
    "t1[0:4]"
   ]
  },
  {
   "cell_type": "code",
   "execution_count": 11,
   "id": "6ff8b7c2",
   "metadata": {},
   "outputs": [
    {
     "data": {
      "text/plain": [
       "(True, (5+6j), 45, 'syed', 245, 21546)"
      ]
     },
     "execution_count": 11,
     "metadata": {},
     "output_type": "execute_result"
    }
   ],
   "source": [
    "t1[::-1]"
   ]
  },
  {
   "cell_type": "code",
   "execution_count": 12,
   "id": "abf126b1",
   "metadata": {},
   "outputs": [
    {
     "data": {
      "text/plain": [
       "True"
      ]
     },
     "execution_count": 12,
     "metadata": {},
     "output_type": "execute_result"
    }
   ],
   "source": [
    "t1[-1]"
   ]
  },
  {
   "cell_type": "code",
   "execution_count": 15,
   "id": "99f4edef",
   "metadata": {},
   "outputs": [],
   "source": [
    "l1[0] = \"yusuf\""
   ]
  },
  {
   "cell_type": "markdown",
   "id": "975f4b4e",
   "metadata": {},
   "source": [
    "# "
   ]
  },
  {
   "cell_type": "code",
   "execution_count": 16,
   "id": "01cd3fa2",
   "metadata": {},
   "outputs": [
    {
     "data": {
      "text/plain": [
       "['yusuf', 21, 'syed', 3, 6, (1+6j), True]"
      ]
     },
     "execution_count": 16,
     "metadata": {},
     "output_type": "execute_result"
    }
   ],
   "source": [
    "l1"
   ]
  },
  {
   "cell_type": "code",
   "execution_count": 17,
   "id": "ff4f04d9",
   "metadata": {},
   "outputs": [
    {
     "data": {
      "text/plain": [
       "(21546, 245, 'syed', 45, (5+6j), True)"
      ]
     },
     "execution_count": 17,
     "metadata": {},
     "output_type": "execute_result"
    }
   ],
   "source": [
    "t1"
   ]
  },
  {
   "cell_type": "code",
   "execution_count": 20,
   "id": "228d147c",
   "metadata": {},
   "outputs": [
    {
     "ename": "TypeError",
     "evalue": "'tuple' object does not support item assignment",
     "output_type": "error",
     "traceback": [
      "\u001b[1;31m---------------------------------------------------------------------------\u001b[0m",
      "\u001b[1;31mTypeError\u001b[0m                                 Traceback (most recent call last)",
      "\u001b[1;32m~\\AppData\\Local\\Temp/ipykernel_18136/3010628112.py\u001b[0m in \u001b[0;36m<module>\u001b[1;34m\u001b[0m\n\u001b[1;32m----> 1\u001b[1;33m \u001b[0mt1\u001b[0m\u001b[1;33m[\u001b[0m\u001b[1;36m0\u001b[0m\u001b[1;33m]\u001b[0m \u001b[1;33m=\u001b[0m \u001b[1;34m\"ugds\"\u001b[0m\u001b[1;33m\u001b[0m\u001b[1;33m\u001b[0m\u001b[0m\n\u001b[0m",
      "\u001b[1;31mTypeError\u001b[0m: 'tuple' object does not support item assignment"
     ]
    }
   ],
   "source": [
    "t1[0] = \"ugds\""
   ]
  },
  {
   "cell_type": "code",
   "execution_count": 21,
   "id": "b98c7827",
   "metadata": {},
   "outputs": [],
   "source": [
    "#list is mutable\n",
    "#tuple is immutable"
   ]
  },
  {
   "cell_type": "code",
   "execution_count": 22,
   "id": "74cec576",
   "metadata": {},
   "outputs": [],
   "source": [
    "t2 = (549,245,51)"
   ]
  },
  {
   "cell_type": "code",
   "execution_count": 23,
   "id": "62a944e9",
   "metadata": {},
   "outputs": [
    {
     "data": {
      "text/plain": [
       "(21546, 245, 'syed', 45, (5+6j), True, 549, 245, 51)"
      ]
     },
     "execution_count": 23,
     "metadata": {},
     "output_type": "execute_result"
    }
   ],
   "source": [
    "t1+t2"
   ]
  },
  {
   "cell_type": "code",
   "execution_count": 24,
   "id": "83b55f83",
   "metadata": {},
   "outputs": [
    {
     "data": {
      "text/plain": [
       "(21546,\n",
       " 245,\n",
       " 'syed',\n",
       " 45,\n",
       " (5+6j),\n",
       " True,\n",
       " 21546,\n",
       " 245,\n",
       " 'syed',\n",
       " 45,\n",
       " (5+6j),\n",
       " True,\n",
       " 21546,\n",
       " 245,\n",
       " 'syed',\n",
       " 45,\n",
       " (5+6j),\n",
       " True,\n",
       " 21546,\n",
       " 245,\n",
       " 'syed',\n",
       " 45,\n",
       " (5+6j),\n",
       " True)"
      ]
     },
     "execution_count": 24,
     "metadata": {},
     "output_type": "execute_result"
    }
   ],
   "source": [
    "t1*4"
   ]
  },
  {
   "cell_type": "code",
   "execution_count": 25,
   "id": "cb52875f",
   "metadata": {},
   "outputs": [
    {
     "data": {
      "text/plain": [
       "(21546, 245, 'syed', 45, (5+6j), True)"
      ]
     },
     "execution_count": 25,
     "metadata": {},
     "output_type": "execute_result"
    }
   ],
   "source": [
    "t1"
   ]
  },
  {
   "cell_type": "code",
   "execution_count": 26,
   "id": "69118f00",
   "metadata": {},
   "outputs": [
    {
     "data": {
      "text/plain": [
       "True"
      ]
     },
     "execution_count": 26,
     "metadata": {},
     "output_type": "execute_result"
    }
   ],
   "source": [
    "45 in t1"
   ]
  },
  {
   "cell_type": "code",
   "execution_count": 27,
   "id": "0e908c5f",
   "metadata": {},
   "outputs": [
    {
     "data": {
      "text/plain": [
       "False"
      ]
     },
     "execution_count": 27,
     "metadata": {},
     "output_type": "execute_result"
    }
   ],
   "source": [
    "\"khgd\" in t1"
   ]
  },
  {
   "cell_type": "code",
   "execution_count": 28,
   "id": "fe178060",
   "metadata": {},
   "outputs": [
    {
     "data": {
      "text/plain": [
       "(21546, 245, 'syed', 45, (5+6j), True)"
      ]
     },
     "execution_count": 28,
     "metadata": {},
     "output_type": "execute_result"
    }
   ],
   "source": [
    "t1"
   ]
  },
  {
   "cell_type": "code",
   "execution_count": 29,
   "id": "33485c2f",
   "metadata": {},
   "outputs": [
    {
     "ename": "TypeError",
     "evalue": "'>' not supported between instances of 'str' and 'int'",
     "output_type": "error",
     "traceback": [
      "\u001b[1;31m---------------------------------------------------------------------------\u001b[0m",
      "\u001b[1;31mTypeError\u001b[0m                                 Traceback (most recent call last)",
      "\u001b[1;32m~\\AppData\\Local\\Temp/ipykernel_18136/3099455752.py\u001b[0m in \u001b[0;36m<module>\u001b[1;34m\u001b[0m\n\u001b[1;32m----> 1\u001b[1;33m \u001b[0mmax\u001b[0m\u001b[1;33m(\u001b[0m\u001b[0mt1\u001b[0m\u001b[1;33m)\u001b[0m\u001b[1;33m\u001b[0m\u001b[1;33m\u001b[0m\u001b[0m\n\u001b[0m",
      "\u001b[1;31mTypeError\u001b[0m: '>' not supported between instances of 'str' and 'int'"
     ]
    }
   ],
   "source": [
    "max(t1)"
   ]
  },
  {
   "cell_type": "code",
   "execution_count": 30,
   "id": "36aca51b",
   "metadata": {},
   "outputs": [],
   "source": [
    "t3 = (454,564,787,25)"
   ]
  },
  {
   "cell_type": "code",
   "execution_count": 31,
   "id": "e9fff975",
   "metadata": {},
   "outputs": [
    {
     "data": {
      "text/plain": [
       "787"
      ]
     },
     "execution_count": 31,
     "metadata": {},
     "output_type": "execute_result"
    }
   ],
   "source": [
    "max(t3)"
   ]
  },
  {
   "cell_type": "code",
   "execution_count": 32,
   "id": "494bc4e7",
   "metadata": {},
   "outputs": [],
   "source": [
    "t4 = (\"jsdbksdjf\",\"fhdi\",\"dihfoegf\")"
   ]
  },
  {
   "cell_type": "code",
   "execution_count": 33,
   "id": "ec1c67fd",
   "metadata": {},
   "outputs": [
    {
     "data": {
      "text/plain": [
       "'jsdbksdjf'"
      ]
     },
     "execution_count": 33,
     "metadata": {},
     "output_type": "execute_result"
    }
   ],
   "source": [
    "max(t4)"
   ]
  },
  {
   "cell_type": "code",
   "execution_count": 34,
   "id": "ba9c3ec3",
   "metadata": {},
   "outputs": [
    {
     "data": {
      "text/plain": [
       "(21546, 245, 'syed', 45, (5+6j), True)"
      ]
     },
     "execution_count": 34,
     "metadata": {},
     "output_type": "execute_result"
    }
   ],
   "source": [
    "t1"
   ]
  },
  {
   "cell_type": "code",
   "execution_count": 37,
   "id": "a80621f2",
   "metadata": {},
   "outputs": [
    {
     "ename": "ValueError",
     "evalue": "tuple.index(x): x not in tuple",
     "output_type": "error",
     "traceback": [
      "\u001b[1;31m---------------------------------------------------------------------------\u001b[0m",
      "\u001b[1;31mValueError\u001b[0m                                Traceback (most recent call last)",
      "\u001b[1;32m~\\AppData\\Local\\Temp/ipykernel_18136/1674557640.py\u001b[0m in \u001b[0;36m<module>\u001b[1;34m\u001b[0m\n\u001b[1;32m----> 1\u001b[1;33m \u001b[0mt1\u001b[0m\u001b[1;33m.\u001b[0m\u001b[0mindex\u001b[0m\u001b[1;33m(\u001b[0m\u001b[1;36m6\u001b[0m\u001b[1;33m)\u001b[0m\u001b[1;33m\u001b[0m\u001b[1;33m\u001b[0m\u001b[0m\n\u001b[0m",
      "\u001b[1;31mValueError\u001b[0m: tuple.index(x): x not in tuple"
     ]
    }
   ],
   "source": [
    "t1.index(6)"
   ]
  },
  {
   "cell_type": "code",
   "execution_count": 38,
   "id": "5dce4472",
   "metadata": {},
   "outputs": [
    {
     "data": {
      "text/plain": [
       "3"
      ]
     },
     "execution_count": 38,
     "metadata": {},
     "output_type": "execute_result"
    }
   ],
   "source": [
    "t1.index(45)"
   ]
  },
  {
   "cell_type": "code",
   "execution_count": 39,
   "id": "5108f651",
   "metadata": {},
   "outputs": [],
   "source": [
    "t5 = (45,55,24,3564,55,55,55,64)"
   ]
  },
  {
   "cell_type": "code",
   "execution_count": 40,
   "id": "17689f85",
   "metadata": {},
   "outputs": [
    {
     "data": {
      "text/plain": [
       "1"
      ]
     },
     "execution_count": 40,
     "metadata": {},
     "output_type": "execute_result"
    }
   ],
   "source": [
    "t5.index(55)"
   ]
  },
  {
   "cell_type": "code",
   "execution_count": 41,
   "id": "1dc2ae5e",
   "metadata": {},
   "outputs": [
    {
     "data": {
      "text/plain": [
       "4"
      ]
     },
     "execution_count": 41,
     "metadata": {},
     "output_type": "execute_result"
    }
   ],
   "source": [
    "t5.count(55)"
   ]
  },
  {
   "cell_type": "code",
   "execution_count": 42,
   "id": "569f7489",
   "metadata": {},
   "outputs": [
    {
     "data": {
      "text/plain": [
       "'dihfoegf'"
      ]
     },
     "execution_count": 42,
     "metadata": {},
     "output_type": "execute_result"
    }
   ],
   "source": [
    "min(t4)"
   ]
  },
  {
   "cell_type": "code",
   "execution_count": 43,
   "id": "f0c222cf",
   "metadata": {},
   "outputs": [
    {
     "ename": "TypeError",
     "evalue": "'<' not supported between instances of 'str' and 'int'",
     "output_type": "error",
     "traceback": [
      "\u001b[1;31m---------------------------------------------------------------------------\u001b[0m",
      "\u001b[1;31mTypeError\u001b[0m                                 Traceback (most recent call last)",
      "\u001b[1;32m~\\AppData\\Local\\Temp/ipykernel_18136/1277130607.py\u001b[0m in \u001b[0;36m<module>\u001b[1;34m\u001b[0m\n\u001b[1;32m----> 1\u001b[1;33m \u001b[0mmin\u001b[0m\u001b[1;33m(\u001b[0m\u001b[0mt1\u001b[0m\u001b[1;33m)\u001b[0m\u001b[1;33m\u001b[0m\u001b[1;33m\u001b[0m\u001b[0m\n\u001b[0m",
      "\u001b[1;31mTypeError\u001b[0m: '<' not supported between instances of 'str' and 'int'"
     ]
    }
   ],
   "source": [
    "min(t1)"
   ]
  },
  {
   "cell_type": "code",
   "execution_count": 44,
   "id": "10a074b2",
   "metadata": {},
   "outputs": [
    {
     "data": {
      "text/plain": [
       "(21546, 245, 'syed', 45, (5+6j), True)"
      ]
     },
     "execution_count": 44,
     "metadata": {},
     "output_type": "execute_result"
    }
   ],
   "source": [
    "t1"
   ]
  },
  {
   "cell_type": "code",
   "execution_count": 47,
   "id": "9a3f8f1c",
   "metadata": {},
   "outputs": [],
   "source": [
    "t6 = (90,54,25)"
   ]
  },
  {
   "cell_type": "code",
   "execution_count": 48,
   "id": "4059cd8b",
   "metadata": {},
   "outputs": [
    {
     "data": {
      "text/plain": [
       "(21546, 245, 'syed', 45, (5+6j), True, 90, 54, 25)"
      ]
     },
     "execution_count": 48,
     "metadata": {},
     "output_type": "execute_result"
    }
   ],
   "source": [
    "t1+t6"
   ]
  },
  {
   "cell_type": "code",
   "execution_count": 49,
   "id": "547bf668",
   "metadata": {},
   "outputs": [],
   "source": [
    "t7 = 56"
   ]
  },
  {
   "cell_type": "code",
   "execution_count": 51,
   "id": "3efa29bf",
   "metadata": {},
   "outputs": [],
   "source": [
    "l5 = list(t1)"
   ]
  },
  {
   "cell_type": "code",
   "execution_count": 52,
   "id": "bc99e671",
   "metadata": {},
   "outputs": [],
   "source": [
    "l5.insert(3,t6)"
   ]
  },
  {
   "cell_type": "code",
   "execution_count": 53,
   "id": "b17a10da",
   "metadata": {},
   "outputs": [
    {
     "data": {
      "text/plain": [
       "[21546, 245, 'syed', (90, 54, 25), 45, (5+6j), True]"
      ]
     },
     "execution_count": 53,
     "metadata": {},
     "output_type": "execute_result"
    }
   ],
   "source": [
    "l5"
   ]
  },
  {
   "cell_type": "code",
   "execution_count": 55,
   "id": "47d5d84f",
   "metadata": {},
   "outputs": [
    {
     "data": {
      "text/plain": [
       "(21546, 245, 'syed', (90, 54, 25), 45, (5+6j), True)"
      ]
     },
     "execution_count": 55,
     "metadata": {},
     "output_type": "execute_result"
    }
   ],
   "source": [
    "tuple(l5)"
   ]
  },
  {
   "cell_type": "code",
   "execution_count": 56,
   "id": "9db1c23a",
   "metadata": {},
   "outputs": [],
   "source": [
    "t = ((3,4,5,6,7),(\"djgfjdg\",46,51),(\"hgfshj\",\"546\",56),3,64,15,50,[65,21,623,100])"
   ]
  },
  {
   "cell_type": "code",
   "execution_count": 57,
   "id": "16937c64",
   "metadata": {},
   "outputs": [
    {
     "data": {
      "text/plain": [
       "((3, 4, 5, 6, 7),\n",
       " ('djgfjdg', 46, 51),\n",
       " ('hgfshj', '546', 56),\n",
       " 3,\n",
       " 64,\n",
       " 15,\n",
       " 50,\n",
       " [65, 21, 623, 100])"
      ]
     },
     "execution_count": 57,
     "metadata": {},
     "output_type": "execute_result"
    }
   ],
   "source": [
    "t"
   ]
  },
  {
   "cell_type": "code",
   "execution_count": 59,
   "id": "11852950",
   "metadata": {},
   "outputs": [
    {
     "data": {
      "text/plain": [
       "[65, 21, 623, 100]"
      ]
     },
     "execution_count": 59,
     "metadata": {},
     "output_type": "execute_result"
    }
   ],
   "source": [
    "t[7]"
   ]
  },
  {
   "cell_type": "code",
   "execution_count": 61,
   "id": "82ee7298",
   "metadata": {},
   "outputs": [
    {
     "data": {
      "text/plain": [
       "list"
      ]
     },
     "execution_count": 61,
     "metadata": {},
     "output_type": "execute_result"
    }
   ],
   "source": [
    "type(t[7])"
   ]
  },
  {
   "cell_type": "code",
   "execution_count": 62,
   "id": "397386e4",
   "metadata": {},
   "outputs": [
    {
     "data": {
      "text/plain": [
       "21"
      ]
     },
     "execution_count": 62,
     "metadata": {},
     "output_type": "execute_result"
    }
   ],
   "source": [
    "t[7][1]"
   ]
  },
  {
   "cell_type": "code",
   "execution_count": 63,
   "id": "d6114edc",
   "metadata": {},
   "outputs": [
    {
     "data": {
      "text/plain": [
       "[21, 623, 100]"
      ]
     },
     "execution_count": 63,
     "metadata": {},
     "output_type": "execute_result"
    }
   ],
   "source": [
    "t[7][1:4]"
   ]
  },
  {
   "cell_type": "code",
   "execution_count": 64,
   "id": "ae007a04",
   "metadata": {},
   "outputs": [
    {
     "data": {
      "text/plain": [
       "('djgfjdg', 46, 51)"
      ]
     },
     "execution_count": 64,
     "metadata": {},
     "output_type": "execute_result"
    }
   ],
   "source": [
    "t[1]"
   ]
  },
  {
   "cell_type": "code",
   "execution_count": 65,
   "id": "0c87ddd3",
   "metadata": {},
   "outputs": [
    {
     "data": {
      "text/plain": [
       "'djgfjdg'"
      ]
     },
     "execution_count": 65,
     "metadata": {},
     "output_type": "execute_result"
    }
   ],
   "source": [
    "t[1][0]"
   ]
  },
  {
   "cell_type": "code",
   "execution_count": 66,
   "id": "81080dde",
   "metadata": {},
   "outputs": [
    {
     "name": "stdout",
     "output_type": "stream",
     "text": [
      "(3, 4, 5, 6, 7)\n",
      "('djgfjdg', 46, 51)\n",
      "('hgfshj', '546', 56)\n",
      "3\n",
      "64\n",
      "15\n",
      "50\n",
      "[65, 21, 623, 100]\n"
     ]
    }
   ],
   "source": [
    "for i in t:\n",
    "    print(i)"
   ]
  },
  {
   "cell_type": "code",
   "execution_count": 68,
   "id": "14670818",
   "metadata": {},
   "outputs": [
    {
     "name": "stdout",
     "output_type": "stream",
     "text": [
      "3\n",
      "djgfjdg\n",
      "hgfshj\n"
     ]
    }
   ],
   "source": [
    "for i in t:\n",
    "    if type(i) == tuple:\n",
    "        print(i[0])"
   ]
  },
  {
   "cell_type": "code",
   "execution_count": 69,
   "id": "e4f9bd9f",
   "metadata": {},
   "outputs": [
    {
     "data": {
      "text/plain": [
       "(21546, 245, 'syed', 45, (5+6j), True)"
      ]
     },
     "execution_count": 69,
     "metadata": {},
     "output_type": "execute_result"
    }
   ],
   "source": [
    "t1"
   ]
  },
  {
   "cell_type": "code",
   "execution_count": 70,
   "id": "f9caf6cb",
   "metadata": {},
   "outputs": [
    {
     "data": {
      "text/plain": [
       "(549, 245, 51)"
      ]
     },
     "execution_count": 70,
     "metadata": {},
     "output_type": "execute_result"
    }
   ],
   "source": [
    "t2"
   ]
  },
  {
   "cell_type": "code",
   "execution_count": 71,
   "id": "f729563a",
   "metadata": {},
   "outputs": [
    {
     "name": "stdout",
     "output_type": "stream",
     "text": [
      "not same \n"
     ]
    }
   ],
   "source": [
    "if len(t1) == len(t2):\n",
    "    print(\"its same \")\n",
    "else :\n",
    "    print(\"not same \")"
   ]
  },
  {
   "cell_type": "code",
   "execution_count": 80,
   "id": "635ece36",
   "metadata": {},
   "outputs": [],
   "source": [
    "t = (21546,21, 245, 'syed', 45, (5+6j), True, \"yusuf\")"
   ]
  },
  {
   "cell_type": "code",
   "execution_count": 81,
   "id": "25c82330",
   "metadata": {},
   "outputs": [
    {
     "name": "stdout",
     "output_type": "stream",
     "text": [
      "take user input syed\n",
      "yes your name is available \n"
     ]
    }
   ],
   "source": [
    "i = input(\"take user input \")\n",
    "\n",
    "if i in t:\n",
    "    print(\"yes your name is available \")\n",
    "else :\n",
    "    print(\"your name is not available \")"
   ]
  },
  {
   "cell_type": "code",
   "execution_count": 82,
   "id": "99419d8c",
   "metadata": {},
   "outputs": [
    {
     "data": {
      "text/plain": [
       "(21546, 21, 245, 'syed', 45, (5+6j), True, 'yusuf')"
      ]
     },
     "execution_count": 82,
     "metadata": {},
     "output_type": "execute_result"
    }
   ],
   "source": [
    "t"
   ]
  },
  {
   "cell_type": "code",
   "execution_count": 83,
   "id": "20be5eae",
   "metadata": {},
   "outputs": [
    {
     "data": {
      "text/plain": [
       "['yusuf', 21, 'syed', 3, 6, (1+6j), True]"
      ]
     },
     "execution_count": 83,
     "metadata": {},
     "output_type": "execute_result"
    }
   ],
   "source": [
    "l1"
   ]
  },
  {
   "cell_type": "code",
   "execution_count": 84,
   "id": "44a104c5",
   "metadata": {},
   "outputs": [
    {
     "ename": "SyntaxError",
     "evalue": "cannot delete literal (Temp/ipykernel_18136/302530423.py, line 1)",
     "output_type": "error",
     "traceback": [
      "\u001b[1;36m  File \u001b[1;32m\"C:\\Users\\syedf\\AppData\\Local\\Temp/ipykernel_18136/302530423.py\"\u001b[1;36m, line \u001b[1;32m1\u001b[0m\n\u001b[1;33m    del(21)\u001b[0m\n\u001b[1;37m        ^\u001b[0m\n\u001b[1;31mSyntaxError\u001b[0m\u001b[1;31m:\u001b[0m cannot delete literal\n"
     ]
    }
   ],
   "source": [
    "del(21)"
   ]
  },
  {
   "cell_type": "code",
   "execution_count": 85,
   "id": "6a7e5450",
   "metadata": {},
   "outputs": [],
   "source": [
    "del(t)"
   ]
  },
  {
   "cell_type": "code",
   "execution_count": 86,
   "id": "c5f17c14",
   "metadata": {},
   "outputs": [
    {
     "ename": "NameError",
     "evalue": "name 't' is not defined",
     "output_type": "error",
     "traceback": [
      "\u001b[1;31m---------------------------------------------------------------------------\u001b[0m",
      "\u001b[1;31mNameError\u001b[0m                                 Traceback (most recent call last)",
      "\u001b[1;32m~\\AppData\\Local\\Temp/ipykernel_18136/3790515489.py\u001b[0m in \u001b[0;36m<module>\u001b[1;34m\u001b[0m\n\u001b[1;32m----> 1\u001b[1;33m \u001b[0mt\u001b[0m\u001b[1;33m\u001b[0m\u001b[1;33m\u001b[0m\u001b[0m\n\u001b[0m",
      "\u001b[1;31mNameError\u001b[0m: name 't' is not defined"
     ]
    }
   ],
   "source": [
    "t"
   ]
  },
  {
   "cell_type": "code",
   "execution_count": 87,
   "id": "cbb5a7b2",
   "metadata": {},
   "outputs": [],
   "source": [
    "del(l1)"
   ]
  },
  {
   "cell_type": "code",
   "execution_count": 88,
   "id": "0db76154",
   "metadata": {},
   "outputs": [
    {
     "ename": "NameError",
     "evalue": "name 'l1' is not defined",
     "output_type": "error",
     "traceback": [
      "\u001b[1;31m---------------------------------------------------------------------------\u001b[0m",
      "\u001b[1;31mNameError\u001b[0m                                 Traceback (most recent call last)",
      "\u001b[1;32m~\\AppData\\Local\\Temp/ipykernel_18136/2585568370.py\u001b[0m in \u001b[0;36m<module>\u001b[1;34m\u001b[0m\n\u001b[1;32m----> 1\u001b[1;33m \u001b[0ml1\u001b[0m\u001b[1;33m\u001b[0m\u001b[1;33m\u001b[0m\u001b[0m\n\u001b[0m",
      "\u001b[1;31mNameError\u001b[0m: name 'l1' is not defined"
     ]
    }
   ],
   "source": [
    "l1"
   ]
  },
  {
   "cell_type": "code",
   "execution_count": 89,
   "id": "64bb30a1",
   "metadata": {},
   "outputs": [],
   "source": [
    "l = [346,316,641,345]"
   ]
  },
  {
   "cell_type": "code",
   "execution_count": 93,
   "id": "d7d1c714",
   "metadata": {},
   "outputs": [
    {
     "data": {
      "text/plain": [
       "(549, 245, 51)"
      ]
     },
     "execution_count": 93,
     "metadata": {},
     "output_type": "execute_result"
    }
   ],
   "source": [
    "t2"
   ]
  },
  {
   "cell_type": "code",
   "execution_count": 94,
   "id": "b4c8ebcb",
   "metadata": {},
   "outputs": [
    {
     "data": {
      "text/plain": [
       "1"
      ]
     },
     "execution_count": 94,
     "metadata": {},
     "output_type": "execute_result"
    }
   ],
   "source": [
    "t2.count(51)"
   ]
  },
  {
   "cell_type": "code",
   "execution_count": 98,
   "id": "2706ec72",
   "metadata": {},
   "outputs": [
    {
     "data": {
      "text/plain": [
       "2"
      ]
     },
     "execution_count": 98,
     "metadata": {},
     "output_type": "execute_result"
    }
   ],
   "source": [
    "t2.index(51)"
   ]
  },
  {
   "cell_type": "code",
   "execution_count": 169,
   "id": "04241a4a",
   "metadata": {},
   "outputs": [],
   "source": [
    "#set....................................\n",
    "#...................................\n",
    "#"
   ]
  },
  {
   "cell_type": "code",
   "execution_count": 199,
   "id": "f16105c7",
   "metadata": {},
   "outputs": [],
   "source": [
    "#x = set()"
   ]
  },
  {
   "cell_type": "code",
   "execution_count": 200,
   "id": "5dbd6040",
   "metadata": {},
   "outputs": [],
   "source": [
    "#type(x)"
   ]
  },
  {
   "cell_type": "code",
   "execution_count": 201,
   "id": "e23df515",
   "metadata": {},
   "outputs": [],
   "source": [
    "#l = [34,45,45,45,45,67,34,56,78,\"syed\",\"syed\",\"Syed\",\"yusuf\",\"fayeque\"]"
   ]
  },
  {
   "cell_type": "code",
   "execution_count": 202,
   "id": "67078f7b",
   "metadata": {},
   "outputs": [],
   "source": [
    "#l"
   ]
  },
  {
   "cell_type": "code",
   "execution_count": 203,
   "id": "c51143e0",
   "metadata": {},
   "outputs": [],
   "source": [
    "#set(l)"
   ]
  },
  {
   "cell_type": "code",
   "execution_count": 204,
   "id": "109f5a1f",
   "metadata": {},
   "outputs": [],
   "source": [
    "#s = set(l)"
   ]
  },
  {
   "cell_type": "code",
   "execution_count": 205,
   "id": "63b78e17",
   "metadata": {},
   "outputs": [],
   "source": [
    "#s"
   ]
  },
  {
   "cell_type": "code",
   "execution_count": 225,
   "id": "0df84ed3",
   "metadata": {},
   "outputs": [],
   "source": [
    "#for i in s :\n",
    "#    print(i)"
   ]
  },
  {
   "cell_type": "code",
   "execution_count": 207,
   "id": "8ec8991f",
   "metadata": {},
   "outputs": [],
   "source": [
    "#34 in s"
   ]
  },
  {
   "cell_type": "code",
   "execution_count": 208,
   "id": "0f21562e",
   "metadata": {},
   "outputs": [],
   "source": [
    "#s[0]"
   ]
  },
  {
   "cell_type": "code",
   "execution_count": 209,
   "id": "1424a8b0",
   "metadata": {},
   "outputs": [],
   "source": [
    "#s(0)"
   ]
  },
  {
   "cell_type": "code",
   "execution_count": 210,
   "id": "a2c58344",
   "metadata": {},
   "outputs": [],
   "source": [
    "#s = {}"
   ]
  },
  {
   "cell_type": "code",
   "execution_count": 211,
   "id": "e8f20789",
   "metadata": {},
   "outputs": [],
   "source": [
    "#type(s)"
   ]
  },
  {
   "cell_type": "code",
   "execution_count": 212,
   "id": "35dac7b5",
   "metadata": {},
   "outputs": [],
   "source": [
    "#s = ()"
   ]
  },
  {
   "cell_type": "code",
   "execution_count": 213,
   "id": "49c48271",
   "metadata": {},
   "outputs": [],
   "source": [
    "#type(s)"
   ]
  },
  {
   "cell_type": "code",
   "execution_count": 214,
   "id": "583f558e",
   "metadata": {},
   "outputs": [],
   "source": [
    "#set = ()"
   ]
  },
  {
   "cell_type": "code",
   "execution_count": 215,
   "id": "3963b1ec",
   "metadata": {},
   "outputs": [],
   "source": [
    "#type(set)"
   ]
  },
  {
   "cell_type": "code",
   "execution_count": 216,
   "id": "68090800",
   "metadata": {},
   "outputs": [],
   "source": [
    "#set=()"
   ]
  },
  {
   "cell_type": "code",
   "execution_count": 217,
   "id": "b2f04594",
   "metadata": {},
   "outputs": [],
   "source": [
    "#type(set)"
   ]
  },
  {
   "cell_type": "code",
   "execution_count": 218,
   "id": "2bbd36b7",
   "metadata": {},
   "outputs": [],
   "source": [
    "#set = {}"
   ]
  },
  {
   "cell_type": "code",
   "execution_count": 219,
   "id": "21a98599",
   "metadata": {},
   "outputs": [],
   "source": [
    "#type(set)"
   ]
  },
  {
   "cell_type": "code",
   "execution_count": 220,
   "id": "0223a691",
   "metadata": {},
   "outputs": [],
   "source": [
    "#set = []"
   ]
  },
  {
   "cell_type": "code",
   "execution_count": 221,
   "id": "b06dbedd",
   "metadata": {},
   "outputs": [],
   "source": [
    "##type(set)"
   ]
  },
  {
   "cell_type": "code",
   "execution_count": 222,
   "id": "eebd6098",
   "metadata": {},
   "outputs": [],
   "source": [
    "#l1 = [31,326,346,1566464,315,215,2,215,16,21,\"shdf\",\"syed\",\"syed\",\"yusuf\"]"
   ]
  },
  {
   "cell_type": "code",
   "execution_count": 223,
   "id": "b4f18a82",
   "metadata": {},
   "outputs": [],
   "source": [
    "#l1"
   ]
  },
  {
   "cell_type": "code",
   "execution_count": 224,
   "id": "8ec0aa94",
   "metadata": {},
   "outputs": [],
   "source": [
    "#set(l1)"
   ]
  },
  {
   "cell_type": "code",
   "execution_count": 226,
   "id": "24ff8e29",
   "metadata": {},
   "outputs": [
    {
     "ename": "TypeError",
     "evalue": "'list' object is not callable",
     "output_type": "error",
     "traceback": [
      "\u001b[1;31m---------------------------------------------------------------------------\u001b[0m",
      "\u001b[1;31mTypeError\u001b[0m                                 Traceback (most recent call last)",
      "\u001b[1;32m~\\AppData\\Local\\Temp/ipykernel_18136/2082238557.py\u001b[0m in \u001b[0;36m<module>\u001b[1;34m\u001b[0m\n\u001b[1;32m----> 1\u001b[1;33m \u001b[0mx\u001b[0m \u001b[1;33m=\u001b[0m \u001b[0mset\u001b[0m\u001b[1;33m(\u001b[0m\u001b[1;33m)\u001b[0m\u001b[1;33m\u001b[0m\u001b[1;33m\u001b[0m\u001b[0m\n\u001b[0m",
      "\u001b[1;31mTypeError\u001b[0m: 'list' object is not callable"
     ]
    }
   ],
   "source": [
    "x = set()"
   ]
  },
  {
   "cell_type": "code",
   "execution_count": null,
   "id": "79c19818",
   "metadata": {},
   "outputs": [],
   "source": []
  },
  {
   "cell_type": "code",
   "execution_count": null,
   "id": "9fce53e7",
   "metadata": {},
   "outputs": [],
   "source": []
  },
  {
   "cell_type": "code",
   "execution_count": null,
   "id": "2a169ffe",
   "metadata": {},
   "outputs": [],
   "source": []
  },
  {
   "cell_type": "code",
   "execution_count": null,
   "id": "2da06d10",
   "metadata": {},
   "outputs": [],
   "source": []
  },
  {
   "cell_type": "code",
   "execution_count": null,
   "id": "0cbec322",
   "metadata": {},
   "outputs": [],
   "source": []
  },
  {
   "cell_type": "code",
   "execution_count": null,
   "id": "9e0d1896",
   "metadata": {},
   "outputs": [],
   "source": []
  },
  {
   "cell_type": "code",
   "execution_count": null,
   "id": "312577cd",
   "metadata": {},
   "outputs": [],
   "source": []
  }
 ],
 "metadata": {
  "kernelspec": {
   "display_name": "Python 3 (ipykernel)",
   "language": "python",
   "name": "python3"
  },
  "language_info": {
   "codemirror_mode": {
    "name": "ipython",
    "version": 3
   },
   "file_extension": ".py",
   "mimetype": "text/x-python",
   "name": "python",
   "nbconvert_exporter": "python",
   "pygments_lexer": "ipython3",
   "version": "3.9.7"
  }
 },
 "nbformat": 4,
 "nbformat_minor": 5
}
