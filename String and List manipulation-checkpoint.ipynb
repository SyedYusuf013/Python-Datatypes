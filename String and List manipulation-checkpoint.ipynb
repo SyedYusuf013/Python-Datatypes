{
 "cells": [
  {
   "cell_type": "code",
   "execution_count": 1,
   "id": "9427bc39",
   "metadata": {},
   "outputs": [],
   "source": [
    "l = list()"
   ]
  },
  {
   "cell_type": "code",
   "execution_count": 6,
   "id": "5eae6f3c",
   "metadata": {},
   "outputs": [],
   "source": [
    "name = \"syed\"\n",
    "rollno = 2001320310038\n",
    "branch = \"ECE\"\n",
    "\n",
    "name , rollno , branch = \"syed\" , 20013203100038, \"ECE\""
   ]
  },
  {
   "cell_type": "code",
   "execution_count": 38,
   "id": "1a976dfb",
   "metadata": {},
   "outputs": [
    {
     "data": {
      "text/plain": [
       "7"
      ]
     },
     "execution_count": 38,
     "metadata": {},
     "output_type": "execute_result"
    }
   ],
   "source": [
    "l = [\"syed\", 4466, \"jdbfiehfkn\" , True, 24+8j , [4,5,6,\"hdfhd\"], 7.849]\n",
    "\n",
    "len(l)"
   ]
  },
  {
   "cell_type": "code",
   "execution_count": 20,
   "id": "fe266e3e",
   "metadata": {},
   "outputs": [
    {
     "name": "stdout",
     "output_type": "stream",
     "text": [
      "<class 'str'>\n",
      "<class 'int'>\n",
      "<class 'str'>\n",
      "<class 'bool'>\n",
      "<class 'complex'>\n",
      "<class 'list'>\n",
      "<class 'float'>\n"
     ]
    }
   ],
   "source": [
    "for i in l :\n",
    "    print(type(i))"
   ]
  },
  {
   "cell_type": "code",
   "execution_count": 21,
   "id": "148b6fa0",
   "metadata": {},
   "outputs": [
    {
     "data": {
      "text/plain": [
       "['syed', 4466, 'jdbfiehfkn', True, (24+8j), [4, 5, 6, 'hdfhd'], 7.849]"
      ]
     },
     "execution_count": 21,
     "metadata": {},
     "output_type": "execute_result"
    }
   ],
   "source": [
    "l"
   ]
  },
  {
   "cell_type": "code",
   "execution_count": 23,
   "id": "6364e1fb",
   "metadata": {},
   "outputs": [
    {
     "name": "stdout",
     "output_type": "stream",
     "text": [
      "15\n",
      "<class 'str'>\n"
     ]
    }
   ],
   "source": [
    "for i in l :\n",
    "    if type(i) == list :\n",
    "        n = 0\n",
    "        for j in i :\n",
    "            if type(j) == int:\n",
    "                n = n + j\n",
    "        print(n)\n",
    "                \n",
    "        print(type(j))"
   ]
  },
  {
   "cell_type": "code",
   "execution_count": 22,
   "id": "67b663b4",
   "metadata": {},
   "outputs": [
    {
     "name": "stdout",
     "output_type": "stream",
     "text": [
      "<class 'int'>\n",
      "<class 'int'>\n",
      "<class 'int'>\n",
      "<class 'str'>\n"
     ]
    }
   ],
   "source": [
    "for i in l :\n",
    "    if type(i) == list :\n",
    "        for j in i :\n",
    "            print(type(j))"
   ]
  },
  {
   "cell_type": "code",
   "execution_count": 10,
   "id": "21da3058",
   "metadata": {},
   "outputs": [
    {
     "data": {
      "text/plain": [
       "'syed'"
      ]
     },
     "execution_count": 10,
     "metadata": {},
     "output_type": "execute_result"
    }
   ],
   "source": [
    "l[0]"
   ]
  },
  {
   "cell_type": "code",
   "execution_count": 11,
   "id": "1b025fda",
   "metadata": {},
   "outputs": [
    {
     "data": {
      "text/plain": [
       "4466"
      ]
     },
     "execution_count": 11,
     "metadata": {},
     "output_type": "execute_result"
    }
   ],
   "source": [
    "l[1]"
   ]
  },
  {
   "cell_type": "code",
   "execution_count": 12,
   "id": "e5b4c278",
   "metadata": {},
   "outputs": [
    {
     "data": {
      "text/plain": [
       "'jdbfiehfkn'"
      ]
     },
     "execution_count": 12,
     "metadata": {},
     "output_type": "execute_result"
    }
   ],
   "source": [
    "l[2]"
   ]
  },
  {
   "cell_type": "code",
   "execution_count": 24,
   "id": "5dd4c266",
   "metadata": {},
   "outputs": [
    {
     "data": {
      "text/plain": [
       "['syed', 4466, 'jdbfiehfkn']"
      ]
     },
     "execution_count": 24,
     "metadata": {},
     "output_type": "execute_result"
    }
   ],
   "source": [
    "l[0:3]"
   ]
  },
  {
   "cell_type": "code",
   "execution_count": 14,
   "id": "c0c2defe",
   "metadata": {},
   "outputs": [
    {
     "data": {
      "text/plain": [
       "list"
      ]
     },
     "execution_count": 14,
     "metadata": {},
     "output_type": "execute_result"
    }
   ],
   "source": [
    "type(l)"
   ]
  },
  {
   "cell_type": "code",
   "execution_count": 32,
   "id": "80506cf0",
   "metadata": {},
   "outputs": [
    {
     "data": {
      "text/plain": [
       "[7.849, [4, 5, 6, 'hdfhd'], (24+8j)]"
      ]
     },
     "execution_count": 32,
     "metadata": {},
     "output_type": "execute_result"
    }
   ],
   "source": [
    "l[8:3:-1]"
   ]
  },
  {
   "cell_type": "code",
   "execution_count": 16,
   "id": "e4b7f93e",
   "metadata": {},
   "outputs": [
    {
     "data": {
      "text/plain": [
       "list"
      ]
     },
     "execution_count": 16,
     "metadata": {},
     "output_type": "execute_result"
    }
   ],
   "source": [
    "l1 = []\n",
    "type(l1)"
   ]
  },
  {
   "cell_type": "code",
   "execution_count": 36,
   "id": "1b0340cf",
   "metadata": {},
   "outputs": [
    {
     "data": {
      "text/plain": [
       "[0, 1, 2, 3, 4, 5, 6, 7, 8, 9]"
      ]
     },
     "execution_count": 36,
     "metadata": {},
     "output_type": "execute_result"
    }
   ],
   "source": [
    "list(range(10))"
   ]
  },
  {
   "cell_type": "code",
   "execution_count": 37,
   "id": "535c26ff",
   "metadata": {},
   "outputs": [
    {
     "name": "stdout",
     "output_type": "stream",
     "text": [
      "4\n",
      "5\n",
      "6\n",
      "7\n",
      "8\n",
      "9\n"
     ]
    }
   ],
   "source": [
    "for i in range(4,10):\n",
    "    print(i)"
   ]
  },
  {
   "cell_type": "code",
   "execution_count": 17,
   "id": "19844ab5",
   "metadata": {},
   "outputs": [
    {
     "data": {
      "text/plain": [
       "list"
      ]
     },
     "execution_count": 17,
     "metadata": {},
     "output_type": "execute_result"
    }
   ],
   "source": [
    "l2 = list()\n",
    "type(l2)"
   ]
  },
  {
   "cell_type": "code",
   "execution_count": 40,
   "id": "079faae0",
   "metadata": {},
   "outputs": [
    {
     "name": "stdout",
     "output_type": "stream",
     "text": [
      "syed"
     ]
    }
   ],
   "source": [
    "string = \"syed\"\n",
    "for i in string:\n",
    "    print(i,end=\"\")"
   ]
  },
  {
   "cell_type": "code",
   "execution_count": 45,
   "id": "30ff4809",
   "metadata": {},
   "outputs": [
    {
     "name": "stdout",
     "output_type": "stream",
     "text": [
      "sy\r",
      "ed\n"
     ]
    }
   ],
   "source": [
    "print(\"sy\\red\")"
   ]
  },
  {
   "cell_type": "code",
   "execution_count": 47,
   "id": "2d5fd684",
   "metadata": {},
   "outputs": [
    {
     "data": {
      "text/plain": [
       "'nhy '"
      ]
     },
     "execution_count": 47,
     "metadata": {},
     "output_type": "execute_result"
    }
   ],
   "source": [
    "str=\"master python\"\n",
    "str[-1:5:-2]"
   ]
  },
  {
   "cell_type": "code",
   "execution_count": 48,
   "id": "0c3e42c0",
   "metadata": {},
   "outputs": [
    {
     "data": {
      "text/plain": [
       "'nohtyp '"
      ]
     },
     "execution_count": 48,
     "metadata": {},
     "output_type": "execute_result"
    }
   ],
   "source": [
    "str=\"master python\"\n",
    "str[-1:5:-1]"
   ]
  },
  {
   "cell_type": "code",
   "execution_count": 49,
   "id": "14d610f8",
   "metadata": {},
   "outputs": [
    {
     "data": {
      "text/plain": [
       "'nhy '"
      ]
     },
     "execution_count": 49,
     "metadata": {},
     "output_type": "execute_result"
    }
   ],
   "source": [
    "str=\"master python\"\n",
    "str[-1:4:-2]"
   ]
  },
  {
   "cell_type": "code",
   "execution_count": 50,
   "id": "e9a61e25",
   "metadata": {},
   "outputs": [
    {
     "data": {
      "text/plain": [
       "'nhy e'"
      ]
     },
     "execution_count": 50,
     "metadata": {},
     "output_type": "execute_result"
    }
   ],
   "source": [
    "str=\"master python\"\n",
    "str[-1:3:-2]"
   ]
  },
  {
   "cell_type": "code",
   "execution_count": 51,
   "id": "fb06bcf9",
   "metadata": {},
   "outputs": [],
   "source": [
    "#string new video"
   ]
  },
  {
   "cell_type": "code",
   "execution_count": 52,
   "id": "5c32e8ba",
   "metadata": {},
   "outputs": [],
   "source": [
    "a = \"syed\""
   ]
  },
  {
   "cell_type": "code",
   "execution_count": 53,
   "id": "adb50348",
   "metadata": {},
   "outputs": [],
   "source": [
    "b = 'syed'"
   ]
  },
  {
   "cell_type": "code",
   "execution_count": 54,
   "id": "55d3b3f5",
   "metadata": {},
   "outputs": [
    {
     "data": {
      "text/plain": [
       "'syed'"
      ]
     },
     "execution_count": 54,
     "metadata": {},
     "output_type": "execute_result"
    }
   ],
   "source": [
    "a"
   ]
  },
  {
   "cell_type": "code",
   "execution_count": 55,
   "id": "37bbc012",
   "metadata": {},
   "outputs": [
    {
     "data": {
      "text/plain": [
       "'syed'"
      ]
     },
     "execution_count": 55,
     "metadata": {},
     "output_type": "execute_result"
    }
   ],
   "source": [
    "b"
   ]
  },
  {
   "cell_type": "code",
   "execution_count": 59,
   "id": "cf89334c",
   "metadata": {},
   "outputs": [],
   "source": [
    "c = \"this is my first class in i neuron\" jjjdjggjhknkhkhfhf class\""
   ]
  },
  {
   "cell_type": "code",
   "execution_count": 57,
   "id": "2b51ab35",
   "metadata": {},
   "outputs": [
    {
     "data": {
      "text/plain": [
       "'this is my first class, in i neuron'"
      ]
     },
     "execution_count": 57,
     "metadata": {},
     "output_type": "execute_result"
    }
   ],
   "source": [
    "c"
   ]
  },
  {
   "cell_type": "code",
   "execution_count": 60,
   "id": "2d3d35f4",
   "metadata": {},
   "outputs": [
    {
     "data": {
      "text/plain": [
       "'this is my first class in i neuronjjjdjggjhknkhkhfhf class'"
      ]
     },
     "execution_count": 60,
     "metadata": {},
     "output_type": "execute_result"
    }
   ],
   "source": [
    "c"
   ]
  },
  {
   "cell_type": "code",
   "execution_count": 2,
   "id": "e7bfc641",
   "metadata": {},
   "outputs": [],
   "source": [
    "s='this is my first class'"
   ]
  },
  {
   "cell_type": "code",
   "execution_count": 3,
   "id": "33eb6fc2",
   "metadata": {},
   "outputs": [
    {
     "data": {
      "text/plain": [
       "'t'"
      ]
     },
     "execution_count": 3,
     "metadata": {},
     "output_type": "execute_result"
    }
   ],
   "source": [
    "s[0]"
   ]
  },
  {
   "cell_type": "code",
   "execution_count": 4,
   "id": "e9a9f686",
   "metadata": {},
   "outputs": [
    {
     "data": {
      "text/plain": [
       "'s'"
      ]
     },
     "execution_count": 4,
     "metadata": {},
     "output_type": "execute_result"
    }
   ],
   "source": [
    "s[-1]"
   ]
  },
  {
   "cell_type": "code",
   "execution_count": 5,
   "id": "1489b560",
   "metadata": {},
   "outputs": [
    {
     "data": {
      "text/plain": [
       "' '"
      ]
     },
     "execution_count": 5,
     "metadata": {},
     "output_type": "execute_result"
    }
   ],
   "source": [
    "s[-12]"
   ]
  },
  {
   "cell_type": "code",
   "execution_count": 4,
   "id": "9cd394d3",
   "metadata": {},
   "outputs": [
    {
     "data": {
      "text/plain": [
       "22"
      ]
     },
     "execution_count": 4,
     "metadata": {},
     "output_type": "execute_result"
    }
   ],
   "source": [
    "len(s)"
   ]
  },
  {
   "cell_type": "code",
   "execution_count": 5,
   "id": "d36ed4e8",
   "metadata": {},
   "outputs": [
    {
     "ename": "IndexError",
     "evalue": "string index out of range",
     "output_type": "error",
     "traceback": [
      "\u001b[1;31m---------------------------------------------------------------------------\u001b[0m",
      "\u001b[1;31mIndexError\u001b[0m                                Traceback (most recent call last)",
      "\u001b[1;32m~\\AppData\\Local\\Temp/ipykernel_13384/2390001549.py\u001b[0m in \u001b[0;36m<module>\u001b[1;34m\u001b[0m\n\u001b[1;32m----> 1\u001b[1;33m \u001b[0ms\u001b[0m\u001b[1;33m[\u001b[0m\u001b[1;36m100\u001b[0m\u001b[1;33m]\u001b[0m\u001b[1;33m\u001b[0m\u001b[1;33m\u001b[0m\u001b[0m\n\u001b[0m",
      "\u001b[1;31mIndexError\u001b[0m: string index out of range"
     ]
    }
   ],
   "source": [
    "s[100]"
   ]
  },
  {
   "cell_type": "code",
   "execution_count": 6,
   "id": "c2f07a89",
   "metadata": {},
   "outputs": [
    {
     "data": {
      "text/plain": [
       "' is my first cla'"
      ]
     },
     "execution_count": 6,
     "metadata": {},
     "output_type": "execute_result"
    }
   ],
   "source": [
    "s[4:20]"
   ]
  },
  {
   "cell_type": "code",
   "execution_count": 12,
   "id": "b3340e7c",
   "metadata": {},
   "outputs": [
    {
     "data": {
      "text/plain": [
       "'ssalc tsr'"
      ]
     },
     "execution_count": 12,
     "metadata": {},
     "output_type": "execute_result"
    }
   ],
   "source": [
    "s[-1:-10:-1]"
   ]
  },
  {
   "cell_type": "code",
   "execution_count": 13,
   "id": "36a56db2",
   "metadata": {},
   "outputs": [
    {
     "data": {
      "text/plain": [
       "'this is my first class'"
      ]
     },
     "execution_count": 13,
     "metadata": {},
     "output_type": "execute_result"
    }
   ],
   "source": [
    "s"
   ]
  },
  {
   "cell_type": "code",
   "execution_count": 14,
   "id": "aa1ff1ef",
   "metadata": {},
   "outputs": [
    {
     "name": "stdout",
     "output_type": "stream",
     "text": [
      "t\n",
      "h\n",
      "i\n",
      "s\n",
      " \n",
      "i\n",
      "s\n",
      " \n",
      "m\n",
      "y\n",
      " \n",
      "f\n",
      "i\n",
      "r\n",
      "s\n",
      "t\n",
      " \n",
      "c\n",
      "l\n",
      "a\n",
      "s\n",
      "s\n"
     ]
    }
   ],
   "source": [
    "for i in s:\n",
    "    print(i)"
   ]
  },
  {
   "cell_type": "code",
   "execution_count": 17,
   "id": "70daabea",
   "metadata": {},
   "outputs": [
    {
     "name": "stdout",
     "output_type": "stream",
     "text": [
      "this is my first class"
     ]
    }
   ],
   "source": [
    "for i in range(len(s)):\n",
    "    print(s[i],end='')"
   ]
  },
  {
   "cell_type": "code",
   "execution_count": 16,
   "id": "5b1a9ba9",
   "metadata": {},
   "outputs": [
    {
     "data": {
      "text/plain": [
       "'ssalc tsrif ym si siht'"
      ]
     },
     "execution_count": 16,
     "metadata": {},
     "output_type": "execute_result"
    }
   ],
   "source": [
    "s[::-1]"
   ]
  },
  {
   "cell_type": "code",
   "execution_count": 18,
   "id": "102ecad1",
   "metadata": {},
   "outputs": [
    {
     "ename": "TypeError",
     "evalue": "'str' object does not support item assignment",
     "output_type": "error",
     "traceback": [
      "\u001b[1;31m---------------------------------------------------------------------------\u001b[0m",
      "\u001b[1;31mTypeError\u001b[0m                                 Traceback (most recent call last)",
      "\u001b[1;32m~\\AppData\\Local\\Temp/ipykernel_13384/524452923.py\u001b[0m in \u001b[0;36m<module>\u001b[1;34m\u001b[0m\n\u001b[1;32m----> 1\u001b[1;33m \u001b[0ms\u001b[0m\u001b[1;33m[\u001b[0m\u001b[1;36m0\u001b[0m\u001b[1;33m]\u001b[0m\u001b[1;33m=\u001b[0m\u001b[1;34m\"x\"\u001b[0m\u001b[1;33m\u001b[0m\u001b[1;33m\u001b[0m\u001b[0m\n\u001b[0m",
      "\u001b[1;31mTypeError\u001b[0m: 'str' object does not support item assignment"
     ]
    }
   ],
   "source": [
    "s[0]=\"x\""
   ]
  },
  {
   "cell_type": "code",
   "execution_count": 23,
   "id": "ece4687f",
   "metadata": {},
   "outputs": [],
   "source": [
    "l=[\"sfjf\",234,564685,4546,True]"
   ]
  },
  {
   "cell_type": "code",
   "execution_count": 24,
   "id": "12a61705",
   "metadata": {},
   "outputs": [
    {
     "data": {
      "text/plain": [
       "['sfjf', 234, 564685, 4546, True]"
      ]
     },
     "execution_count": 24,
     "metadata": {},
     "output_type": "execute_result"
    }
   ],
   "source": [
    "l"
   ]
  },
  {
   "cell_type": "code",
   "execution_count": 25,
   "id": "649f9a29",
   "metadata": {},
   "outputs": [],
   "source": [
    "l[0]=\"syed\""
   ]
  },
  {
   "cell_type": "code",
   "execution_count": 26,
   "id": "ed1df6cd",
   "metadata": {},
   "outputs": [
    {
     "data": {
      "text/plain": [
       "['syed', 234, 564685, 4546, True]"
      ]
     },
     "execution_count": 26,
     "metadata": {},
     "output_type": "execute_result"
    }
   ],
   "source": [
    "l"
   ]
  },
  {
   "cell_type": "code",
   "execution_count": 28,
   "id": "51b44ac1",
   "metadata": {},
   "outputs": [],
   "source": [
    "#string is a immutable object.\n",
    "#list is a mutable object."
   ]
  },
  {
   "cell_type": "code",
   "execution_count": 29,
   "id": "f99ed89d",
   "metadata": {},
   "outputs": [
    {
     "data": {
      "text/plain": [
       "'syedyusuf'"
      ]
     },
     "execution_count": 29,
     "metadata": {},
     "output_type": "execute_result"
    }
   ],
   "source": [
    "\"syed\"  + \"yusuf\""
   ]
  },
  {
   "cell_type": "code",
   "execution_count": 30,
   "id": "bde657e8",
   "metadata": {},
   "outputs": [
    {
     "ename": "TypeError",
     "evalue": "can only concatenate str (not \"int\") to str",
     "output_type": "error",
     "traceback": [
      "\u001b[1;31m---------------------------------------------------------------------------\u001b[0m",
      "\u001b[1;31mTypeError\u001b[0m                                 Traceback (most recent call last)",
      "\u001b[1;32m~\\AppData\\Local\\Temp/ipykernel_13384/2654758183.py\u001b[0m in \u001b[0;36m<module>\u001b[1;34m\u001b[0m\n\u001b[1;32m----> 1\u001b[1;33m \u001b[1;34m\"syed\"\u001b[0m\u001b[1;33m+\u001b[0m\u001b[1;36m2\u001b[0m\u001b[1;33m\u001b[0m\u001b[1;33m\u001b[0m\u001b[0m\n\u001b[0m",
      "\u001b[1;31mTypeError\u001b[0m: can only concatenate str (not \"int\") to str"
     ]
    }
   ],
   "source": [
    "\"syed\"+2"
   ]
  },
  {
   "cell_type": "code",
   "execution_count": 31,
   "id": "31f3062e",
   "metadata": {},
   "outputs": [
    {
     "data": {
      "text/plain": [
       "'syed2'"
      ]
     },
     "execution_count": 31,
     "metadata": {},
     "output_type": "execute_result"
    }
   ],
   "source": [
    "\"syed\" + \"2\""
   ]
  },
  {
   "cell_type": "code",
   "execution_count": 32,
   "id": "ab5782f5",
   "metadata": {},
   "outputs": [
    {
     "data": {
      "text/plain": [
       "'syed2'"
      ]
     },
     "execution_count": 32,
     "metadata": {},
     "output_type": "execute_result"
    }
   ],
   "source": [
    "\"syed\" + str(2)"
   ]
  },
  {
   "cell_type": "code",
   "execution_count": 33,
   "id": "b2172d68",
   "metadata": {},
   "outputs": [
    {
     "ename": "TypeError",
     "evalue": "can only concatenate str (not \"list\") to str",
     "output_type": "error",
     "traceback": [
      "\u001b[1;31m---------------------------------------------------------------------------\u001b[0m",
      "\u001b[1;31mTypeError\u001b[0m                                 Traceback (most recent call last)",
      "\u001b[1;32m~\\AppData\\Local\\Temp/ipykernel_13384/3962910807.py\u001b[0m in \u001b[0;36m<module>\u001b[1;34m\u001b[0m\n\u001b[1;32m----> 1\u001b[1;33m \u001b[1;34m\"syed\"\u001b[0m \u001b[1;33m+\u001b[0m \u001b[1;33m[\u001b[0m\u001b[1;34m\"yusuf\"\u001b[0m\u001b[1;33m,\u001b[0m \u001b[1;36m5\u001b[0m\u001b[1;33m,\u001b[0m\u001b[1;36m2\u001b[0m\u001b[1;33m,\u001b[0m\u001b[1;36m6\u001b[0m\u001b[1;33m]\u001b[0m\u001b[1;33m\u001b[0m\u001b[1;33m\u001b[0m\u001b[0m\n\u001b[0m",
      "\u001b[1;31mTypeError\u001b[0m: can only concatenate str (not \"list\") to str"
     ]
    }
   ],
   "source": [
    "\"syed\" + [\"yusuf\", 5,2,6]"
   ]
  },
  {
   "cell_type": "code",
   "execution_count": 34,
   "id": "31a12791",
   "metadata": {},
   "outputs": [],
   "source": [
    "#in string concatenation occur only in b/w string to string."
   ]
  },
  {
   "cell_type": "code",
   "execution_count": 50,
   "id": "83f8d0e3",
   "metadata": {},
   "outputs": [
    {
     "data": {
      "text/plain": [
       "'syed syed '"
      ]
     },
     "execution_count": 50,
     "metadata": {},
     "output_type": "execute_result"
    }
   ],
   "source": [
    "\"syed \" * 2"
   ]
  },
  {
   "cell_type": "code",
   "execution_count": 46,
   "id": "781f5680",
   "metadata": {},
   "outputs": [],
   "source": [
    "s = 'my name is syed , name of org is hjfhf'"
   ]
  },
  {
   "cell_type": "code",
   "execution_count": 47,
   "id": "21a2fe15",
   "metadata": {},
   "outputs": [
    {
     "data": {
      "text/plain": [
       "'my name is syed , name of org is hjfhf'"
      ]
     },
     "execution_count": 47,
     "metadata": {},
     "output_type": "execute_result"
    }
   ],
   "source": [
    "s"
   ]
  },
  {
   "cell_type": "code",
   "execution_count": 48,
   "id": "d20b5861",
   "metadata": {},
   "outputs": [
    {
     "data": {
      "text/plain": [
       "3"
      ]
     },
     "execution_count": 48,
     "metadata": {},
     "output_type": "execute_result"
    }
   ],
   "source": [
    "s.find(\"name\")"
   ]
  },
  {
   "cell_type": "code",
   "execution_count": 54,
   "id": "04e368ef",
   "metadata": {},
   "outputs": [
    {
     "name": "stdout",
     "output_type": "stream",
     "text": [
      "3\n",
      "4\n",
      "5\n",
      "6\n"
     ]
    }
   ],
   "source": [
    "b = s.find(\"name\")\n",
    "for i in range(len('name')):\n",
    "    print(b + i)\n",
    "#range(4)-: 0,1,2,3\n",
    "#b=3\n",
    "#b+i=3+0=3\n",
    "#b+i=3+1=4........"
   ]
  },
  {
   "cell_type": "code",
   "execution_count": 56,
   "id": "5fe58406",
   "metadata": {},
   "outputs": [
    {
     "data": {
      "text/plain": [
       "'my name is syed , name of org is hjfhf'"
      ]
     },
     "execution_count": 56,
     "metadata": {},
     "output_type": "execute_result"
    }
   ],
   "source": [
    "s"
   ]
  },
  {
   "cell_type": "code",
   "execution_count": 60,
   "id": "a8aee903",
   "metadata": {},
   "outputs": [
    {
     "data": {
      "text/plain": [
       "3"
      ]
     },
     "execution_count": 60,
     "metadata": {},
     "output_type": "execute_result"
    }
   ],
   "source": [
    "s.count(\"s\")"
   ]
  },
  {
   "cell_type": "code",
   "execution_count": 61,
   "id": "b601930c",
   "metadata": {},
   "outputs": [
    {
     "data": {
      "text/plain": [
       "2"
      ]
     },
     "execution_count": 61,
     "metadata": {},
     "output_type": "execute_result"
    }
   ],
   "source": [
    "s.count(\"n\")"
   ]
  },
  {
   "cell_type": "code",
   "execution_count": 62,
   "id": "2c6c99db",
   "metadata": {},
   "outputs": [
    {
     "data": {
      "text/plain": [
       "3"
      ]
     },
     "execution_count": 62,
     "metadata": {},
     "output_type": "execute_result"
    }
   ],
   "source": [
    "s.count(\"m\")"
   ]
  },
  {
   "cell_type": "code",
   "execution_count": 63,
   "id": "63e87630",
   "metadata": {},
   "outputs": [
    {
     "data": {
      "text/plain": [
       "1"
      ]
     },
     "execution_count": 63,
     "metadata": {},
     "output_type": "execute_result"
    }
   ],
   "source": [
    "s.count(\"my\")"
   ]
  },
  {
   "cell_type": "code",
   "execution_count": 64,
   "id": "649abb56",
   "metadata": {},
   "outputs": [
    {
     "data": {
      "text/plain": [
       "2"
      ]
     },
     "execution_count": 64,
     "metadata": {},
     "output_type": "execute_result"
    }
   ],
   "source": [
    "s.count(\"name\")"
   ]
  },
  {
   "cell_type": "code",
   "execution_count": 65,
   "id": "4aeef655",
   "metadata": {},
   "outputs": [
    {
     "data": {
      "text/plain": [
       "'my name is syed , name of org is hjfhf'"
      ]
     },
     "execution_count": 65,
     "metadata": {},
     "output_type": "execute_result"
    }
   ],
   "source": [
    "s"
   ]
  },
  {
   "cell_type": "code",
   "execution_count": 67,
   "id": "65c96d4f",
   "metadata": {},
   "outputs": [
    {
     "data": {
      "text/plain": [
       "['my', 'name', 'is', 'syed', ',', 'name', 'of', 'org', 'is', 'hjfhf']"
      ]
     },
     "execution_count": 67,
     "metadata": {},
     "output_type": "execute_result"
    }
   ],
   "source": [
    "s.split()"
   ]
  },
  {
   "cell_type": "code",
   "execution_count": 68,
   "id": "d8d28247",
   "metadata": {},
   "outputs": [
    {
     "data": {
      "text/plain": [
       "['my name is syed ', ' name of org is hjfhf']"
      ]
     },
     "execution_count": 68,
     "metadata": {},
     "output_type": "execute_result"
    }
   ],
   "source": [
    "s.split(\",\")"
   ]
  },
  {
   "cell_type": "code",
   "execution_count": 69,
   "id": "a7549bfb",
   "metadata": {},
   "outputs": [
    {
     "data": {
      "text/plain": [
       "['my ', 'ame is syed , ', 'ame of org is hjfhf']"
      ]
     },
     "execution_count": 69,
     "metadata": {},
     "output_type": "execute_result"
    }
   ],
   "source": [
    "s.split(\"n\")"
   ]
  },
  {
   "cell_type": "code",
   "execution_count": 70,
   "id": "5ce1ed2f",
   "metadata": {},
   "outputs": [
    {
     "data": {
      "text/plain": [
       "['my ', 'me is syed , ', 'me of org is hjfhf']"
      ]
     },
     "execution_count": 70,
     "metadata": {},
     "output_type": "execute_result"
    }
   ],
   "source": [
    "s.split(\"na\")"
   ]
  },
  {
   "cell_type": "code",
   "execution_count": 71,
   "id": "9fff10eb",
   "metadata": {},
   "outputs": [
    {
     "data": {
      "text/plain": [
       "list"
      ]
     },
     "execution_count": 71,
     "metadata": {},
     "output_type": "execute_result"
    }
   ],
   "source": [
    "type(s.split())"
   ]
  },
  {
   "cell_type": "code",
   "execution_count": 72,
   "id": "8711e29d",
   "metadata": {},
   "outputs": [
    {
     "data": {
      "text/plain": [
       "'my name is syed , name of org is hjfhf'"
      ]
     },
     "execution_count": 72,
     "metadata": {},
     "output_type": "execute_result"
    }
   ],
   "source": [
    "s"
   ]
  },
  {
   "cell_type": "code",
   "execution_count": 73,
   "id": "23582d03",
   "metadata": {},
   "outputs": [
    {
     "data": {
      "text/plain": [
       "'MY NAME IS SYED , NAME OF ORG IS HJFHF'"
      ]
     },
     "execution_count": 73,
     "metadata": {},
     "output_type": "execute_result"
    }
   ],
   "source": [
    "s.upper()"
   ]
  },
  {
   "cell_type": "code",
   "execution_count": 77,
   "id": "09674d49",
   "metadata": {},
   "outputs": [
    {
     "ename": "TypeError",
     "evalue": "str.upper() takes no arguments (1 given)",
     "output_type": "error",
     "traceback": [
      "\u001b[1;31m---------------------------------------------------------------------------\u001b[0m",
      "\u001b[1;31mTypeError\u001b[0m                                 Traceback (most recent call last)",
      "\u001b[1;32m~\\AppData\\Local\\Temp/ipykernel_13384/3224089610.py\u001b[0m in \u001b[0;36m<module>\u001b[1;34m\u001b[0m\n\u001b[1;32m----> 1\u001b[1;33m \u001b[0ms\u001b[0m\u001b[1;33m.\u001b[0m\u001b[0mupper\u001b[0m\u001b[1;33m(\u001b[0m\u001b[0mlen\u001b[0m\u001b[1;33m(\u001b[0m\u001b[1;34m\"syed\"\u001b[0m\u001b[1;33m)\u001b[0m\u001b[1;33m)\u001b[0m\u001b[1;33m\u001b[0m\u001b[1;33m\u001b[0m\u001b[0m\n\u001b[0m",
      "\u001b[1;31mTypeError\u001b[0m: str.upper() takes no arguments (1 given)"
     ]
    }
   ],
   "source": [
    "s.upper(len(\"syed\"))"
   ]
  },
  {
   "cell_type": "code",
   "execution_count": 75,
   "id": "6999cbe6",
   "metadata": {},
   "outputs": [
    {
     "data": {
      "text/plain": [
       "'my name is syed , name of org is hjfhf'"
      ]
     },
     "execution_count": 75,
     "metadata": {},
     "output_type": "execute_result"
    }
   ],
   "source": [
    "s.lower()"
   ]
  },
  {
   "cell_type": "code",
   "execution_count": 76,
   "id": "a5fbdaed",
   "metadata": {},
   "outputs": [
    {
     "data": {
      "text/plain": [
       "'MY NAME IS SYED , NAME OF ORG IS HJFHF'"
      ]
     },
     "execution_count": 76,
     "metadata": {},
     "output_type": "execute_result"
    }
   ],
   "source": [
    "s.swapcase()"
   ]
  },
  {
   "cell_type": "code",
   "execution_count": 79,
   "id": "a59a870e",
   "metadata": {},
   "outputs": [
    {
     "data": {
      "text/plain": [
       "'m_y_ _n_a_m_e_ _i_s_ _s_y_e_d_ _,_ _n_a_m_e_ _o_f_ _o_r_g_ _i_s_ _h_j_f_h_f'"
      ]
     },
     "execution_count": 79,
     "metadata": {},
     "output_type": "execute_result"
    }
   ],
   "source": [
    "\"_\" . join(s)"
   ]
  },
  {
   "cell_type": "code",
   "execution_count": 80,
   "id": "703c6032",
   "metadata": {},
   "outputs": [
    {
     "data": {
      "text/plain": [
       "'m y   n a m e   i s   s y e d   ,   n a m e   o f   o r g   i s   h j f h f'"
      ]
     },
     "execution_count": 80,
     "metadata": {},
     "output_type": "execute_result"
    }
   ],
   "source": [
    "\" \" . join(s)"
   ]
  },
  {
   "cell_type": "code",
   "execution_count": 82,
   "id": "9e7bcc21",
   "metadata": {},
   "outputs": [
    {
     "data": {
      "text/plain": [
       "['f',\n",
       " 'h',\n",
       " 'f',\n",
       " 'j',\n",
       " 'h',\n",
       " ' ',\n",
       " 's',\n",
       " 'i',\n",
       " ' ',\n",
       " 'g',\n",
       " 'r',\n",
       " 'o',\n",
       " ' ',\n",
       " 'f',\n",
       " 'o',\n",
       " ' ',\n",
       " 'e',\n",
       " 'm',\n",
       " 'a',\n",
       " 'n',\n",
       " ' ',\n",
       " ',',\n",
       " ' ',\n",
       " 'd',\n",
       " 'e',\n",
       " 'y',\n",
       " 's',\n",
       " ' ',\n",
       " 's',\n",
       " 'i',\n",
       " ' ',\n",
       " 'e',\n",
       " 'm',\n",
       " 'a',\n",
       " 'n',\n",
       " ' ',\n",
       " 'y',\n",
       " 'm']"
      ]
     },
     "execution_count": 82,
     "metadata": {},
     "output_type": "execute_result"
    }
   ],
   "source": [
    "list(reversed(s))"
   ]
  },
  {
   "cell_type": "code",
   "execution_count": 83,
   "id": "fd60c825",
   "metadata": {},
   "outputs": [
    {
     "name": "stdout",
     "output_type": "stream",
     "text": [
      "f\n",
      "h\n",
      "f\n",
      "j\n",
      "h\n",
      " \n",
      "s\n",
      "i\n",
      " \n",
      "g\n",
      "r\n",
      "o\n",
      " \n",
      "f\n",
      "o\n",
      " \n",
      "e\n",
      "m\n",
      "a\n",
      "n\n",
      " \n",
      ",\n",
      " \n",
      "d\n",
      "e\n",
      "y\n",
      "s\n",
      " \n",
      "s\n",
      "i\n",
      " \n",
      "e\n",
      "m\n",
      "a\n",
      "n\n",
      " \n",
      "y\n",
      "m\n"
     ]
    }
   ],
   "source": [
    "for i in reversed(s):\n",
    "    print(i)"
   ]
  },
  {
   "cell_type": "code",
   "execution_count": 84,
   "id": "9d6b5c00",
   "metadata": {},
   "outputs": [
    {
     "data": {
      "text/plain": [
       "<reversed at 0x1a182a4a310>"
      ]
     },
     "execution_count": 84,
     "metadata": {},
     "output_type": "execute_result"
    }
   ],
   "source": [
    "reversed(s)"
   ]
  },
  {
   "cell_type": "code",
   "execution_count": 85,
   "id": "b40c9e33",
   "metadata": {},
   "outputs": [
    {
     "data": {
      "text/plain": [
       "'fhfjh si gro fo eman , deys si eman ym'"
      ]
     },
     "execution_count": 85,
     "metadata": {},
     "output_type": "execute_result"
    }
   ],
   "source": [
    "s[::-1]"
   ]
  },
  {
   "cell_type": "code",
   "execution_count": 1,
   "id": "06cdd424",
   "metadata": {},
   "outputs": [],
   "source": [
    "f=\"      sy    ed     \""
   ]
  },
  {
   "cell_type": "code",
   "execution_count": 2,
   "id": "a46d39e5",
   "metadata": {},
   "outputs": [
    {
     "data": {
      "text/plain": [
       "'      sy    ed     '"
      ]
     },
     "execution_count": 2,
     "metadata": {},
     "output_type": "execute_result"
    }
   ],
   "source": [
    "f"
   ]
  },
  {
   "cell_type": "code",
   "execution_count": 3,
   "id": "c90f6db9",
   "metadata": {},
   "outputs": [
    {
     "data": {
      "text/plain": [
       "'sy    ed'"
      ]
     },
     "execution_count": 3,
     "metadata": {},
     "output_type": "execute_result"
    }
   ],
   "source": [
    "f.strip()"
   ]
  },
  {
   "cell_type": "code",
   "execution_count": 4,
   "id": "a428d7b7",
   "metadata": {},
   "outputs": [
    {
     "data": {
      "text/plain": [
       "'      sy    ed'"
      ]
     },
     "execution_count": 4,
     "metadata": {},
     "output_type": "execute_result"
    }
   ],
   "source": [
    "f.rstrip()"
   ]
  },
  {
   "cell_type": "code",
   "execution_count": 5,
   "id": "f33ab317",
   "metadata": {},
   "outputs": [
    {
     "data": {
      "text/plain": [
       "'sy    ed     '"
      ]
     },
     "execution_count": 5,
     "metadata": {},
     "output_type": "execute_result"
    }
   ],
   "source": [
    "f.lstrip()"
   ]
  },
  {
   "cell_type": "code",
   "execution_count": 9,
   "id": "b14c9513",
   "metadata": {},
   "outputs": [],
   "source": [
    "s = \"greater noida institute of technology\""
   ]
  },
  {
   "cell_type": "code",
   "execution_count": 8,
   "id": "a3d0dd44",
   "metadata": {},
   "outputs": [
    {
     "data": {
      "text/plain": [
       "'dreater noida institute of technolody'"
      ]
     },
     "execution_count": 8,
     "metadata": {},
     "output_type": "execute_result"
    }
   ],
   "source": [
    "s.replace(\"g\",'d')"
   ]
  },
  {
   "cell_type": "code",
   "execution_count": 9,
   "id": "67a23f10",
   "metadata": {},
   "outputs": [
    {
     "data": {
      "text/plain": [
       "'great noida institute of technology'"
      ]
     },
     "execution_count": 9,
     "metadata": {},
     "output_type": "execute_result"
    }
   ],
   "source": [
    "s.replace(\"greater\", \"great\")"
   ]
  },
  {
   "cell_type": "code",
   "execution_count": 10,
   "id": "581cddda",
   "metadata": {},
   "outputs": [
    {
     "data": {
      "text/plain": [
       "'greater noida institute of technology'"
      ]
     },
     "execution_count": 10,
     "metadata": {},
     "output_type": "execute_result"
    }
   ],
   "source": [
    "s"
   ]
  },
  {
   "cell_type": "code",
   "execution_count": 25,
   "id": "26786ad1",
   "metadata": {},
   "outputs": [],
   "source": [
    "s = s.replace(\"g\",'G')"
   ]
  },
  {
   "cell_type": "code",
   "execution_count": 26,
   "id": "7f618d1e",
   "metadata": {},
   "outputs": [
    {
     "data": {
      "text/plain": [
       "'Greater noida institute of technoloGy'"
      ]
     },
     "execution_count": 26,
     "metadata": {},
     "output_type": "execute_result"
    }
   ],
   "source": [
    "s"
   ]
  },
  {
   "cell_type": "code",
   "execution_count": 27,
   "id": "b418bbec",
   "metadata": {},
   "outputs": [
    {
     "data": {
      "text/plain": [
       "'Greater noida institute of technoloGy'"
      ]
     },
     "execution_count": 27,
     "metadata": {},
     "output_type": "execute_result"
    }
   ],
   "source": [
    "s"
   ]
  },
  {
   "cell_type": "code",
   "execution_count": 28,
   "id": "2870aeb2",
   "metadata": {},
   "outputs": [],
   "source": [
    "d=\"yusuf\""
   ]
  },
  {
   "cell_type": "code",
   "execution_count": 29,
   "id": "6446edcf",
   "metadata": {},
   "outputs": [
    {
     "data": {
      "text/plain": [
       "'Yusuf'"
      ]
     },
     "execution_count": 29,
     "metadata": {},
     "output_type": "execute_result"
    }
   ],
   "source": [
    "d.replace(\"y\",\"Y\")"
   ]
  },
  {
   "cell_type": "code",
   "execution_count": 30,
   "id": "1dd03771",
   "metadata": {},
   "outputs": [
    {
     "data": {
      "text/plain": [
       "'yusuf'"
      ]
     },
     "execution_count": 30,
     "metadata": {},
     "output_type": "execute_result"
    }
   ],
   "source": [
    "d"
   ]
  },
  {
   "cell_type": "code",
   "execution_count": 31,
   "id": "0b03ed01",
   "metadata": {},
   "outputs": [
    {
     "ename": "TypeError",
     "evalue": "'str' object does not support item assignment",
     "output_type": "error",
     "traceback": [
      "\u001b[1;31m---------------------------------------------------------------------------\u001b[0m",
      "\u001b[1;31mTypeError\u001b[0m                                 Traceback (most recent call last)",
      "\u001b[1;32m~\\AppData\\Local\\Temp/ipykernel_14632/3252998433.py\u001b[0m in \u001b[0;36m<module>\u001b[1;34m\u001b[0m\n\u001b[1;32m----> 1\u001b[1;33m \u001b[0md\u001b[0m\u001b[1;33m[\u001b[0m\u001b[1;36m1\u001b[0m\u001b[1;33m]\u001b[0m\u001b[1;33m=\u001b[0m\u001b[1;34m\"t\"\u001b[0m\u001b[1;33m\u001b[0m\u001b[1;33m\u001b[0m\u001b[0m\n\u001b[0m",
      "\u001b[1;31mTypeError\u001b[0m: 'str' object does not support item assignment"
     ]
    }
   ],
   "source": [
    "d[1]=\"t\""
   ]
  },
  {
   "cell_type": "code",
   "execution_count": 5,
   "id": "c56e3259",
   "metadata": {},
   "outputs": [],
   "source": [
    "d=\"yusuf\""
   ]
  },
  {
   "cell_type": "code",
   "execution_count": 6,
   "id": "506a67e3",
   "metadata": {},
   "outputs": [
    {
     "data": {
      "text/plain": [
       "'$$$$$$$yusuf$$$$$$$$'"
      ]
     },
     "execution_count": 6,
     "metadata": {},
     "output_type": "execute_result"
    }
   ],
   "source": [
    "d.center(20,\"$\")"
   ]
  },
  {
   "cell_type": "code",
   "execution_count": 7,
   "id": "ba48ff69",
   "metadata": {},
   "outputs": [],
   "source": [
    "d=\"fayeque\\yusuf\""
   ]
  },
  {
   "cell_type": "code",
   "execution_count": 10,
   "id": "1a1f7687",
   "metadata": {},
   "outputs": [
    {
     "data": {
      "text/plain": [
       "'greater noida institute of technology'"
      ]
     },
     "execution_count": 10,
     "metadata": {},
     "output_type": "execute_result"
    }
   ],
   "source": [
    "s"
   ]
  },
  {
   "cell_type": "code",
   "execution_count": null,
   "id": "98409522",
   "metadata": {},
   "outputs": [],
   "source": [
    "d"
   ]
  },
  {
   "cell_type": "code",
   "execution_count": 12,
   "id": "e3dd7da8",
   "metadata": {},
   "outputs": [],
   "source": [
    "d=\"faye\\tque\\tyu\\tsuf\""
   ]
  },
  {
   "cell_type": "code",
   "execution_count": 13,
   "id": "3ec9b32d",
   "metadata": {},
   "outputs": [
    {
     "data": {
      "text/plain": [
       "'faye\\tque\\tyu\\tsuf'"
      ]
     },
     "execution_count": 13,
     "metadata": {},
     "output_type": "execute_result"
    }
   ],
   "source": [
    "d"
   ]
  },
  {
   "cell_type": "code",
   "execution_count": 14,
   "id": "8b14cd08",
   "metadata": {},
   "outputs": [
    {
     "data": {
      "text/plain": [
       "'faye    que     yu      suf'"
      ]
     },
     "execution_count": 14,
     "metadata": {},
     "output_type": "execute_result"
    }
   ],
   "source": [
    "d.expandtabs()"
   ]
  },
  {
   "cell_type": "code",
   "execution_count": 14,
   "id": "5e8fef92",
   "metadata": {},
   "outputs": [
    {
     "data": {
      "text/plain": [
       "'fayeque\\tyu\\tsuf'"
      ]
     },
     "execution_count": 14,
     "metadata": {},
     "output_type": "execute_result"
    }
   ],
   "source": [
    "d"
   ]
  },
  {
   "cell_type": "code",
   "execution_count": 15,
   "id": "b03f3261",
   "metadata": {},
   "outputs": [],
   "source": [
    "a= \"We all are a part of Full Stack\" "
   ]
  },
  {
   "cell_type": "code",
   "execution_count": 16,
   "id": "637f6f4c",
   "metadata": {},
   "outputs": [
    {
     "data": {
      "text/plain": [
       "'we all are a part of full stack'"
      ]
     },
     "execution_count": 16,
     "metadata": {},
     "output_type": "execute_result"
    }
   ],
   "source": [
    "a.lower()"
   ]
  },
  {
   "cell_type": "code",
   "execution_count": 17,
   "id": "84c52547",
   "metadata": {},
   "outputs": [
    {
     "data": {
      "text/plain": [
       "5"
      ]
     },
     "execution_count": 17,
     "metadata": {},
     "output_type": "execute_result"
    }
   ],
   "source": [
    "a.count(\"a\")"
   ]
  },
  {
   "cell_type": "code",
   "execution_count": 20,
   "id": "964c073e",
   "metadata": {},
   "outputs": [
    {
     "data": {
      "text/plain": [
       "3"
      ]
     },
     "execution_count": 20,
     "metadata": {},
     "output_type": "execute_result"
    }
   ],
   "source": [
    "a.find(\"a\")"
   ]
  },
  {
   "cell_type": "code",
   "execution_count": 24,
   "id": "6bcd3404",
   "metadata": {},
   "outputs": [
    {
     "name": "stdout",
     "output_type": "stream",
     "text": [
      "3\n",
      "7\n",
      "11\n",
      "14\n",
      "28\n"
     ]
    }
   ],
   "source": [
    "\n",
    "for i in range(len(a)):\n",
    "    if(a[i]==\"a\"):\n",
    "        print(i)"
   ]
  },
  {
   "cell_type": "code",
   "execution_count": 18,
   "id": "8bb5efa2",
   "metadata": {},
   "outputs": [
    {
     "data": {
      "text/plain": [
       "'We iNeuronll iNeuronre iNeuron piNeuronrt of Full StiNeuronck'"
      ]
     },
     "execution_count": 18,
     "metadata": {},
     "output_type": "execute_result"
    }
   ],
   "source": [
    "a.replace(\"a\",\"iNeuron\")"
   ]
  },
  {
   "cell_type": "code",
   "execution_count": 22,
   "id": "6c1d0f35",
   "metadata": {},
   "outputs": [
    {
     "ename": "AttributeError",
     "evalue": "'int' object has no attribute 'split'",
     "output_type": "error",
     "traceback": [
      "\u001b[1;31m---------------------------------------------------------------------------\u001b[0m",
      "\u001b[1;31mAttributeError\u001b[0m                            Traceback (most recent call last)",
      "\u001b[1;32m~\\AppData\\Local\\Temp/ipykernel_12952/1026800143.py\u001b[0m in \u001b[0;36m<module>\u001b[1;34m\u001b[0m\n\u001b[1;32m----> 1\u001b[1;33m \u001b[0mb\u001b[0m\u001b[1;33m.\u001b[0m\u001b[0msplit\u001b[0m\u001b[1;33m(\u001b[0m\u001b[0ma\u001b[0m\u001b[1;33m.\u001b[0m\u001b[0mreplace\u001b[0m\u001b[1;33m(\u001b[0m\u001b[1;34m\"a\"\u001b[0m\u001b[1;33m,\u001b[0m\u001b[1;34m\"iNeuron\"\u001b[0m\u001b[1;33m)\u001b[0m\u001b[1;33m)\u001b[0m\u001b[1;33m\u001b[0m\u001b[1;33m\u001b[0m\u001b[0m\n\u001b[0m",
      "\u001b[1;31mAttributeError\u001b[0m: 'int' object has no attribute 'split'"
     ]
    }
   ],
   "source": [
    "b.split(a.replace(\"a\",\"iNeuron\"))"
   ]
  },
  {
   "cell_type": "code",
   "execution_count": 23,
   "id": "9cc71a97",
   "metadata": {},
   "outputs": [
    {
     "data": {
      "text/plain": [
       "['We', 'all', 'are', 'a', 'part', 'of', 'Full', 'Stack']"
      ]
     },
     "execution_count": 23,
     "metadata": {},
     "output_type": "execute_result"
    }
   ],
   "source": [
    "a.split()"
   ]
  },
  {
   "cell_type": "code",
   "execution_count": 19,
   "id": "286c7dbb",
   "metadata": {},
   "outputs": [
    {
     "data": {
      "text/plain": [
       "['k',\n",
       " 'c',\n",
       " 'a',\n",
       " 't',\n",
       " 'S',\n",
       " ' ',\n",
       " 'l',\n",
       " 'l',\n",
       " 'u',\n",
       " 'F',\n",
       " ' ',\n",
       " 'f',\n",
       " 'o',\n",
       " ' ',\n",
       " 't',\n",
       " 'r',\n",
       " 'a',\n",
       " 'p',\n",
       " ' ',\n",
       " 'a',\n",
       " ' ',\n",
       " 'e',\n",
       " 'r',\n",
       " 'a',\n",
       " ' ',\n",
       " 'l',\n",
       " 'l',\n",
       " 'a',\n",
       " ' ',\n",
       " 'e',\n",
       " 'W']"
      ]
     },
     "execution_count": 19,
     "metadata": {},
     "output_type": "execute_result"
    }
   ],
   "source": [
    "list(reversed(a))"
   ]
  },
  {
   "cell_type": "code",
   "execution_count": 8,
   "id": "0f1a6dbe",
   "metadata": {},
   "outputs": [],
   "source": [
    "l=[\"we all are a part of full stack\"]"
   ]
  },
  {
   "cell_type": "code",
   "execution_count": 9,
   "id": "ec4a6969",
   "metadata": {},
   "outputs": [
    {
     "data": {
      "text/plain": [
       "['we all are a part of full stack']"
      ]
     },
     "execution_count": 9,
     "metadata": {},
     "output_type": "execute_result"
    }
   ],
   "source": [
    "l"
   ]
  },
  {
   "cell_type": "code",
   "execution_count": 10,
   "id": "47fcb1c4",
   "metadata": {},
   "outputs": [
    {
     "data": {
      "text/plain": [
       "['we all are a part of full stack']"
      ]
     },
     "execution_count": 10,
     "metadata": {},
     "output_type": "execute_result"
    }
   ],
   "source": [
    "l"
   ]
  },
  {
   "cell_type": "code",
   "execution_count": 1,
   "id": "5612a842",
   "metadata": {},
   "outputs": [],
   "source": [
    "s= \"syeD\""
   ]
  },
  {
   "cell_type": "code",
   "execution_count": 2,
   "id": "68b25be5",
   "metadata": {},
   "outputs": [
    {
     "data": {
      "text/plain": [
       "'syeD'"
      ]
     },
     "execution_count": 2,
     "metadata": {},
     "output_type": "execute_result"
    }
   ],
   "source": [
    "s"
   ]
  },
  {
   "cell_type": "code",
   "execution_count": 3,
   "id": "77fcfc0d",
   "metadata": {},
   "outputs": [
    {
     "data": {
      "text/plain": [
       "'SYED'"
      ]
     },
     "execution_count": 3,
     "metadata": {},
     "output_type": "execute_result"
    }
   ],
   "source": [
    "s.upper()"
   ]
  },
  {
   "cell_type": "code",
   "execution_count": 4,
   "id": "6bbfc1b7",
   "metadata": {},
   "outputs": [
    {
     "data": {
      "text/plain": [
       "'syed'"
      ]
     },
     "execution_count": 4,
     "metadata": {},
     "output_type": "execute_result"
    }
   ],
   "source": [
    "s.lower()"
   ]
  },
  {
   "cell_type": "code",
   "execution_count": 5,
   "id": "8a60b1ff",
   "metadata": {},
   "outputs": [
    {
     "data": {
      "text/plain": [
       "'SYEd'"
      ]
     },
     "execution_count": 5,
     "metadata": {},
     "output_type": "execute_result"
    }
   ],
   "source": [
    "s.swapcase()"
   ]
  },
  {
   "cell_type": "code",
   "execution_count": 27,
   "id": "7104e968",
   "metadata": {},
   "outputs": [],
   "source": [
    "r=\"yusuf\""
   ]
  },
  {
   "cell_type": "raw",
   "id": "53f10896",
   "metadata": {},
   "source": []
  },
  {
   "cell_type": "code",
   "execution_count": 28,
   "id": "908411c2",
   "metadata": {},
   "outputs": [
    {
     "data": {
      "text/plain": [
       "False"
      ]
     },
     "execution_count": 28,
     "metadata": {},
     "output_type": "execute_result"
    }
   ],
   "source": [
    "r.isupper()"
   ]
  },
  {
   "cell_type": "code",
   "execution_count": 29,
   "id": "0ee8e64f",
   "metadata": {},
   "outputs": [],
   "source": [
    "e='Syed'"
   ]
  },
  {
   "cell_type": "code",
   "execution_count": 30,
   "id": "b3667fe4",
   "metadata": {},
   "outputs": [
    {
     "data": {
      "text/plain": [
       "False"
      ]
     },
     "execution_count": 30,
     "metadata": {},
     "output_type": "execute_result"
    }
   ],
   "source": [
    "e.isupper()"
   ]
  },
  {
   "cell_type": "code",
   "execution_count": 31,
   "id": "b9a64c76",
   "metadata": {},
   "outputs": [],
   "source": [
    "t=\"YUSUF\""
   ]
  },
  {
   "cell_type": "code",
   "execution_count": 32,
   "id": "d09a06a1",
   "metadata": {},
   "outputs": [
    {
     "data": {
      "text/plain": [
       "True"
      ]
     },
     "execution_count": 32,
     "metadata": {},
     "output_type": "execute_result"
    }
   ],
   "source": [
    "t.isupper()"
   ]
  },
  {
   "cell_type": "code",
   "execution_count": 33,
   "id": "c5d54920",
   "metadata": {},
   "outputs": [
    {
     "data": {
      "text/plain": [
       "True"
      ]
     },
     "execution_count": 33,
     "metadata": {},
     "output_type": "execute_result"
    }
   ],
   "source": [
    "r.islower()"
   ]
  },
  {
   "cell_type": "code",
   "execution_count": 34,
   "id": "9d5e5bea",
   "metadata": {},
   "outputs": [
    {
     "data": {
      "text/plain": [
       "False"
      ]
     },
     "execution_count": 34,
     "metadata": {},
     "output_type": "execute_result"
    }
   ],
   "source": [
    "e.islower()"
   ]
  },
  {
   "cell_type": "code",
   "execution_count": 35,
   "id": "7be7a674",
   "metadata": {},
   "outputs": [
    {
     "data": {
      "text/plain": [
       "False"
      ]
     },
     "execution_count": 35,
     "metadata": {},
     "output_type": "execute_result"
    }
   ],
   "source": [
    "t.islower()"
   ]
  },
  {
   "cell_type": "code",
   "execution_count": 36,
   "id": "286b94f9",
   "metadata": {},
   "outputs": [
    {
     "data": {
      "text/plain": [
       "False"
      ]
     },
     "execution_count": 36,
     "metadata": {},
     "output_type": "execute_result"
    }
   ],
   "source": [
    "r.isspace()"
   ]
  },
  {
   "cell_type": "code",
   "execution_count": 37,
   "id": "f5869da2",
   "metadata": {},
   "outputs": [],
   "source": [
    "u=\"     yrvj\""
   ]
  },
  {
   "cell_type": "code",
   "execution_count": 38,
   "id": "ad5d084a",
   "metadata": {},
   "outputs": [
    {
     "data": {
      "text/plain": [
       "False"
      ]
     },
     "execution_count": 38,
     "metadata": {},
     "output_type": "execute_result"
    }
   ],
   "source": [
    "u.isspace()"
   ]
  },
  {
   "cell_type": "code",
   "execution_count": 39,
   "id": "f84eebe2",
   "metadata": {},
   "outputs": [],
   "source": [
    "i=\"          \""
   ]
  },
  {
   "cell_type": "code",
   "execution_count": 40,
   "id": "2ad474e2",
   "metadata": {},
   "outputs": [
    {
     "data": {
      "text/plain": [
       "True"
      ]
     },
     "execution_count": 40,
     "metadata": {},
     "output_type": "execute_result"
    }
   ],
   "source": [
    "i.isspace()"
   ]
  },
  {
   "cell_type": "code",
   "execution_count": 50,
   "id": "a4e130ff",
   "metadata": {},
   "outputs": [],
   "source": [
    "g=\"2dfdfdc4\""
   ]
  },
  {
   "cell_type": "code",
   "execution_count": 48,
   "id": "938062f6",
   "metadata": {},
   "outputs": [
    {
     "data": {
      "text/plain": [
       "True"
      ]
     },
     "execution_count": 48,
     "metadata": {},
     "output_type": "execute_result"
    }
   ],
   "source": [
    "g.isdigit()"
   ]
  },
  {
   "cell_type": "code",
   "execution_count": 49,
   "id": "5ea6a935",
   "metadata": {},
   "outputs": [
    {
     "data": {
      "text/plain": [
       "False"
      ]
     },
     "execution_count": 49,
     "metadata": {},
     "output_type": "execute_result"
    }
   ],
   "source": [
    "r.isdigit()"
   ]
  },
  {
   "cell_type": "code",
   "execution_count": 51,
   "id": "9b5473cd",
   "metadata": {},
   "outputs": [
    {
     "data": {
      "text/plain": [
       "False"
      ]
     },
     "execution_count": 51,
     "metadata": {},
     "output_type": "execute_result"
    }
   ],
   "source": [
    "g.isdigit()"
   ]
  },
  {
   "cell_type": "code",
   "execution_count": 52,
   "id": "cb4bba8a",
   "metadata": {},
   "outputs": [
    {
     "data": {
      "text/plain": [
       "True"
      ]
     },
     "execution_count": 52,
     "metadata": {},
     "output_type": "execute_result"
    }
   ],
   "source": [
    "r.endswith(\"f\")"
   ]
  },
  {
   "cell_type": "code",
   "execution_count": 53,
   "id": "f5ab4d75",
   "metadata": {},
   "outputs": [
    {
     "data": {
      "text/plain": [
       "False"
      ]
     },
     "execution_count": 53,
     "metadata": {},
     "output_type": "execute_result"
    }
   ],
   "source": [
    "r.endswith(\"r\")"
   ]
  },
  {
   "cell_type": "code",
   "execution_count": 54,
   "id": "6ad1abf0",
   "metadata": {},
   "outputs": [
    {
     "data": {
      "text/plain": [
       "True"
      ]
     },
     "execution_count": 54,
     "metadata": {},
     "output_type": "execute_result"
    }
   ],
   "source": [
    "r.startswith(\"y\")"
   ]
  },
  {
   "cell_type": "code",
   "execution_count": 55,
   "id": "f0b7ddaa",
   "metadata": {},
   "outputs": [
    {
     "data": {
      "text/plain": [
       "False"
      ]
     },
     "execution_count": 55,
     "metadata": {},
     "output_type": "execute_result"
    }
   ],
   "source": [
    "r.startswith(\"g\")"
   ]
  },
  {
   "cell_type": "code",
   "execution_count": 56,
   "id": "d212ce9c",
   "metadata": {},
   "outputs": [
    {
     "data": {
      "text/plain": [
       "True"
      ]
     },
     "execution_count": 56,
     "metadata": {},
     "output_type": "execute_result"
    }
   ],
   "source": [
    "r.isalnum()"
   ]
  },
  {
   "cell_type": "code",
   "execution_count": 57,
   "id": "35f0ad3b",
   "metadata": {},
   "outputs": [
    {
     "data": {
      "text/plain": [
       "True"
      ]
     },
     "execution_count": 57,
     "metadata": {},
     "output_type": "execute_result"
    }
   ],
   "source": [
    "r.isalpha()"
   ]
  },
  {
   "cell_type": "code",
   "execution_count": 58,
   "id": "c23376f6",
   "metadata": {},
   "outputs": [
    {
     "data": {
      "text/plain": [
       "False"
      ]
     },
     "execution_count": 58,
     "metadata": {},
     "output_type": "execute_result"
    }
   ],
   "source": [
    "r.istitle()"
   ]
  },
  {
   "cell_type": "code",
   "execution_count": 59,
   "id": "c5921288",
   "metadata": {},
   "outputs": [],
   "source": [
    "h=\"Tsyed\""
   ]
  },
  {
   "cell_type": "code",
   "execution_count": 60,
   "id": "619c3a5e",
   "metadata": {},
   "outputs": [
    {
     "data": {
      "text/plain": [
       "True"
      ]
     },
     "execution_count": 60,
     "metadata": {},
     "output_type": "execute_result"
    }
   ],
   "source": [
    "h.istitle()"
   ]
  },
  {
   "cell_type": "code",
   "execution_count": 61,
   "id": "7437c15f",
   "metadata": {},
   "outputs": [],
   "source": [
    "s=\"this is the first data\""
   ]
  },
  {
   "cell_type": "code",
   "execution_count": 62,
   "id": "223d61b0",
   "metadata": {},
   "outputs": [
    {
     "data": {
      "text/plain": [
       "22"
      ]
     },
     "execution_count": 62,
     "metadata": {},
     "output_type": "execute_result"
    }
   ],
   "source": [
    "len(s)"
   ]
  },
  {
   "cell_type": "code",
   "execution_count": 63,
   "id": "d698329a",
   "metadata": {},
   "outputs": [
    {
     "name": "stdout",
     "output_type": "stream",
     "text": [
      "t\n",
      "h\n",
      "i\n",
      "s\n",
      " \n",
      "i\n",
      "s\n",
      " \n",
      "t\n",
      "h\n",
      "e\n",
      " \n",
      "f\n",
      "i\n",
      "r\n",
      "s\n",
      "t\n",
      " \n",
      "d\n",
      "a\n",
      "t\n",
      "a\n"
     ]
    }
   ],
   "source": [
    "for i in s :\n",
    "    print(i)"
   ]
  },
  {
   "cell_type": "code",
   "execution_count": 65,
   "id": "27f794df",
   "metadata": {},
   "outputs": [
    {
     "name": "stdout",
     "output_type": "stream",
     "text": [
      "22\n"
     ]
    }
   ],
   "source": [
    "count = 0\n",
    "for i in s :\n",
    "    count = count +1\n",
    "print(count)"
   ]
  },
  {
   "cell_type": "code",
   "execution_count": 67,
   "id": "f84f2a41",
   "metadata": {},
   "outputs": [
    {
     "name": "stdout",
     "output_type": "stream",
     "text": [
      "a\n",
      "t\n",
      "a\n",
      "d\n",
      " \n",
      "t\n",
      "s\n",
      "r\n",
      "i\n",
      "f\n",
      " \n",
      "e\n",
      "h\n",
      "t\n",
      " \n",
      "s\n",
      "i\n",
      " \n",
      "s\n",
      "i\n",
      "h\n"
     ]
    }
   ],
   "source": [
    "for i in range(1, len(s)) :\n",
    "    print(s[-i])"
   ]
  },
  {
   "cell_type": "code",
   "execution_count": 70,
   "id": "35816d48",
   "metadata": {},
   "outputs": [
    {
     "name": "stdout",
     "output_type": "stream",
     "text": [
      "t\n",
      "a\n",
      "t\n",
      "a\n",
      "d\n",
      " \n",
      "t\n",
      "s\n",
      "r\n",
      "i\n",
      "f\n",
      " \n",
      "e\n",
      "h\n",
      "t\n",
      " \n",
      "s\n",
      "i\n",
      " \n",
      "s\n",
      "i\n",
      "h\n"
     ]
    }
   ],
   "source": [
    "for i in range(0, len(s)) :\n",
    "    print(s[-i])"
   ]
  },
  {
   "cell_type": "code",
   "execution_count": 74,
   "id": "242b5de8",
   "metadata": {},
   "outputs": [
    {
     "name": "stdout",
     "output_type": "stream",
     "text": [
      "d\n",
      "e\n",
      "y\n",
      "s\n"
     ]
    }
   ],
   "source": [
    "s=\"syed\"\n",
    "ch = len(s) -1\n",
    "while ch >= 0:\n",
    "    print(s[ch])\n",
    "    ch = ch -1"
   ]
  },
  {
   "cell_type": "code",
   "execution_count": 75,
   "id": "004ad12b",
   "metadata": {},
   "outputs": [
    {
     "name": "stdout",
     "output_type": "stream",
     "text": [
      "S is not a vowel\n",
      "y is not a vowel\n",
      "e is a vowel\n",
      "d is not a vowel\n",
      "  is not a vowel\n",
      "F is not a vowel\n",
      "a is a vowel\n",
      "y is not a vowel\n",
      "e is a vowel\n",
      "q is not a vowel\n",
      "u is a vowel\n",
      "e is a vowel\n",
      "  is not a vowel\n",
      "U is a vowel\n",
      "d is not a vowel\n",
      "d is not a vowel\n",
      "i is a vowel\n",
      "n is not a vowel\n",
      "  is not a vowel\n",
      "Y is not a vowel\n",
      "u is a vowel\n",
      "s is not a vowel\n",
      "u is a vowel\n",
      "f is not a vowel\n"
     ]
    }
   ],
   "source": [
    "name=\"Syed Fayeque Uddin Yusuf\"\n",
    "vowels=\"AaEeIiOoUu\"\n",
    "\n",
    "for i in name :\n",
    "    if i in vowels:\n",
    "        print(\"{} is a vowel\".format(i))\n",
    "    else :\n",
    "        print(\"{} is not a vowel\".format(i))"
   ]
  },
  {
   "cell_type": "code",
   "execution_count": 79,
   "id": "3c0b17bd",
   "metadata": {},
   "outputs": [],
   "source": [
    "name =\"syed\""
   ]
  },
  {
   "cell_type": "code",
   "execution_count": 81,
   "id": "08bfdef8",
   "metadata": {},
   "outputs": [
    {
     "name": "stdout",
     "output_type": "stream",
     "text": [
      "s\n",
      "y\n",
      "e\n",
      "d\n"
     ]
    }
   ],
   "source": [
    "for i in name:\n",
    "    print(i)"
   ]
  },
  {
   "cell_type": "code",
   "execution_count": 82,
   "id": "419ef05e",
   "metadata": {},
   "outputs": [
    {
     "name": "stdout",
     "output_type": "stream",
     "text": [
      "e is a vowel\n"
     ]
    }
   ],
   "source": [
    "for i in name :\n",
    "    if i in vowels:\n",
    "        print(\"{} is a vowel\".format(i))"
   ]
  },
  {
   "cell_type": "code",
   "execution_count": 83,
   "id": "f1102328",
   "metadata": {},
   "outputs": [
    {
     "name": "stdout",
     "output_type": "stream",
     "text": [
      "s is not a vowel\n",
      "y is not a vowel\n",
      "e is a vowel\n",
      "d is not a vowel\n"
     ]
    }
   ],
   "source": [
    "for i in name :\n",
    "    if i in vowels:\n",
    "        print(\"{} is a vowel\".format(i))\n",
    "    else :\n",
    "        print(\"{} is not a vowel\".format(i))"
   ]
  },
  {
   "cell_type": "code",
   "execution_count": 84,
   "id": "ef754e38",
   "metadata": {},
   "outputs": [],
   "source": [
    "d=\"data\""
   ]
  },
  {
   "cell_type": "code",
   "execution_count": 85,
   "id": "4de7b7f8",
   "metadata": {},
   "outputs": [
    {
     "data": {
      "text/plain": [
       "'data'"
      ]
     },
     "execution_count": 85,
     "metadata": {},
     "output_type": "execute_result"
    }
   ],
   "source": [
    "d.format()"
   ]
  },
  {
   "cell_type": "code",
   "execution_count": 86,
   "id": "db781752",
   "metadata": {},
   "outputs": [
    {
     "data": {
      "text/plain": [
       "'my name is syed'"
      ]
     },
     "execution_count": 86,
     "metadata": {},
     "output_type": "execute_result"
    }
   ],
   "source": [
    "\"{} name is syed\".format(\"my\")"
   ]
  },
  {
   "cell_type": "code",
   "execution_count": 87,
   "id": "b0a4d3f3",
   "metadata": {},
   "outputs": [
    {
     "data": {
      "text/plain": [
       "'my name is syed'"
      ]
     },
     "execution_count": 87,
     "metadata": {},
     "output_type": "execute_result"
    }
   ],
   "source": [
    "\"{} name {} syed\".format(\"my\",\"is\")"
   ]
  },
  {
   "cell_type": "code",
   "execution_count": 89,
   "id": "4cc04f9b",
   "metadata": {},
   "outputs": [
    {
     "name": "stdout",
     "output_type": "stream",
     "text": [
      "my\n",
      "is\n"
     ]
    }
   ],
   "source": [
    "a=input()\n",
    "b=input()"
   ]
  },
  {
   "cell_type": "code",
   "execution_count": 90,
   "id": "014ce942",
   "metadata": {},
   "outputs": [
    {
     "data": {
      "text/plain": [
       "'my name is syed'"
      ]
     },
     "execution_count": 90,
     "metadata": {},
     "output_type": "execute_result"
    }
   ],
   "source": [
    "\"{} name {} syed\".format(a, b)"
   ]
  },
  {
   "cell_type": "code",
   "execution_count": 91,
   "id": "8092af73",
   "metadata": {},
   "outputs": [],
   "source": [
    "a = \"xyx\"\n",
    "b = \"2002\"\n",
    "c = \"eye\"\n",
    "d = \"nitin\""
   ]
  },
  {
   "cell_type": "code",
   "execution_count": 97,
   "id": "d114e247",
   "metadata": {},
   "outputs": [
    {
     "name": "stdout",
     "output_type": "stream",
     "text": [
      "enter a data for which you would like to check pelindrom syed\n",
      "its not a same\n"
     ]
    }
   ],
   "source": [
    "s = input(\"enter a data for which you would like to check pelindrom \")\n",
    "s1 = s[::-1]\n",
    "if s ==s1:\n",
    "    print(\"its a same\")\n",
    "else :\n",
    "    print(\"its not a same\")"
   ]
  },
  {
   "cell_type": "code",
   "execution_count": 94,
   "id": "c6f1f894",
   "metadata": {},
   "outputs": [],
   "source": [
    "#list manipulation"
   ]
  },
  {
   "cell_type": "code",
   "execution_count": 99,
   "id": "bd9bc842",
   "metadata": {},
   "outputs": [],
   "source": [
    "l = [\"syed\", 26,6,26,25,[265,254,66]]"
   ]
  },
  {
   "cell_type": "code",
   "execution_count": 100,
   "id": "38a30c8e",
   "metadata": {},
   "outputs": [
    {
     "data": {
      "text/plain": [
       "26"
      ]
     },
     "execution_count": 100,
     "metadata": {},
     "output_type": "execute_result"
    }
   ],
   "source": [
    "l[3]"
   ]
  },
  {
   "cell_type": "code",
   "execution_count": 101,
   "id": "2f142295",
   "metadata": {},
   "outputs": [
    {
     "data": {
      "text/plain": [
       "['syed', 26, 6]"
      ]
     },
     "execution_count": 101,
     "metadata": {},
     "output_type": "execute_result"
    }
   ],
   "source": [
    "l[0:3]"
   ]
  },
  {
   "cell_type": "code",
   "execution_count": 103,
   "id": "d4756bf3",
   "metadata": {},
   "outputs": [
    {
     "data": {
      "text/plain": [
       "[26, 6, 26]"
      ]
     },
     "execution_count": 103,
     "metadata": {},
     "output_type": "execute_result"
    }
   ],
   "source": [
    "l[3:0:-1]"
   ]
  },
  {
   "cell_type": "code",
   "execution_count": 104,
   "id": "44ee2e0f",
   "metadata": {},
   "outputs": [
    {
     "data": {
      "text/plain": [
       "[[265, 254, 66], 25, 26, 6, 26, 'syed']"
      ]
     },
     "execution_count": 104,
     "metadata": {},
     "output_type": "execute_result"
    }
   ],
   "source": [
    "l[::-1]"
   ]
  },
  {
   "cell_type": "code",
   "execution_count": 105,
   "id": "c6df08f6",
   "metadata": {},
   "outputs": [
    {
     "data": {
      "text/plain": [
       "['syed', 26, 6, 26, 25, [265, 254, 66]]"
      ]
     },
     "execution_count": 105,
     "metadata": {},
     "output_type": "execute_result"
    }
   ],
   "source": [
    "l"
   ]
  },
  {
   "cell_type": "code",
   "execution_count": 106,
   "id": "7b9cdab1",
   "metadata": {},
   "outputs": [],
   "source": [
    "s= \"syed\""
   ]
  },
  {
   "cell_type": "code",
   "execution_count": 107,
   "id": "6ff4d189",
   "metadata": {},
   "outputs": [
    {
     "ename": "TypeError",
     "evalue": "can only concatenate list (not \"str\") to list",
     "output_type": "error",
     "traceback": [
      "\u001b[1;31m---------------------------------------------------------------------------\u001b[0m",
      "\u001b[1;31mTypeError\u001b[0m                                 Traceback (most recent call last)",
      "\u001b[1;32m~\\AppData\\Local\\Temp/ipykernel_12952/1070001606.py\u001b[0m in \u001b[0;36m<module>\u001b[1;34m\u001b[0m\n\u001b[1;32m----> 1\u001b[1;33m \u001b[0ml\u001b[0m \u001b[1;33m+\u001b[0m \u001b[0ms\u001b[0m\u001b[1;33m\u001b[0m\u001b[1;33m\u001b[0m\u001b[0m\n\u001b[0m",
      "\u001b[1;31mTypeError\u001b[0m: can only concatenate list (not \"str\") to list"
     ]
    }
   ],
   "source": [
    "l + s"
   ]
  },
  {
   "cell_type": "code",
   "execution_count": 108,
   "id": "1d0fa118",
   "metadata": {},
   "outputs": [],
   "source": [
    "s = \"syed\"\n",
    "s = list(s)"
   ]
  },
  {
   "cell_type": "code",
   "execution_count": 109,
   "id": "42154406",
   "metadata": {},
   "outputs": [
    {
     "data": {
      "text/plain": [
       "['syed', 26, 6, 26, 25, [265, 254, 66], 's', 'y', 'e', 'd']"
      ]
     },
     "execution_count": 109,
     "metadata": {},
     "output_type": "execute_result"
    }
   ],
   "source": [
    "l + s"
   ]
  },
  {
   "cell_type": "code",
   "execution_count": 110,
   "id": "a320182a",
   "metadata": {},
   "outputs": [],
   "source": [
    "s = [\"syed\"]"
   ]
  },
  {
   "cell_type": "code",
   "execution_count": 111,
   "id": "760bc64a",
   "metadata": {},
   "outputs": [
    {
     "data": {
      "text/plain": [
       "['syed', 26, 6, 26, 25, [265, 254, 66], 'syed']"
      ]
     },
     "execution_count": 111,
     "metadata": {},
     "output_type": "execute_result"
    }
   ],
   "source": [
    "l + s"
   ]
  },
  {
   "cell_type": "code",
   "execution_count": 113,
   "id": "9a7b8fa4",
   "metadata": {},
   "outputs": [
    {
     "data": {
      "text/plain": [
       "['syed', 26, 6, 26, 25, [265, 254, 66], 'syed', 26, 6, 26, 25, [265, 254, 66]]"
      ]
     },
     "execution_count": 113,
     "metadata": {},
     "output_type": "execute_result"
    }
   ],
   "source": [
    "l * 2"
   ]
  },
  {
   "cell_type": "code",
   "execution_count": 114,
   "id": "9ab45523",
   "metadata": {},
   "outputs": [
    {
     "data": {
      "text/plain": [
       "6"
      ]
     },
     "execution_count": 114,
     "metadata": {},
     "output_type": "execute_result"
    }
   ],
   "source": [
    "len(l)"
   ]
  },
  {
   "cell_type": "code",
   "execution_count": 115,
   "id": "078dfcc1",
   "metadata": {},
   "outputs": [
    {
     "data": {
      "text/plain": [
       "['syed', 26, 6, 26, 25, [265, 254, 66]]"
      ]
     },
     "execution_count": 115,
     "metadata": {},
     "output_type": "execute_result"
    }
   ],
   "source": [
    "l"
   ]
  },
  {
   "cell_type": "code",
   "execution_count": 116,
   "id": "2a6eb60f",
   "metadata": {},
   "outputs": [
    {
     "data": {
      "text/plain": [
       "True"
      ]
     },
     "execution_count": 116,
     "metadata": {},
     "output_type": "execute_result"
    }
   ],
   "source": [
    "\"syed\" in l"
   ]
  },
  {
   "cell_type": "code",
   "execution_count": 117,
   "id": "3de251f4",
   "metadata": {},
   "outputs": [
    {
     "data": {
      "text/plain": [
       "False"
      ]
     },
     "execution_count": 117,
     "metadata": {},
     "output_type": "execute_result"
    }
   ],
   "source": [
    "\"26\" in l"
   ]
  },
  {
   "cell_type": "code",
   "execution_count": 118,
   "id": "350e778c",
   "metadata": {},
   "outputs": [
    {
     "data": {
      "text/plain": [
       "True"
      ]
     },
     "execution_count": 118,
     "metadata": {},
     "output_type": "execute_result"
    }
   ],
   "source": [
    "26 in l"
   ]
  },
  {
   "cell_type": "code",
   "execution_count": 119,
   "id": "57aea2b6",
   "metadata": {},
   "outputs": [
    {
     "data": {
      "text/plain": [
       "False"
      ]
     },
     "execution_count": 119,
     "metadata": {},
     "output_type": "execute_result"
    }
   ],
   "source": [
    "66776 in l"
   ]
  },
  {
   "cell_type": "code",
   "execution_count": null,
   "id": "297040bd",
   "metadata": {},
   "outputs": [],
   "source": []
  }
 ],
 "metadata": {
  "kernelspec": {
   "display_name": "Python 3 (ipykernel)",
   "language": "python",
   "name": "python3"
  },
  "language_info": {
   "codemirror_mode": {
    "name": "ipython",
    "version": 3
   },
   "file_extension": ".py",
   "mimetype": "text/x-python",
   "name": "python",
   "nbconvert_exporter": "python",
   "pygments_lexer": "ipython3",
   "version": "3.9.7"
  }
 },
 "nbformat": 4,
 "nbformat_minor": 5
}
